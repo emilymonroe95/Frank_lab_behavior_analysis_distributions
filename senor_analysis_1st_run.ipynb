{
 "cells": [
  {
   "cell_type": "markdown",
   "metadata": {},
   "source": [
    "# EM analysis Experimenting"
   ]
  },
  {
   "cell_type": "markdown",
   "metadata": {},
   "source": [
    "#### Run this at the beginning of every notebook"
   ]
  },
  {
   "cell_type": "code",
   "execution_count": 1,
   "metadata": {},
   "outputs": [],
   "source": [
    "%load_ext autoreload\n",
    "%autoreload 2"
   ]
  },
  {
   "cell_type": "markdown",
   "metadata": {},
   "source": [
    "#### importing data and reading in CSV "
   ]
  },
  {
   "cell_type": "code",
   "execution_count": 2,
   "metadata": {},
   "outputs": [
    {
     "data": {
      "text/html": [
       "<div>\n",
       "<style scoped>\n",
       "    .dataframe tbody tr th:only-of-type {\n",
       "        vertical-align: middle;\n",
       "    }\n",
       "\n",
       "    .dataframe tbody tr th {\n",
       "        vertical-align: top;\n",
       "    }\n",
       "\n",
       "    .dataframe thead th {\n",
       "        text-align: right;\n",
       "    }\n",
       "</style>\n",
       "<table border=\"1\" class=\"dataframe\">\n",
       "  <thead>\n",
       "    <tr style=\"text-align: right;\">\n",
       "      <th></th>\n",
       "      <th>Unnamed: 0</th>\n",
       "      <th>leaf</th>\n",
       "      <th>stem</th>\n",
       "      <th>reward</th>\n",
       "      <th>contingency</th>\n",
       "      <th>date</th>\n",
       "      <th>session</th>\n",
       "      <th>trial</th>\n",
       "    </tr>\n",
       "  </thead>\n",
       "  <tbody>\n",
       "    <tr>\n",
       "      <th>0</th>\n",
       "      <td>0</td>\n",
       "      <td>4</td>\n",
       "      <td>B</td>\n",
       "      <td>1</td>\n",
       "      <td>805020202050</td>\n",
       "      <td>20201028</td>\n",
       "      <td>1</td>\n",
       "      <td>0</td>\n",
       "    </tr>\n",
       "    <tr>\n",
       "      <th>1</th>\n",
       "      <td>1</td>\n",
       "      <td>1</td>\n",
       "      <td>A</td>\n",
       "      <td>0</td>\n",
       "      <td>805020202050</td>\n",
       "      <td>20201028</td>\n",
       "      <td>1</td>\n",
       "      <td>1</td>\n",
       "    </tr>\n",
       "    <tr>\n",
       "      <th>2</th>\n",
       "      <td>2</td>\n",
       "      <td>2</td>\n",
       "      <td>A</td>\n",
       "      <td>0</td>\n",
       "      <td>805020202050</td>\n",
       "      <td>20201028</td>\n",
       "      <td>1</td>\n",
       "      <td>2</td>\n",
       "    </tr>\n",
       "    <tr>\n",
       "      <th>3</th>\n",
       "      <td>3</td>\n",
       "      <td>3</td>\n",
       "      <td>B</td>\n",
       "      <td>1</td>\n",
       "      <td>805020202050</td>\n",
       "      <td>20201028</td>\n",
       "      <td>1</td>\n",
       "      <td>3</td>\n",
       "    </tr>\n",
       "    <tr>\n",
       "      <th>4</th>\n",
       "      <td>4</td>\n",
       "      <td>4</td>\n",
       "      <td>B</td>\n",
       "      <td>0</td>\n",
       "      <td>805020202050</td>\n",
       "      <td>20201028</td>\n",
       "      <td>1</td>\n",
       "      <td>4</td>\n",
       "    </tr>\n",
       "    <tr>\n",
       "      <th>...</th>\n",
       "      <td>...</td>\n",
       "      <td>...</td>\n",
       "      <td>...</td>\n",
       "      <td>...</td>\n",
       "      <td>...</td>\n",
       "      <td>...</td>\n",
       "      <td>...</td>\n",
       "      <td>...</td>\n",
       "    </tr>\n",
       "    <tr>\n",
       "      <th>13288</th>\n",
       "      <td>13288</td>\n",
       "      <td>2</td>\n",
       "      <td>A</td>\n",
       "      <td>1</td>\n",
       "      <td>508020208020</td>\n",
       "      <td>20201107</td>\n",
       "      <td>6</td>\n",
       "      <td>175</td>\n",
       "    </tr>\n",
       "    <tr>\n",
       "      <th>13289</th>\n",
       "      <td>13289</td>\n",
       "      <td>1</td>\n",
       "      <td>A</td>\n",
       "      <td>0</td>\n",
       "      <td>508020208020</td>\n",
       "      <td>20201107</td>\n",
       "      <td>6</td>\n",
       "      <td>176</td>\n",
       "    </tr>\n",
       "    <tr>\n",
       "      <th>13290</th>\n",
       "      <td>13290</td>\n",
       "      <td>2</td>\n",
       "      <td>A</td>\n",
       "      <td>0</td>\n",
       "      <td>508020208020</td>\n",
       "      <td>20201107</td>\n",
       "      <td>6</td>\n",
       "      <td>177</td>\n",
       "    </tr>\n",
       "    <tr>\n",
       "      <th>13291</th>\n",
       "      <td>13291</td>\n",
       "      <td>1</td>\n",
       "      <td>A</td>\n",
       "      <td>1</td>\n",
       "      <td>508020208020</td>\n",
       "      <td>20201107</td>\n",
       "      <td>6</td>\n",
       "      <td>178</td>\n",
       "    </tr>\n",
       "    <tr>\n",
       "      <th>13292</th>\n",
       "      <td>13292</td>\n",
       "      <td>2</td>\n",
       "      <td>A</td>\n",
       "      <td>1</td>\n",
       "      <td>508020208020</td>\n",
       "      <td>20201107</td>\n",
       "      <td>6</td>\n",
       "      <td>179</td>\n",
       "    </tr>\n",
       "  </tbody>\n",
       "</table>\n",
       "<p>13293 rows × 8 columns</p>\n",
       "</div>"
      ],
      "text/plain": [
       "       Unnamed: 0  leaf stem  reward   contingency      date  session  trial\n",
       "0               0     4    B       1  805020202050  20201028        1      0\n",
       "1               1     1    A       0  805020202050  20201028        1      1\n",
       "2               2     2    A       0  805020202050  20201028        1      2\n",
       "3               3     3    B       1  805020202050  20201028        1      3\n",
       "4               4     4    B       0  805020202050  20201028        1      4\n",
       "...           ...   ...  ...     ...           ...       ...      ...    ...\n",
       "13288       13288     2    A       1  508020208020  20201107        6    175\n",
       "13289       13289     1    A       0  508020208020  20201107        6    176\n",
       "13290       13290     2    A       0  508020208020  20201107        6    177\n",
       "13291       13291     1    A       1  508020208020  20201107        6    178\n",
       "13292       13292     2    A       1  508020208020  20201107        6    179\n",
       "\n",
       "[13293 rows x 8 columns]"
      ]
     },
     "execution_count": 2,
     "metadata": {},
     "output_type": "execute_result"
    }
   ],
   "source": [
    "import pandas as pd\n",
    "import numpy as np\n",
    "from matplotlib import pyplot as plt\n",
    "from matplotlib.pyplot import figure\n",
    "import statistics\n",
    "df = pd.read_csv (r'/home/emonroe/Downloads/20210531_toEM/behavior_csv/senor_clean_contingencies_only_parsed_data.csv')\n",
    "df #df is the dataframe containing the entire csv"
   ]
  },
  {
   "cell_type": "markdown",
   "metadata": {},
   "source": [
    "#### adding a day column using date column. \n"
   ]
  },
  {
   "cell_type": "code",
   "execution_count": 3,
   "metadata": {},
   "outputs": [
    {
     "data": {
      "text/html": [
       "<div>\n",
       "<style scoped>\n",
       "    .dataframe tbody tr th:only-of-type {\n",
       "        vertical-align: middle;\n",
       "    }\n",
       "\n",
       "    .dataframe tbody tr th {\n",
       "        vertical-align: top;\n",
       "    }\n",
       "\n",
       "    .dataframe thead th {\n",
       "        text-align: right;\n",
       "    }\n",
       "</style>\n",
       "<table border=\"1\" class=\"dataframe\">\n",
       "  <thead>\n",
       "    <tr style=\"text-align: right;\">\n",
       "      <th></th>\n",
       "      <th>Unnamed: 0</th>\n",
       "      <th>leaf</th>\n",
       "      <th>stem</th>\n",
       "      <th>reward</th>\n",
       "      <th>contingency</th>\n",
       "      <th>date</th>\n",
       "      <th>session</th>\n",
       "      <th>trial</th>\n",
       "      <th>day</th>\n",
       "      <th>cont_num</th>\n",
       "    </tr>\n",
       "  </thead>\n",
       "  <tbody>\n",
       "    <tr>\n",
       "      <th>0</th>\n",
       "      <td>0</td>\n",
       "      <td>4</td>\n",
       "      <td>B</td>\n",
       "      <td>1</td>\n",
       "      <td>805020202050</td>\n",
       "      <td>20201028</td>\n",
       "      <td>1</td>\n",
       "      <td>0</td>\n",
       "      <td>1</td>\n",
       "      <td>1</td>\n",
       "    </tr>\n",
       "    <tr>\n",
       "      <th>1</th>\n",
       "      <td>1</td>\n",
       "      <td>1</td>\n",
       "      <td>A</td>\n",
       "      <td>0</td>\n",
       "      <td>805020202050</td>\n",
       "      <td>20201028</td>\n",
       "      <td>1</td>\n",
       "      <td>1</td>\n",
       "      <td>1</td>\n",
       "      <td>1</td>\n",
       "    </tr>\n",
       "    <tr>\n",
       "      <th>2</th>\n",
       "      <td>2</td>\n",
       "      <td>2</td>\n",
       "      <td>A</td>\n",
       "      <td>0</td>\n",
       "      <td>805020202050</td>\n",
       "      <td>20201028</td>\n",
       "      <td>1</td>\n",
       "      <td>2</td>\n",
       "      <td>1</td>\n",
       "      <td>1</td>\n",
       "    </tr>\n",
       "    <tr>\n",
       "      <th>3</th>\n",
       "      <td>3</td>\n",
       "      <td>3</td>\n",
       "      <td>B</td>\n",
       "      <td>1</td>\n",
       "      <td>805020202050</td>\n",
       "      <td>20201028</td>\n",
       "      <td>1</td>\n",
       "      <td>3</td>\n",
       "      <td>1</td>\n",
       "      <td>1</td>\n",
       "    </tr>\n",
       "    <tr>\n",
       "      <th>4</th>\n",
       "      <td>4</td>\n",
       "      <td>4</td>\n",
       "      <td>B</td>\n",
       "      <td>0</td>\n",
       "      <td>805020202050</td>\n",
       "      <td>20201028</td>\n",
       "      <td>1</td>\n",
       "      <td>4</td>\n",
       "      <td>1</td>\n",
       "      <td>1</td>\n",
       "    </tr>\n",
       "    <tr>\n",
       "      <th>...</th>\n",
       "      <td>...</td>\n",
       "      <td>...</td>\n",
       "      <td>...</td>\n",
       "      <td>...</td>\n",
       "      <td>...</td>\n",
       "      <td>...</td>\n",
       "      <td>...</td>\n",
       "      <td>...</td>\n",
       "      <td>...</td>\n",
       "      <td>...</td>\n",
       "    </tr>\n",
       "    <tr>\n",
       "      <th>13288</th>\n",
       "      <td>13288</td>\n",
       "      <td>2</td>\n",
       "      <td>A</td>\n",
       "      <td>1</td>\n",
       "      <td>508020208020</td>\n",
       "      <td>20201107</td>\n",
       "      <td>6</td>\n",
       "      <td>175</td>\n",
       "      <td>11</td>\n",
       "      <td>3</td>\n",
       "    </tr>\n",
       "    <tr>\n",
       "      <th>13289</th>\n",
       "      <td>13289</td>\n",
       "      <td>1</td>\n",
       "      <td>A</td>\n",
       "      <td>0</td>\n",
       "      <td>508020208020</td>\n",
       "      <td>20201107</td>\n",
       "      <td>6</td>\n",
       "      <td>176</td>\n",
       "      <td>11</td>\n",
       "      <td>3</td>\n",
       "    </tr>\n",
       "    <tr>\n",
       "      <th>13290</th>\n",
       "      <td>13290</td>\n",
       "      <td>2</td>\n",
       "      <td>A</td>\n",
       "      <td>0</td>\n",
       "      <td>508020208020</td>\n",
       "      <td>20201107</td>\n",
       "      <td>6</td>\n",
       "      <td>177</td>\n",
       "      <td>11</td>\n",
       "      <td>3</td>\n",
       "    </tr>\n",
       "    <tr>\n",
       "      <th>13291</th>\n",
       "      <td>13291</td>\n",
       "      <td>1</td>\n",
       "      <td>A</td>\n",
       "      <td>1</td>\n",
       "      <td>508020208020</td>\n",
       "      <td>20201107</td>\n",
       "      <td>6</td>\n",
       "      <td>178</td>\n",
       "      <td>11</td>\n",
       "      <td>3</td>\n",
       "    </tr>\n",
       "    <tr>\n",
       "      <th>13292</th>\n",
       "      <td>13292</td>\n",
       "      <td>2</td>\n",
       "      <td>A</td>\n",
       "      <td>1</td>\n",
       "      <td>508020208020</td>\n",
       "      <td>20201107</td>\n",
       "      <td>6</td>\n",
       "      <td>179</td>\n",
       "      <td>11</td>\n",
       "      <td>3</td>\n",
       "    </tr>\n",
       "  </tbody>\n",
       "</table>\n",
       "<p>13293 rows × 10 columns</p>\n",
       "</div>"
      ],
      "text/plain": [
       "       Unnamed: 0  leaf stem  reward   contingency      date  session  trial  \\\n",
       "0               0     4    B       1  805020202050  20201028        1      0   \n",
       "1               1     1    A       0  805020202050  20201028        1      1   \n",
       "2               2     2    A       0  805020202050  20201028        1      2   \n",
       "3               3     3    B       1  805020202050  20201028        1      3   \n",
       "4               4     4    B       0  805020202050  20201028        1      4   \n",
       "...           ...   ...  ...     ...           ...       ...      ...    ...   \n",
       "13288       13288     2    A       1  508020208020  20201107        6    175   \n",
       "13289       13289     1    A       0  508020208020  20201107        6    176   \n",
       "13290       13290     2    A       0  508020208020  20201107        6    177   \n",
       "13291       13291     1    A       1  508020208020  20201107        6    178   \n",
       "13292       13292     2    A       1  508020208020  20201107        6    179   \n",
       "\n",
       "       day  cont_num  \n",
       "0        1         1  \n",
       "1        1         1  \n",
       "2        1         1  \n",
       "3        1         1  \n",
       "4        1         1  \n",
       "...    ...       ...  \n",
       "13288   11         3  \n",
       "13289   11         3  \n",
       "13290   11         3  \n",
       "13291   11         3  \n",
       "13292   11         3  \n",
       "\n",
       "[13293 rows x 10 columns]"
      ]
     },
     "execution_count": 3,
     "metadata": {},
     "output_type": "execute_result"
    }
   ],
   "source": [
    "df['day']= df['date'].ne(df['date'].shift()).cumsum()\n",
    "df['diff_cont'] = df['contingency'].ne(df['contingency'].shift())\n",
    "df['cont_num'] = df.groupby(['day','session'])['diff_cont'].cumsum()\n",
    "del df['diff_cont']\n",
    "df\n",
    "# #find the difference between dates, make a new column in df with the day of the experiment \n",
    "# df['day'] = \"\"\n",
    "# df[\"dateChange\"] = df['date'].diff()\n",
    "# #new df for when diff in dates = 1\n",
    "# len_dateChange = df[(df['dateChange']==1)]\n",
    "#len_dateChange\n",
    "\n",
    "#  #(okay does not like ix= 9)\n",
    "# for ix in range(0,len(len_dateChange)+1):  \n",
    "#     if ix ==0:\n",
    "#         day_ix= len_dateChange.iloc[ix, 0]\n",
    "#         new= df.index < day_ix        \n",
    "#         df.loc[new, 'day'] = ix+1\n",
    "#     elif ix < (len(len_dateChange)): \n",
    "#         new = (df.index < len_dateChange.iloc[ix,0]) & (df.index>= len_dateChange.iloc[ix-1, 0])# (a bunch of print statements, what is it right before it breaks)\n",
    "#         df.loc[new, 'day'] = ix+1\n",
    "#     elif ix >= (len(len_dateChange)):\n",
    "#         new = (df.index >= len_dateChange.iloc[ix-1,0]) # (a bunch of print statements, what is it right before it breaks)\n",
    "#         df.loc[new, 'day'] = ix+1\n",
    "# del df['dateChange']\n",
    "# df"
   ]
  },
  {
   "cell_type": "code",
   "execution_count": 4,
   "metadata": {},
   "outputs": [],
   "source": [
    "#makes new dataframes for the first session of both the first and last day\n",
    "firstday_firstsesh= df[(df['day'] == 1) & (df['session'] == 1)]\n",
    "lastday_firstsesh = df[(df['day'] == 11) & (df['session'] == 1)]\n"
   ]
  },
  {
   "cell_type": "markdown",
   "metadata": {},
   "source": [
    "## Plotting!"
   ]
  },
  {
   "cell_type": "code",
   "execution_count": 5,
   "metadata": {},
   "outputs": [
    {
     "data": {
      "text/plain": [
       "<matplotlib.lines.Line2D at 0x7f773d15b700>"
      ]
     },
     "execution_count": 5,
     "metadata": {},
     "output_type": "execute_result"
    },
    {
     "data": {
      "image/png": "[encoded data removed]",
      "text/plain": [
       "<Figure size 1200x480 with 1 Axes>"
      ]
     },
     "metadata": {
      "needs_background": "light"
     },
     "output_type": "display_data"
    }
   ],
   "source": [
    "figure(figsize=(15, 6), dpi=80)\n",
    "plt.scatter(firstday_firstsesh[firstday_firstsesh.columns[0]], firstday_firstsesh[firstday_firstsesh.columns[1]])\n",
    "plt.title(\"visits to each leaf day1 epoch 1\")\n",
    "plt.xlabel(\"trial #\")\n",
    "plt.ylabel(\"leaf visited\")\n",
    "plt.axvline(60, 0, 6, label='end contin')\n",
    "plt.axvline(120, 0, 6, label='pyplot vertical line')"
   ]
  },
  {
   "cell_type": "code",
   "execution_count": null,
   "metadata": {},
   "outputs": [],
   "source": [
    "#This cell will currently plot every single stem visited during expt\n",
    "#plt.scatter(df[df.columns[0]], df[df.columns[1]], linewidth=.5, marker = \"x\" )"
   ]
  },
  {
   "cell_type": "code",
   "execution_count": 6,
   "metadata": {},
   "outputs": [
    {
     "data": {
      "text/plain": [
       "<matplotlib.lines.Line2D at 0x7f773c396c10>"
      ]
     },
     "execution_count": 6,
     "metadata": {},
     "output_type": "execute_result"
    },
    {
     "data": {
      "image/png": "[encoded data removed]",
      "text/plain": [
       "<Figure size 1200x480 with 1 Axes>"
      ]
     },
     "metadata": {
      "needs_background": "light"
     },
     "output_type": "display_data"
    }
   ],
   "source": [
    "figure(figsize=(15, 6), dpi=80)\n",
    "plt.scatter(lastday_firstsesh[lastday_firstsesh.columns[7]], lastday_firstsesh[lastday_firstsesh.columns[1]])\n",
    "plt.title(\"visits to each leaf last day run 1\")\n",
    "plt.xlabel(\"trial #\")\n",
    "plt.ylabel(\"leaf visited\")\n",
    "plt.axvline(60, 0, 6, label='end contin')\n",
    "plt.axvline(120, 0, 6, label='pyplot vertical line')"
   ]
  },
  {
   "cell_type": "markdown",
   "metadata": {},
   "source": [
    "### Finding how many trials spent at each stem "
   ]
  },
  {
   "cell_type": "code",
   "execution_count": 7,
   "metadata": {},
   "outputs": [
    {
     "name": "stdout",
     "output_type": "stream",
     "text": [
      "180\n"
     ]
    }
   ],
   "source": [
    "num_trials_A = firstday_firstsesh [(firstday_firstsesh['stem'] == 'A')]\n",
    "num_trials_B = firstday_firstsesh [(firstday_firstsesh['stem'] == 'B')]\n",
    "num_trials_C = firstday_firstsesh [(firstday_firstsesh['stem'] == 'C')]\n",
    "A = len(num_trials_A)\n",
    "B = len(num_trials_B)\n",
    "C = len(num_trials_C)\n",
    "print(A + B + C)"
   ]
  },
  {
   "cell_type": "code",
   "execution_count": 8,
   "metadata": {},
   "outputs": [
    {
     "data": {
      "text/plain": [
       "Text(0, 0.5, 'num visits')"
      ]
     },
     "execution_count": 8,
     "metadata": {},
     "output_type": "execute_result"
    },
    {
     "data": {
      "image/png": "[encoded data removed]",
      "text/plain": [
       "<Figure size 1200x480 with 1 Axes>"
      ]
     },
     "metadata": {
      "needs_background": "light"
     },
     "output_type": "display_data"
    }
   ],
   "source": [
    "figure(figsize=(15, 6), dpi=80)\n",
    "stems = ['A', 'B', 'C']\n",
    "visits = [A, B, C]\n",
    "plt.bar(stems, visits)\n",
    "plt.title('Num visits to each stem D1E1')\n",
    "plt.xlabel('Stem')\n",
    "plt.ylabel('num visits')"
   ]
  },
  {
   "cell_type": "markdown",
   "metadata": {},
   "source": [
    "### Finding num rewards at each stem"
   ]
  },
  {
   "cell_type": "code",
   "execution_count": 9,
   "metadata": {},
   "outputs": [
    {
     "name": "stdout",
     "output_type": "stream",
     "text": [
      "79\n"
     ]
    },
    {
     "data": {
      "text/plain": [
       "Text(0, 0.5, 'num rew')"
      ]
     },
     "execution_count": 9,
     "metadata": {},
     "output_type": "execute_result"
    },
    {
     "data": {
      "image/png": "[encoded data removed]",
      "text/plain": [
       "<Figure size 1200x480 with 1 Axes>"
      ]
     },
     "metadata": {
      "needs_background": "light"
     },
     "output_type": "display_data"
    }
   ],
   "source": [
    "num_rews_A = firstday_firstsesh [(firstday_firstsesh['reward'] == 1) & (firstday_firstsesh['stem'] == 'A')]\n",
    "num_rews_B = firstday_firstsesh [(firstday_firstsesh['reward'] == 1) & (firstday_firstsesh['stem'] == 'B')]\n",
    "num_rews_C = firstday_firstsesh [(firstday_firstsesh['reward'] == 1) & (firstday_firstsesh['stem'] == 'C')]\n",
    "rA = len(num_rews_A)\n",
    "rB = len(num_rews_B)\n",
    "rC = len(num_rews_C)\n",
    "print(rA + rB + rC)\n",
    "\n",
    "figure(figsize=(15, 6), dpi=80)\n",
    "stems = ['A', 'B', 'C']\n",
    "rewards = [rA, rB, rC]\n",
    "plt.bar(stems, rewards)\n",
    "plt.title('Num rews at each stem D1E1')\n",
    "plt.xlabel('Stem')\n",
    "plt.ylabel('num rew')"
   ]
  },
  {
   "cell_type": "code",
   "execution_count": 10,
   "metadata": {},
   "outputs": [
    {
     "data": {
      "text/plain": [
       "Text(0, 0.5, 'num rew at that stem')"
      ]
     },
     "execution_count": 10,
     "metadata": {},
     "output_type": "execute_result"
    },
    {
     "data": {
      "image/png": "[encoded data removed]",
      "text/plain": [
       "<Figure size 432x288 with 1 Axes>"
      ]
     },
     "metadata": {
      "needs_background": "light"
     },
     "output_type": "display_data"
    }
   ],
   "source": [
    "#want to correlate visits with reward at stem \n",
    "plt.scatter(visits, rewards)\n",
    "plt.title('Rewards versus visits to each stem_ first day, firstsesh ')\n",
    "plt.xlabel('# visits to the stem')\n",
    "plt.ylabel('num rew at that stem')\n",
    "#would be nice to make a big version of this for every session. #could also break it up by contingemcy."
   ]
  },
  {
   "cell_type": "markdown",
   "metadata": {},
   "source": [
    "## rew rate calculation"
   ]
  },
  {
   "cell_type": "markdown",
   "metadata": {},
   "source": [
    "### rew rate all (rew) and only first part(rew_smaller) for plot\n"
   ]
  },
  {
   "cell_type": "code",
   "execution_count": 11,
   "metadata": {
    "scrolled": true
   },
   "outputs": [
    {
     "data": {
      "text/plain": [
       "Text(0, 0.5, 'Avg Rew Rate')"
      ]
     },
     "execution_count": 11,
     "metadata": {},
     "output_type": "execute_result"
    },
    {
     "data": {
      "image/png": "[encoded data removed]",
      "text/plain": [
       "<Figure size 1600x480 with 1 Axes>"
      ]
     },
     "metadata": {
      "needs_background": "light"
     },
     "output_type": "display_data"
    }
   ],
   "source": [
    "figure(figsize=(20, 6), dpi=80)\n",
    "rew = firstday_firstsesh.iloc[ :, 3]\n",
    "rew_smaller = firstday_firstsesh.iloc[ :100, 3]\n",
    "#rew_all = firstday_firstsesh.iloc[]\n",
    "rew_rate = rew_smaller.rolling(window=5).mean()\n",
    "plt.plot(rew_rate, label = 'avg rew rate')\n",
    "plt.plot(rew_smaller, 'rx', label = 'reward=binary')\n",
    "plt.title(\"recent rew rate with rolling average, window=5\")\n",
    "plt.xlabel(\"trial\")\n",
    "plt.ylabel(\"Avg Rew Rate\")"
   ]
  },
  {
   "cell_type": "markdown",
   "metadata": {},
   "source": [
    "### Adding column of rew rate to firstday_firstsesh"
   ]
  },
  {
   "cell_type": "code",
   "execution_count": 12,
   "metadata": {},
   "outputs": [
    {
     "name": "stderr",
     "output_type": "stream",
     "text": [
      "<ipython-input-12-38b188eac5f5>:1: SettingWithCopyWarning: \n",
      "A value is trying to be set on a copy of a slice from a DataFrame.\n",
      "Try using .loc[row_indexer,col_indexer] = value instead\n",
      "\n",
      "See the caveats in the documentation: https://pandas.pydata.org/pandas-docs/stable/user_guide/indexing.html#returning-a-view-versus-a-copy\n",
      "  firstday_firstsesh['Rew_Rate_all'] = \"\"\n",
      "/home/emonroe/miniconda2/envs/Analysis_EM/lib/python3.9/site-packages/pandas/core/indexing.py:1676: SettingWithCopyWarning: \n",
      "A value is trying to be set on a copy of a slice from a DataFrame.\n",
      "Try using .loc[row_indexer,col_indexer] = value instead\n",
      "\n",
      "See the caveats in the documentation: https://pandas.pydata.org/pandas-docs/stable/user_guide/indexing.html#returning-a-view-versus-a-copy\n",
      "  self._setitem_single_column(ilocs[0], value, pi)\n"
     ]
    }
   ],
   "source": [
    "firstday_firstsesh['Rew_Rate_all'] = \"\"\n",
    "rew_rate_all = rew.rolling(window=5).mean()\n",
    "# type(rew_rate_all)\n",
    "firstday_firstsesh.loc[:,'Rew_Rate_all'] = rew_rate_all\n",
    "#firstday_firstsesh['Rew_Rate_all'] = firstday_firstsesh['Rew_Rate_all'].astype(float)\n",
    "#firstday_firstsesh.plot(x='trial',y='Rew_Rate_all') #the reason i plotted is bc last values on df are 0? "
   ]
  },
  {
   "cell_type": "markdown",
   "metadata": {},
   "source": [
    "### calculate rew rates @ each stem\n"
   ]
  },
  {
   "cell_type": "code",
   "execution_count": 13,
   "metadata": {
    "scrolled": true
   },
   "outputs": [
    {
     "name": "stderr",
     "output_type": "stream",
     "text": [
      "/home/emonroe/miniconda2/envs/Analysis_EM/lib/python3.9/site-packages/pandas/core/indexing.py:1599: SettingWithCopyWarning: \n",
      "A value is trying to be set on a copy of a slice from a DataFrame.\n",
      "Try using .loc[row_indexer,col_indexer] = value instead\n",
      "\n",
      "See the caveats in the documentation: https://pandas.pydata.org/pandas-docs/stable/user_guide/indexing.html#returning-a-view-versus-a-copy\n",
      "  self.obj[key] = infer_fill_value(value)\n"
     ]
    },
    {
     "data": {
      "text/html": [
       "<div>\n",
       "<style scoped>\n",
       "    .dataframe tbody tr th:only-of-type {\n",
       "        vertical-align: middle;\n",
       "    }\n",
       "\n",
       "    .dataframe tbody tr th {\n",
       "        vertical-align: top;\n",
       "    }\n",
       "\n",
       "    .dataframe thead th {\n",
       "        text-align: right;\n",
       "    }\n",
       "</style>\n",
       "<table border=\"1\" class=\"dataframe\">\n",
       "  <thead>\n",
       "    <tr style=\"text-align: right;\">\n",
       "      <th></th>\n",
       "      <th>Unnamed: 0</th>\n",
       "      <th>leaf</th>\n",
       "      <th>stem</th>\n",
       "      <th>reward</th>\n",
       "      <th>contingency</th>\n",
       "      <th>date</th>\n",
       "      <th>session</th>\n",
       "      <th>trial</th>\n",
       "      <th>day</th>\n",
       "      <th>cont_num</th>\n",
       "      <th>Rew_Rate_all</th>\n",
       "      <th>rew_rate_A</th>\n",
       "      <th>rew_rate_B</th>\n",
       "      <th>rew_rate_C</th>\n",
       "    </tr>\n",
       "  </thead>\n",
       "  <tbody>\n",
       "    <tr>\n",
       "      <th>0</th>\n",
       "      <td>0</td>\n",
       "      <td>4</td>\n",
       "      <td>B</td>\n",
       "      <td>1</td>\n",
       "      <td>805020202050</td>\n",
       "      <td>20201028</td>\n",
       "      <td>1</td>\n",
       "      <td>0</td>\n",
       "      <td>1</td>\n",
       "      <td>1</td>\n",
       "      <td>NaN</td>\n",
       "      <td>NaN</td>\n",
       "      <td>NaN</td>\n",
       "      <td>NaN</td>\n",
       "    </tr>\n",
       "    <tr>\n",
       "      <th>1</th>\n",
       "      <td>1</td>\n",
       "      <td>1</td>\n",
       "      <td>A</td>\n",
       "      <td>0</td>\n",
       "      <td>805020202050</td>\n",
       "      <td>20201028</td>\n",
       "      <td>1</td>\n",
       "      <td>1</td>\n",
       "      <td>1</td>\n",
       "      <td>1</td>\n",
       "      <td>NaN</td>\n",
       "      <td>NaN</td>\n",
       "      <td>NaN</td>\n",
       "      <td>NaN</td>\n",
       "    </tr>\n",
       "    <tr>\n",
       "      <th>2</th>\n",
       "      <td>2</td>\n",
       "      <td>2</td>\n",
       "      <td>A</td>\n",
       "      <td>0</td>\n",
       "      <td>805020202050</td>\n",
       "      <td>20201028</td>\n",
       "      <td>1</td>\n",
       "      <td>2</td>\n",
       "      <td>1</td>\n",
       "      <td>1</td>\n",
       "      <td>NaN</td>\n",
       "      <td>NaN</td>\n",
       "      <td>NaN</td>\n",
       "      <td>NaN</td>\n",
       "    </tr>\n",
       "    <tr>\n",
       "      <th>3</th>\n",
       "      <td>3</td>\n",
       "      <td>3</td>\n",
       "      <td>B</td>\n",
       "      <td>1</td>\n",
       "      <td>805020202050</td>\n",
       "      <td>20201028</td>\n",
       "      <td>1</td>\n",
       "      <td>3</td>\n",
       "      <td>1</td>\n",
       "      <td>1</td>\n",
       "      <td>NaN</td>\n",
       "      <td>NaN</td>\n",
       "      <td>NaN</td>\n",
       "      <td>NaN</td>\n",
       "    </tr>\n",
       "    <tr>\n",
       "      <th>4</th>\n",
       "      <td>4</td>\n",
       "      <td>4</td>\n",
       "      <td>B</td>\n",
       "      <td>0</td>\n",
       "      <td>805020202050</td>\n",
       "      <td>20201028</td>\n",
       "      <td>1</td>\n",
       "      <td>4</td>\n",
       "      <td>1</td>\n",
       "      <td>1</td>\n",
       "      <td>0.4</td>\n",
       "      <td>NaN</td>\n",
       "      <td>0.666667</td>\n",
       "      <td>NaN</td>\n",
       "    </tr>\n",
       "    <tr>\n",
       "      <th>...</th>\n",
       "      <td>...</td>\n",
       "      <td>...</td>\n",
       "      <td>...</td>\n",
       "      <td>...</td>\n",
       "      <td>...</td>\n",
       "      <td>...</td>\n",
       "      <td>...</td>\n",
       "      <td>...</td>\n",
       "      <td>...</td>\n",
       "      <td>...</td>\n",
       "      <td>...</td>\n",
       "      <td>...</td>\n",
       "      <td>...</td>\n",
       "      <td>...</td>\n",
       "    </tr>\n",
       "    <tr>\n",
       "      <th>175</th>\n",
       "      <td>175</td>\n",
       "      <td>1</td>\n",
       "      <td>A</td>\n",
       "      <td>0</td>\n",
       "      <td>208050802020</td>\n",
       "      <td>20201028</td>\n",
       "      <td>1</td>\n",
       "      <td>175</td>\n",
       "      <td>1</td>\n",
       "      <td>3</td>\n",
       "      <td>0.2</td>\n",
       "      <td>0.000000</td>\n",
       "      <td>NaN</td>\n",
       "      <td>NaN</td>\n",
       "    </tr>\n",
       "    <tr>\n",
       "      <th>176</th>\n",
       "      <td>176</td>\n",
       "      <td>2</td>\n",
       "      <td>A</td>\n",
       "      <td>0</td>\n",
       "      <td>208050802020</td>\n",
       "      <td>20201028</td>\n",
       "      <td>1</td>\n",
       "      <td>176</td>\n",
       "      <td>1</td>\n",
       "      <td>3</td>\n",
       "      <td>0.2</td>\n",
       "      <td>0.000000</td>\n",
       "      <td>NaN</td>\n",
       "      <td>NaN</td>\n",
       "    </tr>\n",
       "    <tr>\n",
       "      <th>177</th>\n",
       "      <td>177</td>\n",
       "      <td>1</td>\n",
       "      <td>A</td>\n",
       "      <td>0</td>\n",
       "      <td>208050802020</td>\n",
       "      <td>20201028</td>\n",
       "      <td>1</td>\n",
       "      <td>177</td>\n",
       "      <td>1</td>\n",
       "      <td>3</td>\n",
       "      <td>0.0</td>\n",
       "      <td>0.000000</td>\n",
       "      <td>NaN</td>\n",
       "      <td>NaN</td>\n",
       "    </tr>\n",
       "    <tr>\n",
       "      <th>178</th>\n",
       "      <td>178</td>\n",
       "      <td>2</td>\n",
       "      <td>A</td>\n",
       "      <td>1</td>\n",
       "      <td>208050802020</td>\n",
       "      <td>20201028</td>\n",
       "      <td>1</td>\n",
       "      <td>178</td>\n",
       "      <td>1</td>\n",
       "      <td>3</td>\n",
       "      <td>0.2</td>\n",
       "      <td>0.333333</td>\n",
       "      <td>NaN</td>\n",
       "      <td>NaN</td>\n",
       "    </tr>\n",
       "    <tr>\n",
       "      <th>179</th>\n",
       "      <td>179</td>\n",
       "      <td>1</td>\n",
       "      <td>A</td>\n",
       "      <td>0</td>\n",
       "      <td>208050802020</td>\n",
       "      <td>20201028</td>\n",
       "      <td>1</td>\n",
       "      <td>179</td>\n",
       "      <td>1</td>\n",
       "      <td>3</td>\n",
       "      <td>0.2</td>\n",
       "      <td>0.333333</td>\n",
       "      <td>NaN</td>\n",
       "      <td>NaN</td>\n",
       "    </tr>\n",
       "  </tbody>\n",
       "</table>\n",
       "<p>180 rows × 14 columns</p>\n",
       "</div>"
      ],
      "text/plain": [
       "     Unnamed: 0  leaf stem  reward   contingency      date  session  trial  \\\n",
       "0             0     4    B       1  805020202050  20201028        1      0   \n",
       "1             1     1    A       0  805020202050  20201028        1      1   \n",
       "2             2     2    A       0  805020202050  20201028        1      2   \n",
       "3             3     3    B       1  805020202050  20201028        1      3   \n",
       "4             4     4    B       0  805020202050  20201028        1      4   \n",
       "..          ...   ...  ...     ...           ...       ...      ...    ...   \n",
       "175         175     1    A       0  208050802020  20201028        1    175   \n",
       "176         176     2    A       0  208050802020  20201028        1    176   \n",
       "177         177     1    A       0  208050802020  20201028        1    177   \n",
       "178         178     2    A       1  208050802020  20201028        1    178   \n",
       "179         179     1    A       0  208050802020  20201028        1    179   \n",
       "\n",
       "     day  cont_num  Rew_Rate_all  rew_rate_A  rew_rate_B  rew_rate_C  \n",
       "0      1         1           NaN         NaN         NaN         NaN  \n",
       "1      1         1           NaN         NaN         NaN         NaN  \n",
       "2      1         1           NaN         NaN         NaN         NaN  \n",
       "3      1         1           NaN         NaN         NaN         NaN  \n",
       "4      1         1           0.4         NaN    0.666667         NaN  \n",
       "..   ...       ...           ...         ...         ...         ...  \n",
       "175    1         3           0.2    0.000000         NaN         NaN  \n",
       "176    1         3           0.2    0.000000         NaN         NaN  \n",
       "177    1         3           0.0    0.000000         NaN         NaN  \n",
       "178    1         3           0.2    0.333333         NaN         NaN  \n",
       "179    1         3           0.2    0.333333         NaN         NaN  \n",
       "\n",
       "[180 rows x 14 columns]"
      ]
     },
     "execution_count": 13,
     "metadata": {},
     "output_type": "execute_result"
    },
    {
     "data": {
      "image/png": "[encoded data removed]",
      "text/plain": [
       "<Figure size 1200x480 with 1 Axes>"
      ]
     },
     "metadata": {
      "needs_background": "light"
     },
     "output_type": "display_data"
    }
   ],
   "source": [
    "firstday_firstsesh.rew_rate_A = 0 #type = int now. \n",
    "firstday_firstsesh.rew_rate_B = 0\n",
    "firstday_firstsesh.rew_rate_C = 0\n",
    "\n",
    "\n",
    "\n",
    "rewA = firstday_firstsesh.loc[firstday_firstsesh['stem'] =='A']['reward']\n",
    "rew_rateA = rewA.rolling(window=3).mean()\n",
    "firstday_firstsesh.loc[firstday_firstsesh.stem =='A', 'rew_rate_A'] = rew_rateA\n",
    "rewB = firstday_firstsesh.loc[firstday_firstsesh['stem'] =='B']['reward']\n",
    "rew_rateB = rewB.rolling(window=3).mean()\n",
    "firstday_firstsesh.loc[firstday_firstsesh.stem =='B', 'rew_rate_B'] = rew_rateB\n",
    "rewC = firstday_firstsesh.loc[firstday_firstsesh['stem'] =='C']['reward']\n",
    "rew_rateC = rewC.rolling(window=3).mean()\n",
    "firstday_firstsesh.loc[firstday_firstsesh.stem =='C', 'rew_rate_C'] = rew_rateC\n",
    "\n",
    "figure(figsize=(15, 6), dpi=80)\n",
    "#Plotting each of these overlayed which looks awful i know, thinking about a more relevent way to visualize \n",
    "plt.plot(rew_rateA, 'x', label = \"rewRateA\")\n",
    "plt.plot(rew_rateB, 'x', label = \"rewRateB\")\n",
    "plt.plot(rew_rateC, 'x', label = \"rewRateC\")\n",
    "\n",
    "\n",
    "plt.title('Rew rate at each stem')\n",
    "plt.xlabel('trial')\n",
    "plt.ylabel('rew rate for each stem')\n",
    "plt.legend(framealpha=1, frameon=True)\n",
    "\n",
    "firstday_firstsesh"
   ]
  },
  {
   "cell_type": "markdown",
   "metadata": {},
   "source": [
    "## Splitting up contingenices, finding most rewarded"
   ]
  },
  {
   "cell_type": "code",
   "execution_count": 14,
   "metadata": {},
   "outputs": [
    {
     "name": "stdout",
     "output_type": "stream",
     "text": [
      "the number of rewards at leaf 1 in c1 is 12\n",
      "the number of rewards at leaf 2 is 5\n",
      "the number of rewards at leaf 3 is 2\n",
      "the number of rewards at leaf 4 is 1\n",
      "the number of rewards at leaf 5 is 1\n",
      "the number of rewards at leaf 6 is 4\n"
     ]
    }
   ],
   "source": [
    "c1 = firstday_firstsesh[(firstday_firstsesh['cont_num'] == 1)]\n",
    "c2 = firstday_firstsesh[(firstday_firstsesh['cont_num'] == 2)]\n",
    "c3 = firstday_firstsesh[(firstday_firstsesh['cont_num'] == 3)]\n",
    "\n",
    "#finding number of rewards at each leaf\n",
    "\n",
    "rew1 = len(c1.loc[(c1['leaf'] == 1) & c1['reward'] == 1])\n",
    "rew2 = len(c1.loc[(c1['leaf'] == 2) & c1['reward'] == 1])\n",
    "rew3 = len(c1.loc[(c1['leaf'] == 3) & c1['reward'] == 1])\n",
    "rew4 = len(c1.loc[(c1['leaf'] == 4) & c1['reward'] == 1])\n",
    "rew5 = len(c1.loc[(c1['leaf'] == 5) & c1['reward'] == 1])\n",
    "rew6 = len(c1.loc[(c1['leaf'] == 6) & c1['reward'] == 1])\n",
    "\n",
    "\n",
    "\n",
    "#printing this out nicely\n",
    "print(\"the number of rewards at leaf 1 in c1 is %d\"  % rew1)\n",
    "print(\"the number of rewards at leaf 2 is %d\"  % rew2)\n",
    "print(\"the number of rewards at leaf 3 is %d\"  % rew3)\n",
    "print(\"the number of rewards at leaf 4 is %d\"  % rew4)\n",
    "print(\"the number of rewards at leaf 5 is %d\"  % rew5)\n",
    "print(\"the number of rewards at leaf 6 is %d\"  % rew6)"
   ]
  },
  {
   "cell_type": "markdown",
   "metadata": {},
   "source": [
    "### splitting up the contingency from the df into leaf probs"
   ]
  },
  {
   "cell_type": "code",
   "execution_count": 15,
   "metadata": {},
   "outputs": [
    {
     "name": "stdout",
     "output_type": "stream",
     "text": [
      "(80, 50, 20, 20, 20, 50)\n"
     ]
    }
   ],
   "source": [
    "c1_int = firstday_firstsesh.contingency[1]\n",
    "l1_probs = int(str(c1_int)[:2])\n",
    "l2_probs = int(str(c1_int)[2:4])\n",
    "l3_probs = int(str(c1_int)[4:6])\n",
    "l4_probs = int(str(c1_int)[6:8])\n",
    "l5_probs = int(str(c1_int)[8:10])\n",
    "l6_probs = int(str(c1_int)[10:12])\n",
    "\n",
    "all_probs = (l1_probs, l2_probs, l3_probs, l4_probs, l5_probs, l6_probs)\n",
    "\n",
    "print(all_probs)"
   ]
  },
  {
   "cell_type": "code",
   "execution_count": 16,
   "metadata": {},
   "outputs": [
    {
     "data": {
      "text/plain": [
       "(15, 14, 8, 8, 7, 8)"
      ]
     },
     "execution_count": 16,
     "metadata": {},
     "output_type": "execute_result"
    }
   ],
   "source": [
    "visits_1_c1 = len(c1.loc[(c1['leaf'] == 1)])\n",
    "visits_2_c1 = len(c1.loc[(c1['leaf'] == 2)])\n",
    "visits_3_c1 = len(c1.loc[(c1['leaf'] == 3)])\n",
    "visits_4_c1 = len(c1.loc[(c1['leaf'] == 4)])\n",
    "visits_5_c1 = len(c1.loc[(c1['leaf'] == 5)])\n",
    "visits_6_c1 = len(c1.loc[(c1['leaf'] == 6)])\n",
    "\n",
    "all_visits= (visits_1_c1, visits_2_c1, visits_3_c1, visits_4_c1, visits_5_c1, visits_6_c1)\n",
    "\n",
    "all_visits\n"
   ]
  },
  {
   "cell_type": "code",
   "execution_count": 17,
   "metadata": {},
   "outputs": [],
   "source": [
    "#how does the recent reward rate (predict, relate to) the number of recent visits to each stem? \n",
    "#what i wanted to do was compare the number of rewards to the number of visits at each stem, need to keep the pairs but also want to sort them? "
   ]
  },
  {
   "cell_type": "code",
   "execution_count": 18,
   "metadata": {},
   "outputs": [
    {
     "data": {
      "text/plain": [
       "[<matplotlib.lines.Line2D at 0x7f773c4a1cd0>]"
      ]
     },
     "execution_count": 18,
     "metadata": {},
     "output_type": "execute_result"
    },
    {
     "data": {
      "image/png": "[encoded data removed]",
      "text/plain": [
       "<Figure size 432x288 with 1 Axes>"
      ]
     },
     "metadata": {
      "needs_background": "light"
     },
     "output_type": "display_data"
    }
   ],
   "source": [
    "## ooh might be interestnig to look at experienced versus nominal rew probs!\n",
    "all_stem_probs= [statistics.mean(all_probs[0:2]),statistics.mean(all_probs[2:4]),statistics.mean(all_probs[4:6])]\n",
    "# mean_rew_a_c1=c1.loc['rew_rate_A'].mean()\n",
    "rew_rate_A_mean = c1['rew_rate_A'].mean()\n",
    "rew_rate_B_mean = c1['rew_rate_B'].mean()\n",
    "rew_rate_C_mean = c1['rew_rate_C'].mean()\n",
    "all_exp_probs = [rew_rate_A_mean*100,rew_rate_B_mean*100,rew_rate_C_mean*100]\n",
    "all_exp_probs\n",
    "plt.scatter(all_stem_probs, all_exp_probs)\n",
    "plt.title('experienced versus nominal probability')\n",
    "plt.xlabel('nominal prob')\n",
    "plt.ylabel('experienced prob') #\n",
    "x=range(0,max(all_stem_probs))\n",
    "y=range(0,max(all_stem_probs))\n",
    "plt.plot(x,y)"
   ]
  },
  {
   "cell_type": "code",
   "execution_count": 19,
   "metadata": {},
   "outputs": [
    {
     "data": {
      "text/plain": [
       "Text(0, 0.5, 'number of visits')"
      ]
     },
     "execution_count": 19,
     "metadata": {},
     "output_type": "execute_result"
    },
    {
     "data": {
      "image/png": "[encoded data removed]",
      "text/plain": [
       "<Figure size 800x480 with 1 Axes>"
      ]
     },
     "metadata": {
      "needs_background": "light"
     },
     "output_type": "display_data"
    }
   ],
   "source": [
    "figure(figsize=(10, 6), dpi=80)\n",
    "plt.scatter(all_probs, all_visits) #actually didnt need to sort, it was just weird looking but makes sense.\n",
    "plt.title('num of visits vs probability')\n",
    "plt.xlabel('probability')\n",
    "plt.ylabel('number of visits') #maybe color coding dots per stem would be helpful? \n"
   ]
  },
  {
   "cell_type": "code",
   "execution_count": 20,
   "metadata": {},
   "outputs": [
    {
     "data": {
      "text/plain": [
       "Text(0, 0.5, '# visits')"
      ]
     },
     "execution_count": 20,
     "metadata": {},
     "output_type": "execute_result"
    },
    {
     "data": {
      "image/png": "[encoded data removed]",
      "text/plain": [
       "<Figure size 1200x480 with 1 Axes>"
      ]
     },
     "metadata": {
      "needs_background": "light"
     },
     "output_type": "display_data"
    }
   ],
   "source": [
    "figure(figsize=(15, 6), dpi=80)\n",
    "\n",
    "\n",
    "leaves = [1,2,3,4,5,6]\n",
    "plt.bar(leaves, all_visits)\n",
    "plt.title('Visits to leaves C1- %d' % c1_int) \n",
    "plt.xlabel('leaf')\n",
    "plt.ylabel('# visits')"
   ]
  },
  {
   "cell_type": "code",
   "execution_count": 21,
   "metadata": {},
   "outputs": [
    {
     "name": "stdout",
     "output_type": "stream",
     "text": [
      "0.4\n",
      "0.4\n",
      "0.2\n",
      "0.2\n",
      "0.6\n",
      "0.2\n",
      "0.5\n",
      "0.2\n",
      "0.3\n",
      "0.2\n",
      "0.2\n",
      "0.6\n",
      "0.6\n",
      "0.2\n",
      "0.2\n",
      "1.0\n",
      "0.0\n",
      "0.0\n"
     ]
    },
    {
     "data": {
      "text/plain": [
       "[0.4, 0.2, 0.5, 0.2, 0.6, 1.0]"
      ]
     },
     "execution_count": 21,
     "metadata": {},
     "output_type": "execute_result"
    }
   ],
   "source": [
    "#now i should find the proprtion of time he spends at each stem for some parameter \n",
    "#set proportions worth of time. \n",
    "\n",
    "#So ill need to \n",
    "#get 1st ___ of visits to A, B, and C \n",
    "#hard code: number of trials in contingency \n",
    "#parameter to play with- number of trials in window\n",
    "\n",
    "# proportion = number of visits @ stem/ number of visits in window? \n",
    "\n",
    "#so will have to find number of trials in window that i want to play with, \n",
    "\n",
    "num_trials_in_conting = 60 \n",
    "group_size = 10\n",
    "num_iter = int(num_trials_in_conting / group_size)\n",
    "\n",
    "#first break up c1 into groups of size of window size \n",
    "lst = (np.array_split(c1, num_iter))\n",
    "\n",
    "#for ix in range(len((lst)))\n",
    "window1 = lst[0]\n",
    "\n",
    "lstAll = []\n",
    "\n",
    "for ix in range(num_iter):\n",
    "    window = lst[ix]\n",
    "    for stem in ['A', 'B', 'C']:\n",
    "        prop = sum(window['stem'] == stem)/ (group_size)\n",
    "        lstAll.append(prop)\n",
    "        print(prop)\n",
    "        \n",
    "lstA=lstAll[0::3]\n",
    "lstB=lstAll[1::3]\n",
    "lstC=lstAll[2::3]\n",
    "    \n",
    "lstA\n",
    "\n"
   ]
  },
  {
   "cell_type": "code",
   "execution_count": 22,
   "metadata": {},
   "outputs": [
    {
     "data": {
      "image/png": "[encoded data removed]",
      "text/plain": [
       "<Figure size 432x288 with 1 Axes>"
      ]
     },
     "metadata": {
      "needs_background": "light"
     },
     "output_type": "display_data"
    }
   ],
   "source": [
    "x = np.arange(6)\n",
    "y1 = lstA\n",
    "y2 = lstB\n",
    "y3 = lstC\n",
    "width = 0.2\n",
    "plt.bar(x-0.2, y1, width, color='cyan')\n",
    "plt.bar(x, y2, width, color='orange')\n",
    "plt.bar(x+0.2, y3, width, color='green')\n",
    "plt.xticks(x, ['P1', 'P2', 'P3', 'P4', 'P5', 'P6']) \n",
    "#                'P7', 'P8', 'P9', 'P10', 'P11', 'P12', 'P13', 'P14'])\n",
    "plt.xlabel(\"Windows of 10\")\n",
    "plt.ylabel(\"proportion at each stem\")\n",
    "plt.legend([\"Stem = A\", \"Stem = B\", \"Stem = C\"])\n",
    "plt.title('proportion of visits to each stem in 10 trials windows')\n",
    "plt.show()"
   ]
  },
  {
   "cell_type": "code",
   "execution_count": 23,
   "metadata": {},
   "outputs": [],
   "source": [
    "# Now I'd like to do the same thing for C2 to compare how his visits change "
   ]
  },
  {
   "cell_type": "code",
   "execution_count": 24,
   "metadata": {},
   "outputs": [
    {
     "name": "stdout",
     "output_type": "stream",
     "text": [
      "0.9\n",
      "0.0\n",
      "0.1\n",
      "0.3\n",
      "0.4\n",
      "0.3\n",
      "0.8\n",
      "0.0\n",
      "0.2\n",
      "0.0\n",
      "0.0\n",
      "1.0\n",
      "0.4\n",
      "0.0\n",
      "0.6\n",
      "0.3\n",
      "0.5\n",
      "0.2\n"
     ]
    }
   ],
   "source": [
    "\n",
    "num_trials_in_conting = 60 \n",
    "group_size = 10\n",
    "num_iter = int(num_trials_in_conting / group_size)\n",
    "\n",
    "lst2 = (np.array_split(c2, num_iter))\n",
    "\n",
    "lstAll2 = []\n",
    "\n",
    "for ix in range(num_iter):\n",
    "    window = lst2[ix]\n",
    "    for stem in ['A', 'B', 'C']:\n",
    "        prop = sum(window['stem'] == stem)/ (group_size)\n",
    "        lstAll2.append(prop)\n",
    "        print(prop)\n",
    "        \n",
    "lstA2=lstAll2[0::3]\n",
    "lstB2=lstAll2[1::3]\n",
    "lstC2=lstAll2[2::3]\n",
    "    \n",
    "# # lstA2\n",
    "# lst2\n",
    "# #lstAll2"
   ]
  },
  {
   "cell_type": "code",
   "execution_count": 25,
   "metadata": {},
   "outputs": [
    {
     "data": {
      "image/png": "[encoded data removed]",
      "text/plain": [
       "<Figure size 432x288 with 1 Axes>"
      ]
     },
     "metadata": {
      "needs_background": "light"
     },
     "output_type": "display_data"
    }
   ],
   "source": [
    "x = np.arange(6)\n",
    "y1 = lstA2\n",
    "y2 = lstB2\n",
    "y3 = lstC2\n",
    "width = 0.2\n",
    "plt.bar(x-0.2, y1, width, color='cyan')\n",
    "plt.bar(x, y2, width, color='orange')\n",
    "plt.bar(x+0.2, y3, width, color='green')\n",
    "plt.xticks(x, ['P1', 'P2', 'P3', 'P4', 'P5', 'P6']) #'P7', 'P8', 'P9', 'P10', 'P11', 'P12', 'P13', 'P14', 'P15', 'P17', 'P18'])\n",
    "plt.xlabel(\"Windows of 20\")\n",
    "plt.ylabel(\"proportion at each stem\")\n",
    "plt.legend([\"Stem = A\", \"Stem = B\", \"Stem = C\"])\n",
    "plt.title('proportion of visits to each stem in 20 trials windows-C2')\n",
    "plt.show()\n",
    "#, 'P8', 'P9', 'P10', 'P11', 'P12', 'P13', 'P14'"
   ]
  },
  {
   "cell_type": "code",
   "execution_count": 26,
   "metadata": {},
   "outputs": [
    {
     "data": {
      "text/plain": [
       "(15, 12, 5, 4, 12, 12)"
      ]
     },
     "execution_count": 26,
     "metadata": {},
     "output_type": "execute_result"
    }
   ],
   "source": [
    "#This is just to show that there was not an error with the last plot, and that the rat spent the most time at B for sure. \n",
    "\n",
    "visits_1_c2 = len(c2.loc[(c2['leaf'] == 1)])\n",
    "visits_2_c2 = len(c2.loc[(c2['leaf'] == 2)])\n",
    "visits_3_c2 = len(c2.loc[(c2['leaf'] == 3)])\n",
    "visits_4_c2 = len(c2.loc[(c2['leaf'] == 4)])\n",
    "visits_5_c2 = len(c2.loc[(c2['leaf'] == 5)])\n",
    "visits_6_c2 = len(c2.loc[(c2['leaf'] == 6)])\n",
    "\n",
    "all_visits= (visits_1_c2, visits_2_c2, visits_3_c2, visits_4_c2, visits_5_c2, visits_6_c2)\n",
    "\n",
    "all_visits \n",
    "\n"
   ]
  },
  {
   "cell_type": "code",
   "execution_count": 27,
   "metadata": {},
   "outputs": [],
   "source": [
    "# So now i'd loike to look at exploration strategy. \n",
    "# The idea is that over time, the rat may learn to find which is the best stem.\n",
    "#So in the first conting., he may spend more time(trials) at all three stems. A-B-C-A-B-C for much longer.(no biases) \n",
    "# But maybe by, c10, lets say, He may only go A-B-C, determine that B is the best, \n",
    "#and then stay there much sooner. \n",
    "#another thing to consider here is the number of visits to the leaves within a bout a stem visit. \n",
    "#This probably also changes with exploration strategy. \n",
    "\n",
    "# I dont want to set an arbitrary cutoff for when exploration steop and exploitation starts. \n",
    "# I basically want to find the point when the animal spends the most time at whichever stem he spends \n",
    "# the most time at for that contingency (not necessarily the best). \n",
    "\n",
    "\n",
    "# I think I good to start with this would not be the first contingency of the first day. \n",
    "#SO where I will start off will be on... day 8 completely random. Session 2- so had some \n",
    "#experience that day but still motivated.\n",
    "\n",
    "\n",
    "d8_s2_c1 =  df[(df['day'] == 8) & (df['session'] == 2) & (df['cont_num'] ==1)]\n",
    "\n",
    "#hmmm okay so i plotted first only the first contingency and he spent the most time at C, even though \n",
    "#A was technically better. so i figured I would find an example where he spent the most time at the \n",
    "#best, tried plotting c2 of the same session and WOW he spent the entire time at B. not interesting and also \n",
    "#not the best stem! what the heck chimi? \n",
    "#Ill try day 5 out of curiousity and also randomness?\n",
    "# d8_s2_c1_contingency= day8_epoch2[(day8_epoch2['trial'] == 1)]['contingency']\n",
    "# d8_s2_c1_contingency\n",
    "# d5_s1_c1_contingency.iloc[0]"
   ]
  },
  {
   "cell_type": "code",
   "execution_count": 28,
   "metadata": {},
   "outputs": [
    {
     "data": {
      "text/plain": [
       "Text(0, 0.5, 'leaf visited')"
      ]
     },
     "execution_count": 28,
     "metadata": {},
     "output_type": "execute_result"
    },
    {
     "data": {
      "image/png": "[encoded data removed]",
      "text/plain": [
       "<Figure size 1200x480 with 1 Axes>"
      ]
     },
     "metadata": {
      "needs_background": "light"
     },
     "output_type": "display_data"
    }
   ],
   "source": [
    "#day8_epoch2\n",
    "# d8_s2_c1 = day8_epoch2[(day8_epoch2['contingency'] == d8_s2_c1_contingency.iloc[0])]\n",
    "d8_s2_c1\n",
    "figure(figsize=(15, 6), dpi=80)\n",
    "plt.scatter(d8_s2_c1[d8_s2_c1.columns[0]], d8_s2_c1[d8_s2_c1.columns[1]])\n",
    "plt.title(\"visits to each leaf day8 epoch 2 contin 1 205080502050\")\n",
    "plt.xlabel(\"trial #\")\n",
    "plt.ylabel(\"leaf visited\")"
   ]
  },
  {
   "cell_type": "code",
   "execution_count": 29,
   "metadata": {},
   "outputs": [
    {
     "data": {
      "text/plain": [
       "Text(0, 0.5, 'leaf visited')"
      ]
     },
     "execution_count": 29,
     "metadata": {},
     "output_type": "execute_result"
    },
    {
     "data": {
      "image/png": "[encoded data removed]",
      "text/plain": [
       "<Figure size 1200x480 with 1 Axes>"
      ]
     },
     "metadata": {
      "needs_background": "light"
     },
     "output_type": "display_data"
    }
   ],
   "source": [
    "#So now I have made a prediction that first ~20 trials are exploration. Lets confirm with another day. \n",
    "d5_s1_c1 = df[(df['day'] == 5) & (df['session'] == 1) & (df['cont_num'] == 1)]\n",
    "# day5_epoch1\n",
    "# d5_s1_c1_contingency = day5_epoch1[(day5_epoch1['trial'] == 1)]['contingency']\n",
    "# d5_s1_c1_contingency\n",
    "# d5_s1_c1 = day5_epoch1[(day5_epoch1['contingency'] == d5_s1_c1_contingency.iloc[0])]\n",
    "d5_s1_c1\n",
    "\n",
    "figure(figsize=(15, 6), dpi=80)\n",
    "plt.scatter(d5_s1_c1[d5_s1_c1.columns[0]], d5_s1_c1[d5_s1_c1.columns[1]])\n",
    "plt.title(\"visits to each leaf day5 epoch 1 contin 1 508020502080\")\n",
    "plt.xlabel(\"trial #\")\n",
    "plt.ylabel(\"leaf visited\")\n"
   ]
  },
  {
   "cell_type": "code",
   "execution_count": 30,
   "metadata": {},
   "outputs": [
    {
     "data": {
      "text/plain": [
       "Text(0, 0.5, 'leaf visited')"
      ]
     },
     "execution_count": 30,
     "metadata": {},
     "output_type": "execute_result"
    },
    {
     "data": {
      "image/png": "[encoded data removed]",
      "text/plain": [
       "<Figure size 432x288 with 1 Axes>"
      ]
     },
     "metadata": {
      "needs_background": "light"
     },
     "output_type": "display_data"
    }
   ],
   "source": [
    "# hmmm interesting. I can see why \"noise\" is an issue here. his behavior depends on the contingencies as well. \n",
    "\n",
    "#could split it up by contingency type. \n",
    "# eg how does he explore every time there is an 8050 and an 8020? \n",
    "\n",
    "#Sooooo lets just call our trials of interest the first 20 trials. \n",
    "#Id like to know which stems he visits in order in the first 20 trials. \n",
    "\n",
    "#lets start with day5, session1, conting 1. \n",
    "\n",
    "d5_s1_c1_1st20 = d5_s1_c1[(d5_s1_c1['trial'] <20)]['stem']\n",
    "#type(d5_s1_c1_1st20)\n",
    "plt.plot(d5_s1_c1_1st20)\n",
    "plt.title(\"visits to each leaf day5 epoch 1 contin 1_first 20 trials\")\n",
    "plt.xlabel(\"trial #\")\n",
    "plt.ylabel(\"leaf visited\")\n",
    "\n"
   ]
  },
  {
   "cell_type": "code",
   "execution_count": null,
   "metadata": {},
   "outputs": [],
   "source": [
    "#Okay so after this work and a little thinking, I decided it would be easier to just start\n",
    "#out by looking at the order of the first 3 stems the guy visits and see if theres a pattern. \n",
    "#The options: ABC, BCA, CAB, BAC, CBA, ACB, and then the option that he goes back to the first stem for\n",
    "#the third choice. Oy lots of choices. \n",
    "\n",
    "#Will only look at the first contginecy of each session. \n",
    "\n",
    "#In the end, I think I want a bar plot of number of times he did each choice. \n",
    "\n",
    "#So, second to last, I want to end up with 2 lists. One will contain the choices listed above for stem order. \n",
    "#The second will be the number of times each choice was done. \n",
    "\n",
    "#If the data starts with 202002\n",
    "#for every day, for every session, ugh for every contingency which is not easy to check as it is right now, fixing that first.\n",
    "#Date = 20200213\n",
    "\n",
    "#okay ugh maybe i dont need to know contingency because I will only look at first 3 visits of every unique session\n",
    "\n",
    "\n",
    "\n",
    "#Date = 20200213\n",
    "\n",
    "#Largest= date\n",
    "#then session \n",
    "#then stem. \n",
    "#Will say to look at first row and find stem. stemm = that.  Then keep going until stem != that. stem2 is now\n",
    "#equal to new stem. then keep going until stem equals something new. thats stem3. Then log that somehow? \n",
    "#likely a bunch of if statements...\n",
    "\n",
    "#session = 1\n",
    "\n",
    "#stem1= df[(df['date'] == Date) & (df['session'] == session) & (df['trial'] == 0)]['stem']\n",
    "\n",
    "\n",
    "    \n",
    "#possible irrelevant? \n",
    "\n",
    "#opperationalizing variables\n"
   ]
  },
  {
   "cell_type": "code",
   "execution_count": 31,
   "metadata": {},
   "outputs": [
    {
     "data": {
      "text/html": [
       "<div>\n",
       "<style scoped>\n",
       "    .dataframe tbody tr th:only-of-type {\n",
       "        vertical-align: middle;\n",
       "    }\n",
       "\n",
       "    .dataframe tbody tr th {\n",
       "        vertical-align: top;\n",
       "    }\n",
       "\n",
       "    .dataframe thead th {\n",
       "        text-align: right;\n",
       "    }\n",
       "</style>\n",
       "<table border=\"1\" class=\"dataframe\">\n",
       "  <thead>\n",
       "    <tr style=\"text-align: right;\">\n",
       "      <th></th>\n",
       "      <th>Unnamed: 0</th>\n",
       "      <th>leaf</th>\n",
       "      <th>stem</th>\n",
       "      <th>reward</th>\n",
       "      <th>contingency</th>\n",
       "      <th>date</th>\n",
       "      <th>session</th>\n",
       "      <th>trial</th>\n",
       "      <th>day</th>\n",
       "      <th>cont_num</th>\n",
       "      <th>stemChange</th>\n",
       "      <th>sessionChange</th>\n",
       "      <th>dateChange</th>\n",
       "    </tr>\n",
       "  </thead>\n",
       "  <tbody>\n",
       "    <tr>\n",
       "      <th>0</th>\n",
       "      <td>0</td>\n",
       "      <td>4</td>\n",
       "      <td>B</td>\n",
       "      <td>1</td>\n",
       "      <td>805020202050</td>\n",
       "      <td>20201028</td>\n",
       "      <td>1</td>\n",
       "      <td>0</td>\n",
       "      <td>1</td>\n",
       "      <td>1</td>\n",
       "      <td>0</td>\n",
       "      <td>NaN</td>\n",
       "      <td>NaN</td>\n",
       "    </tr>\n",
       "    <tr>\n",
       "      <th>1</th>\n",
       "      <td>1</td>\n",
       "      <td>1</td>\n",
       "      <td>A</td>\n",
       "      <td>0</td>\n",
       "      <td>805020202050</td>\n",
       "      <td>20201028</td>\n",
       "      <td>1</td>\n",
       "      <td>1</td>\n",
       "      <td>1</td>\n",
       "      <td>1</td>\n",
       "      <td>1</td>\n",
       "      <td>0.0</td>\n",
       "      <td>0.0</td>\n",
       "    </tr>\n",
       "    <tr>\n",
       "      <th>2</th>\n",
       "      <td>2</td>\n",
       "      <td>2</td>\n",
       "      <td>A</td>\n",
       "      <td>0</td>\n",
       "      <td>805020202050</td>\n",
       "      <td>20201028</td>\n",
       "      <td>1</td>\n",
       "      <td>2</td>\n",
       "      <td>1</td>\n",
       "      <td>1</td>\n",
       "      <td>0</td>\n",
       "      <td>0.0</td>\n",
       "      <td>0.0</td>\n",
       "    </tr>\n",
       "    <tr>\n",
       "      <th>3</th>\n",
       "      <td>3</td>\n",
       "      <td>3</td>\n",
       "      <td>B</td>\n",
       "      <td>1</td>\n",
       "      <td>805020202050</td>\n",
       "      <td>20201028</td>\n",
       "      <td>1</td>\n",
       "      <td>3</td>\n",
       "      <td>1</td>\n",
       "      <td>1</td>\n",
       "      <td>1</td>\n",
       "      <td>0.0</td>\n",
       "      <td>0.0</td>\n",
       "    </tr>\n",
       "    <tr>\n",
       "      <th>4</th>\n",
       "      <td>4</td>\n",
       "      <td>4</td>\n",
       "      <td>B</td>\n",
       "      <td>0</td>\n",
       "      <td>805020202050</td>\n",
       "      <td>20201028</td>\n",
       "      <td>1</td>\n",
       "      <td>4</td>\n",
       "      <td>1</td>\n",
       "      <td>1</td>\n",
       "      <td>0</td>\n",
       "      <td>0.0</td>\n",
       "      <td>0.0</td>\n",
       "    </tr>\n",
       "    <tr>\n",
       "      <th>...</th>\n",
       "      <td>...</td>\n",
       "      <td>...</td>\n",
       "      <td>...</td>\n",
       "      <td>...</td>\n",
       "      <td>...</td>\n",
       "      <td>...</td>\n",
       "      <td>...</td>\n",
       "      <td>...</td>\n",
       "      <td>...</td>\n",
       "      <td>...</td>\n",
       "      <td>...</td>\n",
       "      <td>...</td>\n",
       "      <td>...</td>\n",
       "    </tr>\n",
       "    <tr>\n",
       "      <th>13288</th>\n",
       "      <td>13288</td>\n",
       "      <td>2</td>\n",
       "      <td>A</td>\n",
       "      <td>1</td>\n",
       "      <td>508020208020</td>\n",
       "      <td>20201107</td>\n",
       "      <td>6</td>\n",
       "      <td>175</td>\n",
       "      <td>11</td>\n",
       "      <td>3</td>\n",
       "      <td>0</td>\n",
       "      <td>0.0</td>\n",
       "      <td>0.0</td>\n",
       "    </tr>\n",
       "    <tr>\n",
       "      <th>13289</th>\n",
       "      <td>13289</td>\n",
       "      <td>1</td>\n",
       "      <td>A</td>\n",
       "      <td>0</td>\n",
       "      <td>508020208020</td>\n",
       "      <td>20201107</td>\n",
       "      <td>6</td>\n",
       "      <td>176</td>\n",
       "      <td>11</td>\n",
       "      <td>3</td>\n",
       "      <td>0</td>\n",
       "      <td>0.0</td>\n",
       "      <td>0.0</td>\n",
       "    </tr>\n",
       "    <tr>\n",
       "      <th>13290</th>\n",
       "      <td>13290</td>\n",
       "      <td>2</td>\n",
       "      <td>A</td>\n",
       "      <td>0</td>\n",
       "      <td>508020208020</td>\n",
       "      <td>20201107</td>\n",
       "      <td>6</td>\n",
       "      <td>177</td>\n",
       "      <td>11</td>\n",
       "      <td>3</td>\n",
       "      <td>0</td>\n",
       "      <td>0.0</td>\n",
       "      <td>0.0</td>\n",
       "    </tr>\n",
       "    <tr>\n",
       "      <th>13291</th>\n",
       "      <td>13291</td>\n",
       "      <td>1</td>\n",
       "      <td>A</td>\n",
       "      <td>1</td>\n",
       "      <td>508020208020</td>\n",
       "      <td>20201107</td>\n",
       "      <td>6</td>\n",
       "      <td>178</td>\n",
       "      <td>11</td>\n",
       "      <td>3</td>\n",
       "      <td>0</td>\n",
       "      <td>0.0</td>\n",
       "      <td>0.0</td>\n",
       "    </tr>\n",
       "    <tr>\n",
       "      <th>13292</th>\n",
       "      <td>13292</td>\n",
       "      <td>2</td>\n",
       "      <td>A</td>\n",
       "      <td>1</td>\n",
       "      <td>508020208020</td>\n",
       "      <td>20201107</td>\n",
       "      <td>6</td>\n",
       "      <td>179</td>\n",
       "      <td>11</td>\n",
       "      <td>3</td>\n",
       "      <td>0</td>\n",
       "      <td>0.0</td>\n",
       "      <td>0.0</td>\n",
       "    </tr>\n",
       "  </tbody>\n",
       "</table>\n",
       "<p>13293 rows × 13 columns</p>\n",
       "</div>"
      ],
      "text/plain": [
       "       Unnamed: 0  leaf stem  reward   contingency      date  session  trial  \\\n",
       "0               0     4    B       1  805020202050  20201028        1      0   \n",
       "1               1     1    A       0  805020202050  20201028        1      1   \n",
       "2               2     2    A       0  805020202050  20201028        1      2   \n",
       "3               3     3    B       1  805020202050  20201028        1      3   \n",
       "4               4     4    B       0  805020202050  20201028        1      4   \n",
       "...           ...   ...  ...     ...           ...       ...      ...    ...   \n",
       "13288       13288     2    A       1  508020208020  20201107        6    175   \n",
       "13289       13289     1    A       0  508020208020  20201107        6    176   \n",
       "13290       13290     2    A       0  508020208020  20201107        6    177   \n",
       "13291       13291     1    A       1  508020208020  20201107        6    178   \n",
       "13292       13292     2    A       1  508020208020  20201107        6    179   \n",
       "\n",
       "       day  cont_num  stemChange  sessionChange  dateChange  \n",
       "0        1         1           0            NaN         NaN  \n",
       "1        1         1           1            0.0         0.0  \n",
       "2        1         1           0            0.0         0.0  \n",
       "3        1         1           1            0.0         0.0  \n",
       "4        1         1           0            0.0         0.0  \n",
       "...    ...       ...         ...            ...         ...  \n",
       "13288   11         3           0            0.0         0.0  \n",
       "13289   11         3           0            0.0         0.0  \n",
       "13290   11         3           0            0.0         0.0  \n",
       "13291   11         3           0            0.0         0.0  \n",
       "13292   11         3           0            0.0         0.0  \n",
       "\n",
       "[13293 rows x 13 columns]"
      ]
     },
     "execution_count": 31,
     "metadata": {},
     "output_type": "execute_result"
    }
   ],
   "source": [
    "#Niiiiiice this just checks if the stem has changes and adds true or false to df.\n",
    "df[\"stemChange\"] = (df[\"stem\"].shift(1, fill_value=df[\"stem\"].head(1)) != df[\"stem\"]).astype(int) #better way to calc?\n",
    "df[\"sessionChange\"] = df['session'].diff()\n",
    "df[\"dateChange\"] = df['date'].diff()\n",
    "df"
   ]
  },
  {
   "cell_type": "code",
   "execution_count": 32,
   "metadata": {},
   "outputs": [
    {
     "data": {
      "text/plain": [
       "Text(0, 0.5, 'num times start session at stem')"
      ]
     },
     "execution_count": 32,
     "metadata": {},
     "output_type": "execute_result"
    },
    {
     "data": {
      "image/png": "[encoded data removed]",
      "text/plain": [
       "<Figure size 1200x480 with 1 Axes>"
      ]
     },
     "metadata": {
      "needs_background": "light"
     },
     "output_type": "display_data"
    }
   ],
   "source": [
    "#First lets use the new columns to find the first stem of every session. \n",
    "session_check = df[(df['sessionChange'] != 0) | (df['dateChange'] != 0)]\n",
    "session_check\n",
    "first_trials= df[(df['trial'] == 0)]['stem']\n",
    "#type(first_trials)\n",
    "first_A = (first_trials.where(first_trials == 'A'))\n",
    "first_B =(first_trials.where(first_trials == 'B'))\n",
    "first_C =(first_trials.where(first_trials == 'C'))\n",
    "first_A=first_A.count()\n",
    "first_B=first_B.count()\n",
    "first_C=first_C.count()\n",
    "#print(first_A, first_B, first_C)\n",
    "\n",
    "figure(figsize=(15, 6), dpi=80)\n",
    "stems = ['A', 'B', 'C']\n",
    "start = [first_A, first_B, first_C]\n",
    "plt.bar(stems, start)\n",
    "plt.title('Num times senor started session at each stem')\n",
    "plt.xlabel('Stem')\n",
    "plt.ylabel('num times start session at stem')\n"
   ]
  },
  {
   "cell_type": "code",
   "execution_count": 33,
   "metadata": {},
   "outputs": [
    {
     "ename": "IndexError",
     "evalue": "single positional indexer is out-of-bounds",
     "output_type": "error",
     "traceback": [
      "\u001b[0;31m---------------------------------------------------------------------------\u001b[0m",
      "\u001b[0;31mIndexError\u001b[0m                                Traceback (most recent call last)",
      "\u001b[0;32m<ipython-input-33-677fe2fcdf87>\u001b[0m in \u001b[0;36m<module>\u001b[0;34m\u001b[0m\n\u001b[1;32m     15\u001b[0m     \u001b[0mtrial0_df\u001b[0m \u001b[0;34m=\u001b[0m \u001b[0mdf\u001b[0m\u001b[0;34m.\u001b[0m\u001b[0miloc\u001b[0m\u001b[0;34m[\u001b[0m\u001b[0mtrial0_ix\u001b[0m\u001b[0;34m]\u001b[0m\u001b[0;34m\u001b[0m\u001b[0;34m\u001b[0m\u001b[0m\n\u001b[1;32m     16\u001b[0m     \u001b[0mstem1\u001b[0m\u001b[0;34m=\u001b[0m\u001b[0mtrial0_df\u001b[0m\u001b[0;34m.\u001b[0m\u001b[0mloc\u001b[0m\u001b[0;34m[\u001b[0m\u001b[0;34m'stem'\u001b[0m\u001b[0;34m]\u001b[0m\u001b[0;34m\u001b[0m\u001b[0;34m\u001b[0m\u001b[0m\n\u001b[0;32m---> 17\u001b[0;31m     \u001b[0mtrial0_ix_next\u001b[0m\u001b[0;34m=\u001b[0m \u001b[0msession_check\u001b[0m\u001b[0;34m.\u001b[0m\u001b[0miloc\u001b[0m\u001b[0;34m[\u001b[0m\u001b[0;34m(\u001b[0m\u001b[0mix\u001b[0m\u001b[0;34m+\u001b[0m\u001b[0;36m1\u001b[0m\u001b[0;34m)\u001b[0m\u001b[0;34m,\u001b[0m \u001b[0;36m0\u001b[0m\u001b[0;34m]\u001b[0m\u001b[0;34m\u001b[0m\u001b[0;34m\u001b[0m\u001b[0m\n\u001b[0m\u001b[1;32m     18\u001b[0m     \u001b[0mtrial0_ix_next\u001b[0m\u001b[0;34m\u001b[0m\u001b[0;34m\u001b[0m\u001b[0m\n\u001b[1;32m     19\u001b[0m     \u001b[0;32mif\u001b[0m \u001b[0mix\u001b[0m \u001b[0;34m==\u001b[0m\u001b[0;36m0\u001b[0m\u001b[0;34m:\u001b[0m\u001b[0;34m\u001b[0m\u001b[0;34m\u001b[0m\u001b[0m\n",
      "\u001b[0;32m~/miniconda2/envs/Analysis_EM/lib/python3.9/site-packages/pandas/core/indexing.py\u001b[0m in \u001b[0;36m__getitem__\u001b[0;34m(self, key)\u001b[0m\n\u001b[1;32m    887\u001b[0m                     \u001b[0;31m# AttributeError for IntervalTree get_value\u001b[0m\u001b[0;34m\u001b[0m\u001b[0;34m\u001b[0m\u001b[0;34m\u001b[0m\u001b[0m\n\u001b[1;32m    888\u001b[0m                     \u001b[0;32mreturn\u001b[0m \u001b[0mself\u001b[0m\u001b[0;34m.\u001b[0m\u001b[0mobj\u001b[0m\u001b[0;34m.\u001b[0m\u001b[0m_get_value\u001b[0m\u001b[0;34m(\u001b[0m\u001b[0;34m*\u001b[0m\u001b[0mkey\u001b[0m\u001b[0;34m,\u001b[0m \u001b[0mtakeable\u001b[0m\u001b[0;34m=\u001b[0m\u001b[0mself\u001b[0m\u001b[0;34m.\u001b[0m\u001b[0m_takeable\u001b[0m\u001b[0;34m)\u001b[0m\u001b[0;34m\u001b[0m\u001b[0;34m\u001b[0m\u001b[0m\n\u001b[0;32m--> 889\u001b[0;31m             \u001b[0;32mreturn\u001b[0m \u001b[0mself\u001b[0m\u001b[0;34m.\u001b[0m\u001b[0m_getitem_tuple\u001b[0m\u001b[0;34m(\u001b[0m\u001b[0mkey\u001b[0m\u001b[0;34m)\u001b[0m\u001b[0;34m\u001b[0m\u001b[0;34m\u001b[0m\u001b[0m\n\u001b[0m\u001b[1;32m    890\u001b[0m         \u001b[0;32melse\u001b[0m\u001b[0;34m:\u001b[0m\u001b[0;34m\u001b[0m\u001b[0;34m\u001b[0m\u001b[0m\n\u001b[1;32m    891\u001b[0m             \u001b[0;31m# we by definition only have the 0th axis\u001b[0m\u001b[0;34m\u001b[0m\u001b[0;34m\u001b[0m\u001b[0;34m\u001b[0m\u001b[0m\n",
      "\u001b[0;32m~/miniconda2/envs/Analysis_EM/lib/python3.9/site-packages/pandas/core/indexing.py\u001b[0m in \u001b[0;36m_getitem_tuple\u001b[0;34m(self, tup)\u001b[0m\n\u001b[1;32m   1448\u001b[0m     \u001b[0;32mdef\u001b[0m \u001b[0m_getitem_tuple\u001b[0m\u001b[0;34m(\u001b[0m\u001b[0mself\u001b[0m\u001b[0;34m,\u001b[0m \u001b[0mtup\u001b[0m\u001b[0;34m:\u001b[0m \u001b[0mTuple\u001b[0m\u001b[0;34m)\u001b[0m\u001b[0;34m:\u001b[0m\u001b[0;34m\u001b[0m\u001b[0;34m\u001b[0m\u001b[0m\n\u001b[1;32m   1449\u001b[0m \u001b[0;34m\u001b[0m\u001b[0m\n\u001b[0;32m-> 1450\u001b[0;31m         \u001b[0mself\u001b[0m\u001b[0;34m.\u001b[0m\u001b[0m_has_valid_tuple\u001b[0m\u001b[0;34m(\u001b[0m\u001b[0mtup\u001b[0m\u001b[0;34m)\u001b[0m\u001b[0;34m\u001b[0m\u001b[0;34m\u001b[0m\u001b[0m\n\u001b[0m\u001b[1;32m   1451\u001b[0m         \u001b[0;32mwith\u001b[0m \u001b[0msuppress\u001b[0m\u001b[0;34m(\u001b[0m\u001b[0mIndexingError\u001b[0m\u001b[0;34m)\u001b[0m\u001b[0;34m:\u001b[0m\u001b[0;34m\u001b[0m\u001b[0;34m\u001b[0m\u001b[0m\n\u001b[1;32m   1452\u001b[0m             \u001b[0;32mreturn\u001b[0m \u001b[0mself\u001b[0m\u001b[0;34m.\u001b[0m\u001b[0m_getitem_lowerdim\u001b[0m\u001b[0;34m(\u001b[0m\u001b[0mtup\u001b[0m\u001b[0;34m)\u001b[0m\u001b[0;34m\u001b[0m\u001b[0;34m\u001b[0m\u001b[0m\n",
      "\u001b[0;32m~/miniconda2/envs/Analysis_EM/lib/python3.9/site-packages/pandas/core/indexing.py\u001b[0m in \u001b[0;36m_has_valid_tuple\u001b[0;34m(self, key)\u001b[0m\n\u001b[1;32m    721\u001b[0m         \u001b[0;32mfor\u001b[0m \u001b[0mi\u001b[0m\u001b[0;34m,\u001b[0m \u001b[0mk\u001b[0m \u001b[0;32min\u001b[0m \u001b[0menumerate\u001b[0m\u001b[0;34m(\u001b[0m\u001b[0mkey\u001b[0m\u001b[0;34m)\u001b[0m\u001b[0;34m:\u001b[0m\u001b[0;34m\u001b[0m\u001b[0;34m\u001b[0m\u001b[0m\n\u001b[1;32m    722\u001b[0m             \u001b[0;32mtry\u001b[0m\u001b[0;34m:\u001b[0m\u001b[0;34m\u001b[0m\u001b[0;34m\u001b[0m\u001b[0m\n\u001b[0;32m--> 723\u001b[0;31m                 \u001b[0mself\u001b[0m\u001b[0;34m.\u001b[0m\u001b[0m_validate_key\u001b[0m\u001b[0;34m(\u001b[0m\u001b[0mk\u001b[0m\u001b[0;34m,\u001b[0m \u001b[0mi\u001b[0m\u001b[0;34m)\u001b[0m\u001b[0;34m\u001b[0m\u001b[0;34m\u001b[0m\u001b[0m\n\u001b[0m\u001b[1;32m    724\u001b[0m             \u001b[0;32mexcept\u001b[0m \u001b[0mValueError\u001b[0m \u001b[0;32mas\u001b[0m \u001b[0merr\u001b[0m\u001b[0;34m:\u001b[0m\u001b[0;34m\u001b[0m\u001b[0;34m\u001b[0m\u001b[0m\n\u001b[1;32m    725\u001b[0m                 raise ValueError(\n",
      "\u001b[0;32m~/miniconda2/envs/Analysis_EM/lib/python3.9/site-packages/pandas/core/indexing.py\u001b[0m in \u001b[0;36m_validate_key\u001b[0;34m(self, key, axis)\u001b[0m\n\u001b[1;32m   1356\u001b[0m             \u001b[0;32mreturn\u001b[0m\u001b[0;34m\u001b[0m\u001b[0;34m\u001b[0m\u001b[0m\n\u001b[1;32m   1357\u001b[0m         \u001b[0;32melif\u001b[0m \u001b[0mis_integer\u001b[0m\u001b[0;34m(\u001b[0m\u001b[0mkey\u001b[0m\u001b[0;34m)\u001b[0m\u001b[0;34m:\u001b[0m\u001b[0;34m\u001b[0m\u001b[0;34m\u001b[0m\u001b[0m\n\u001b[0;32m-> 1358\u001b[0;31m             \u001b[0mself\u001b[0m\u001b[0;34m.\u001b[0m\u001b[0m_validate_integer\u001b[0m\u001b[0;34m(\u001b[0m\u001b[0mkey\u001b[0m\u001b[0;34m,\u001b[0m \u001b[0maxis\u001b[0m\u001b[0;34m)\u001b[0m\u001b[0;34m\u001b[0m\u001b[0;34m\u001b[0m\u001b[0m\n\u001b[0m\u001b[1;32m   1359\u001b[0m         \u001b[0;32melif\u001b[0m \u001b[0misinstance\u001b[0m\u001b[0;34m(\u001b[0m\u001b[0mkey\u001b[0m\u001b[0;34m,\u001b[0m \u001b[0mtuple\u001b[0m\u001b[0;34m)\u001b[0m\u001b[0;34m:\u001b[0m\u001b[0;34m\u001b[0m\u001b[0;34m\u001b[0m\u001b[0m\n\u001b[1;32m   1360\u001b[0m             \u001b[0;31m# a tuple should already have been caught by this point\u001b[0m\u001b[0;34m\u001b[0m\u001b[0;34m\u001b[0m\u001b[0;34m\u001b[0m\u001b[0m\n",
      "\u001b[0;32m~/miniconda2/envs/Analysis_EM/lib/python3.9/site-packages/pandas/core/indexing.py\u001b[0m in \u001b[0;36m_validate_integer\u001b[0;34m(self, key, axis)\u001b[0m\n\u001b[1;32m   1442\u001b[0m         \u001b[0mlen_axis\u001b[0m \u001b[0;34m=\u001b[0m \u001b[0mlen\u001b[0m\u001b[0;34m(\u001b[0m\u001b[0mself\u001b[0m\u001b[0;34m.\u001b[0m\u001b[0mobj\u001b[0m\u001b[0;34m.\u001b[0m\u001b[0m_get_axis\u001b[0m\u001b[0;34m(\u001b[0m\u001b[0maxis\u001b[0m\u001b[0;34m)\u001b[0m\u001b[0;34m)\u001b[0m\u001b[0;34m\u001b[0m\u001b[0;34m\u001b[0m\u001b[0m\n\u001b[1;32m   1443\u001b[0m         \u001b[0;32mif\u001b[0m \u001b[0mkey\u001b[0m \u001b[0;34m>=\u001b[0m \u001b[0mlen_axis\u001b[0m \u001b[0;32mor\u001b[0m \u001b[0mkey\u001b[0m \u001b[0;34m<\u001b[0m \u001b[0;34m-\u001b[0m\u001b[0mlen_axis\u001b[0m\u001b[0;34m:\u001b[0m\u001b[0;34m\u001b[0m\u001b[0;34m\u001b[0m\u001b[0m\n\u001b[0;32m-> 1444\u001b[0;31m             \u001b[0;32mraise\u001b[0m \u001b[0mIndexError\u001b[0m\u001b[0;34m(\u001b[0m\u001b[0;34m\"single positional indexer is out-of-bounds\"\u001b[0m\u001b[0;34m)\u001b[0m\u001b[0;34m\u001b[0m\u001b[0;34m\u001b[0m\u001b[0m\n\u001b[0m\u001b[1;32m   1445\u001b[0m \u001b[0;34m\u001b[0m\u001b[0m\n\u001b[1;32m   1446\u001b[0m     \u001b[0;31m# -------------------------------------------------------------------\u001b[0m\u001b[0;34m\u001b[0m\u001b[0;34m\u001b[0m\u001b[0;34m\u001b[0m\u001b[0m\n",
      "\u001b[0;31mIndexError\u001b[0m: single positional indexer is out-of-bounds"
     ]
    }
   ],
   "source": [
    "# I need to use the indexes of session check, which tell me the first time theres a new session\n",
    "#Split the data up- between the two indexes of session check, find the times when stem change is true,\n",
    "#find the first two stems. \n",
    "\n",
    "#first, find df when index = first index of session_check\n",
    "#oooooh this looks like an opportunity to use .ne,.shift,.cumsum! \n",
    "#maybe not quite....\n",
    "\n",
    "\n",
    "\n",
    "\n",
    "\n",
    "for ix in range(len(session_check)):\n",
    "    trial0_ix= session_check.iloc[ix, 0]\n",
    "    trial0_df = df.iloc[trial0_ix]\n",
    "    stem1=trial0_df.loc['stem']\n",
    "    trial0_ix_next= session_check.iloc[(ix+1), 0]\n",
    "    trial0_ix_next\n",
    "    if ix ==0:\n",
    "        current_df = df.where(df.iloc[:,0] < trial0_ix_next)\n",
    "    else: \n",
    "        current_df = df.where(df.iloc[:,0] < trial0_ix_next)\n",
    "        current_df = current_df.where(current_df.iloc[:,0] > trial0_ix)\n",
    "    current_df\n",
    "    stem_order_df = current_df[(current_df['stemChange'] == 1.0)]['stem']\n",
    "    stem_order_df\n",
    "    ser_first2= stem_order_df.head(2)\n",
    "    stem2=ser_first2.head(1)\n",
    "    #stem2\n",
    "    stem3 = ser_first2[-1:]\n",
    "    #stem3\n",
    "    if ix == 0:\n",
    "        stems = []\n",
    "    stems.append(stem1)\n",
    "    stem2=stem2.tolist()\n",
    "    stem3=stem3.tolist()\n",
    "    stems.append(stem2)\n",
    "    stems.append(stem3)\n",
    "stems\n",
    "# will throw error because cant handle # 51 with the qay ive written it. "
   ]
  },
  {
   "cell_type": "code",
   "execution_count": 34,
   "metadata": {},
   "outputs": [
    {
     "name": "stdout",
     "output_type": "stream",
     "text": [
      "<class 'list'>\n"
     ]
    },
    {
     "data": {
      "text/plain": [
       "(5, 2, 3, 5, 49, 7, 0, 2, 0, 0, 0, 0)"
      ]
     },
     "execution_count": 34,
     "metadata": {},
     "output_type": "execute_result"
    }
   ],
   "source": [
    "#If the trial is 0, stem 1= that stem. \n",
    "#stem 2 is the next true. stem 3 is the next true. \n",
    "\n",
    "#firstday_firstsesh.loc[\"stemChange\"] = firstday_firstsesh[\"stem\"].shift(1, fill_value=firstday_firstsesh[\"stem\"].head(1)) != firstday_firstsesh[\"stem\"]\n",
    "#firstday_firstsesh\n",
    "\n",
    "# first_month = df[(df['date'] <= 20200229)]\n",
    "# Date = 20200213\n",
    "# Session = 1\n",
    "\n",
    "# for Date, Session in range(len(first_month)): \n",
    "#     working = first_month[(first_month['date'] == Date) & (first_month['session'] = Session)]['stem']\n",
    "#     Date = Date +1\n",
    "#     Session = Session+1\n",
    "    \n",
    "# for session in range(1:3):\n",
    "final = [stems[i * 3:(i + 1) * 3] for i in range((len(stems) + 3 - 1) // 3 )] \n",
    "print (type(final))\n",
    "\n",
    "ACB=0\n",
    "ABC=0\n",
    "CBA=0\n",
    "CAB=0\n",
    "BAC=0\n",
    "BCA=0\n",
    "CAC=0\n",
    "BAB=0\n",
    "CBC=0\n",
    "BCB=0\n",
    "ABA=0\n",
    "ACA=0\n",
    "\n",
    "\n",
    "\n",
    "for list_ix in range(len(final)):\n",
    "    if final[list_ix] == ['A', ['C'], ['B']]:\n",
    "        ACB = ACB + 1 \n",
    "    elif final[list_ix] == ['A', ['B'], ['C']]:\n",
    "        ABC = ABC + 1 \n",
    "    elif final[list_ix] == ['C', ['B'], ['A']]:\n",
    "        CBA = CBA + 1 \n",
    "    elif final[list_ix] == ['C', ['A'], ['B']]:\n",
    "        CAB = CAB + 1  \n",
    "    elif final[list_ix] == ['B', ['A'], ['C']]:\n",
    "        BAC = BAC + 1  \n",
    "    elif final[list_ix] == ['B', ['C'], ['A']]:\n",
    "         BCA = BCA + 1\n",
    "    elif final[list_ix] == ['C', ['A'], ['C']]:\n",
    "        CAC = CAC + 1      \n",
    "    elif final[list_ix] == ['B', ['A'], ['B']]:\n",
    "        BAB = BAB + 1\n",
    "    elif final[list_ix] == ['C', ['B'], ['C']]:\n",
    "        CBC = CBC + 1\n",
    "    elif final[list_ix] == ['B', ['C'], ['B']]:\n",
    "        BCB = BCB + 1      \n",
    "    elif final[list_ix] == ['A', ['B'], ['A']]:\n",
    "        ABA = ABA + 1\n",
    "    elif final[list_ix] == ['A', ['C'], ['A']]:\n",
    "        ACA = ACA+1\n",
    "\n",
    "list_of_3s = (ACB,ABC,CBA,CAB,BAC,BCA,CAC,BAB,CBC,BCB,ABA,ACA)\n",
    "list_of_3s"
   ]
  },
  {
   "cell_type": "code",
   "execution_count": 39,
   "metadata": {},
   "outputs": [
    {
     "data": {
      "text/plain": [
       "(array([ 0., 10., 20., 30., 40., 50., 60.]),\n",
       " [Text(0, 0, ''),\n",
       "  Text(0, 0, ''),\n",
       "  Text(0, 0, ''),\n",
       "  Text(0, 0, ''),\n",
       "  Text(0, 0, ''),\n",
       "  Text(0, 0, ''),\n",
       "  Text(0, 0, '')])"
      ]
     },
     "execution_count": 39,
     "metadata": {},
     "output_type": "execute_result"
    },
    {
     "data": {
      "image/png": "[encoded data removed]",
      "text/plain": [
       "<Figure size 1200x480 with 1 Axes>"
      ]
     },
     "metadata": {
      "needs_background": "light"
     },
     "output_type": "display_data"
    }
   ],
   "source": [
    "figure(figsize=(15, 6), dpi=80)\n",
    "stems = ['ACB','ABC','CBA','CAB','BAC','BCA','CAC','BAB','CBC','BCB','ABA','ACA']\n",
    "plt.bar(stems, list_of_3s)\n",
    "plt.title('Num times senor started by visiting stems in this order- whole expt', fontsize = 20)\n",
    "plt.xlabel('Started with tems',fontsize = 20)\n",
    "plt.ylabel('num times start session at stem group',fontsize = 20)\n",
    "plt.xticks(fontsize = 20)\n",
    "plt.yticks(fontsize = 20)"
   ]
  },
  {
   "cell_type": "code",
   "execution_count": null,
   "metadata": {},
   "outputs": [],
   "source": [
    "#could look at how this pattern develops"
   ]
  },
  {
   "cell_type": "code",
   "execution_count": 82,
   "metadata": {},
   "outputs": [],
   "source": [
    "obj = ['day', 'session', 'stem']\n",
    "df['rew_rate'] = df.groupby(obj)[['reward']].apply(lambda x: x.ewm(halflife=10).mean())\n",
    "df['rolling_avg_A'] =df[df['stem']=='A']['rew_rate']\n",
    "df['rolling_avg_B'] =df[df['stem']=='B']['rew_rate']\n",
    "df['rolling_avg_C'] =df[df['stem']=='C']['rew_rate']\n",
    "\n",
    "\n",
    "cols = ['rolling_avg_A', 'rolling_avg_B', 'rolling_avg_C']\n",
    "# df.loc[(df['session'] ==1) & (df['trial']==0),'rolling_avg_A'] = 0\n",
    "# df.loc[(df['session'] ==1) & (df['trial']==0),'rolling_avg_C'] = 0\n",
    "df.loc[(df['trial']==0),'rolling_avg_A'] = 0\n",
    "df.loc[(df['trial']==0),'rolling_avg_B'] = 0\n",
    "df.loc[(df['trial']==0),'rolling_avg_C'] = 0\n",
    "\n",
    "df.loc[:,cols] = df.loc[:,cols].ffill()\n",
    "\n",
    "equal = (df['rolling_avg_A'] == df['rolling_avg_B']) | (df['rolling_avg_B'] == df['rolling_avg_C']) | (df['rolling_avg_A'] == df['rolling_avg_C'])\n",
    "df['best_stem'] = df.loc[~equal, ['rolling_avg_A', 'rolling_avg_B', 'rolling_avg_C']].idxmax(axis=1)\n",
    "\n",
    "df['best_stem2'] = df.loc[equal, ['rolling_avg_A', 'rolling_avg_B', 'rolling_avg_C']].idxmax(axis=1)\n",
    "df\n",
    "replace_index = df.loc[(df['best_stem2'] =='rolling_avg_A')].index\n",
    "df.loc[replace_index,'best_stem2'] = 'A'\n",
    "replace_index = df.loc[(df['best_stem2'] =='rolling_avg_B')].index\n",
    "df.loc[replace_index,'best_stem2'] = 'B'\n",
    "replace_index = df.loc[(df['best_stem2'] =='rolling_avg_C')].index\n",
    "df.loc[replace_index,'best_stem2'] = 'C'\n",
    "\n",
    "replace_index = df.loc[(df['best_stem'] =='rolling_avg_A')].index\n",
    "df.loc[replace_index,'best_stem'] = 'A'\n",
    "replace_index = df.loc[(df['best_stem'] =='rolling_avg_B')].index\n",
    "df.loc[replace_index,'best_stem'] = 'B'\n",
    "replace_index = df.loc[(df['best_stem'] =='rolling_avg_C')].index\n",
    "df.loc[replace_index,'best_stem'] = 'C'\n",
    "\n",
    "df['at_best'] = np.where( df['stem'] == df['best_stem'] , '1', '0')\n",
    "df['at_best2'] = np.where( df['stem'] == df['best_stem2'] , '1', '0')\n",
    "df['best_all'] = df['at_best'] +df['at_best2']\n",
    "# del df['at_best']\n",
    "# del df['at_best2']\n",
    "Not_at_Best = df[df['best_all']=='00']\n",
    "at_best = df[df['best_all']=='01'] \n",
    "at_best2 = df[df['best_all']=='10']\n",
    "\n",
    "df.loc[(df['best_all'] =='01'),'best_all']= 1\n",
    "df.loc[(df['best_all'] =='10'),'best_all']= 1\n",
    "df.loc[(df['best_all'] =='00'),'best_all']= 0\n",
    "\n",
    "del df['at_best']\n",
    "del df['at_best2']\n",
    "\n"
   ]
  },
  {
   "cell_type": "code",
   "execution_count": 83,
   "metadata": {},
   "outputs": [
    {
     "data": {
      "text/plain": [
       "0          1\n",
       "1          1\n",
       "2          1\n",
       "3          1\n",
       "4          1\n",
       "        ... \n",
       "13288    222\n",
       "13289    222\n",
       "13290    222\n",
       "13291    222\n",
       "13292    222\n",
       "Name: new_cont, Length: 13293, dtype: int64"
      ]
     },
     "execution_count": 83,
     "metadata": {},
     "output_type": "execute_result"
    }
   ],
   "source": [
    "df['new_cont'] = df['cont_num'].ne(df['cont_num'].shift()).cumsum()\n",
    "\n",
    "df['new_cont']\n"
   ]
  },
  {
   "cell_type": "code",
   "execution_count": 135,
   "metadata": {},
   "outputs": [],
   "source": [
    "df_choice = pd.DataFrame()\n",
    "df['stem_switch'] = df['stem'].ne(df['stem'].shift())\n",
    "for cont in range(1,df['new_cont'].max()+1):\n",
    "#     num_a = (df[df['new_cont'] ==cont]['chose_a']).sum()\n",
    "#     num_b = (df[df['new_cont'] ==cont]['chose_b']).sum()\n",
    "#     num_c = (df[df['new_cont'] ==cont]['chose_c']).sum()\n",
    "#     best_exp_stem = df[df['new_cont'] ==cont]['best_exp_stem'].unique()\n",
    "    prop_at_best = (df[df['new_cont']==cont]['best_all'].sum())/60\n",
    "    cont_num= (df[df['new_cont']==cont]['cont_num'].max())\n",
    "    day_num= (df[df['new_cont']==cont]['day'].max())\n",
    "    session_num= (df[df['new_cont']==cont]['session'].max())\n",
    "    cont_vals = (df[df['new_cont']==cont]['contingency'].max())\n",
    "#     glob_avg= (df[df['new_cont']==cont]['glob_nom_avg'].max())\n",
    "    num_rew= (df[df['new_cont']==cont]['reward'].sum())\n",
    "    stem_switch = (df[df['new_cont']==cont]['stem_switch'].sum())\n",
    "#     df_choice.loc[cont,'num_a'] = num_a\n",
    "#     df_choice.loc[cont,'num_b'] = num_b\n",
    "#     df_choice.loc[cont,'num_c'] = num_c\n",
    "#     df_choice.loc[cont, 'best_exp_stem'] = best_exp_stem\n",
    "    df_choice.loc[cont, 'prop_at_best'] = prop_at_best\n",
    "    df_choice.loc[cont,'cont_num'] = cont_num\n",
    "    df_choice.loc[cont,'day'] = day_num\n",
    "    df_choice.loc[cont,'session'] = session_num\n",
    "    df_choice.loc[cont,'contingency'] = cont_vals\n",
    "    df_choice.loc[cont,'stem_switch']= stem_switch\n",
    "#     df_choice.loc[cont,'glob_nom_avg'] = glob_avg\n",
    "    df_choice.loc[cont,'num_rew'] = num_rew\n",
    "df_choice['day_chng'] = df_choice['day'].ne(df_choice['day'].shift())\n",
    "\n",
    "df_choice['cont_chng'] = df_choice['contingency'].ne(df_choice['contingency'].shift())\n",
    "df_choice['session_chng'] = df_choice['session'].ne(df_choice['session'].shift())"
   ]
  },
  {
   "cell_type": "code",
   "execution_count": 123,
   "metadata": {},
   "outputs": [
    {
     "data": {
      "text/html": [
       "<div>\n",
       "<style scoped>\n",
       "    .dataframe tbody tr th:only-of-type {\n",
       "        vertical-align: middle;\n",
       "    }\n",
       "\n",
       "    .dataframe tbody tr th {\n",
       "        vertical-align: top;\n",
       "    }\n",
       "\n",
       "    .dataframe thead th {\n",
       "        text-align: right;\n",
       "    }\n",
       "</style>\n",
       "<table border=\"1\" class=\"dataframe\">\n",
       "  <thead>\n",
       "    <tr style=\"text-align: right;\">\n",
       "      <th></th>\n",
       "      <th>prop_at_best</th>\n",
       "      <th>cont_num</th>\n",
       "      <th>day</th>\n",
       "      <th>session</th>\n",
       "      <th>contingency</th>\n",
       "      <th>stem_switch</th>\n",
       "      <th>num_rew</th>\n",
       "      <th>day_chng</th>\n",
       "    </tr>\n",
       "  </thead>\n",
       "  <tbody>\n",
       "    <tr>\n",
       "      <th>1</th>\n",
       "      <td>0.483333</td>\n",
       "      <td>1.0</td>\n",
       "      <td>1.0</td>\n",
       "      <td>1.0</td>\n",
       "      <td>8.050202e+11</td>\n",
       "      <td>15.0</td>\n",
       "      <td>25.0</td>\n",
       "      <td>True</td>\n",
       "    </tr>\n",
       "    <tr>\n",
       "      <th>2</th>\n",
       "      <td>0.516667</td>\n",
       "      <td>2.0</td>\n",
       "      <td>1.0</td>\n",
       "      <td>1.0</td>\n",
       "      <td>2.020502e+11</td>\n",
       "      <td>7.0</td>\n",
       "      <td>24.0</td>\n",
       "      <td>False</td>\n",
       "    </tr>\n",
       "    <tr>\n",
       "      <th>3</th>\n",
       "      <td>0.416667</td>\n",
       "      <td>3.0</td>\n",
       "      <td>1.0</td>\n",
       "      <td>1.0</td>\n",
       "      <td>2.080508e+11</td>\n",
       "      <td>4.0</td>\n",
       "      <td>30.0</td>\n",
       "      <td>False</td>\n",
       "    </tr>\n",
       "    <tr>\n",
       "      <th>4</th>\n",
       "      <td>0.450000</td>\n",
       "      <td>1.0</td>\n",
       "      <td>1.0</td>\n",
       "      <td>2.0</td>\n",
       "      <td>5.020208e+11</td>\n",
       "      <td>16.0</td>\n",
       "      <td>27.0</td>\n",
       "      <td>False</td>\n",
       "    </tr>\n",
       "    <tr>\n",
       "      <th>5</th>\n",
       "      <td>0.566667</td>\n",
       "      <td>2.0</td>\n",
       "      <td>1.0</td>\n",
       "      <td>2.0</td>\n",
       "      <td>5.050502e+11</td>\n",
       "      <td>7.0</td>\n",
       "      <td>22.0</td>\n",
       "      <td>False</td>\n",
       "    </tr>\n",
       "    <tr>\n",
       "      <th>...</th>\n",
       "      <td>...</td>\n",
       "      <td>...</td>\n",
       "      <td>...</td>\n",
       "      <td>...</td>\n",
       "      <td>...</td>\n",
       "      <td>...</td>\n",
       "      <td>...</td>\n",
       "      <td>...</td>\n",
       "    </tr>\n",
       "    <tr>\n",
       "      <th>218</th>\n",
       "      <td>0.950000</td>\n",
       "      <td>2.0</td>\n",
       "      <td>11.0</td>\n",
       "      <td>5.0</td>\n",
       "      <td>2.020208e+11</td>\n",
       "      <td>1.0</td>\n",
       "      <td>40.0</td>\n",
       "      <td>False</td>\n",
       "    </tr>\n",
       "    <tr>\n",
       "      <th>219</th>\n",
       "      <td>0.683333</td>\n",
       "      <td>3.0</td>\n",
       "      <td>11.0</td>\n",
       "      <td>5.0</td>\n",
       "      <td>5.050202e+11</td>\n",
       "      <td>3.0</td>\n",
       "      <td>23.0</td>\n",
       "      <td>False</td>\n",
       "    </tr>\n",
       "    <tr>\n",
       "      <th>220</th>\n",
       "      <td>0.850000</td>\n",
       "      <td>1.0</td>\n",
       "      <td>11.0</td>\n",
       "      <td>6.0</td>\n",
       "      <td>2.020205e+11</td>\n",
       "      <td>3.0</td>\n",
       "      <td>37.0</td>\n",
       "      <td>False</td>\n",
       "    </tr>\n",
       "    <tr>\n",
       "      <th>221</th>\n",
       "      <td>0.966667</td>\n",
       "      <td>2.0</td>\n",
       "      <td>11.0</td>\n",
       "      <td>6.0</td>\n",
       "      <td>5.020805e+11</td>\n",
       "      <td>1.0</td>\n",
       "      <td>34.0</td>\n",
       "      <td>False</td>\n",
       "    </tr>\n",
       "    <tr>\n",
       "      <th>222</th>\n",
       "      <td>0.866667</td>\n",
       "      <td>3.0</td>\n",
       "      <td>11.0</td>\n",
       "      <td>6.0</td>\n",
       "      <td>5.080202e+11</td>\n",
       "      <td>1.0</td>\n",
       "      <td>31.0</td>\n",
       "      <td>False</td>\n",
       "    </tr>\n",
       "  </tbody>\n",
       "</table>\n",
       "<p>222 rows × 8 columns</p>\n",
       "</div>"
      ],
      "text/plain": [
       "     prop_at_best  cont_num   day  session   contingency  stem_switch  \\\n",
       "1        0.483333       1.0   1.0      1.0  8.050202e+11         15.0   \n",
       "2        0.516667       2.0   1.0      1.0  2.020502e+11          7.0   \n",
       "3        0.416667       3.0   1.0      1.0  2.080508e+11          4.0   \n",
       "4        0.450000       1.0   1.0      2.0  5.020208e+11         16.0   \n",
       "5        0.566667       2.0   1.0      2.0  5.050502e+11          7.0   \n",
       "..            ...       ...   ...      ...           ...          ...   \n",
       "218      0.950000       2.0  11.0      5.0  2.020208e+11          1.0   \n",
       "219      0.683333       3.0  11.0      5.0  5.050202e+11          3.0   \n",
       "220      0.850000       1.0  11.0      6.0  2.020205e+11          3.0   \n",
       "221      0.966667       2.0  11.0      6.0  5.020805e+11          1.0   \n",
       "222      0.866667       3.0  11.0      6.0  5.080202e+11          1.0   \n",
       "\n",
       "     num_rew  day_chng  \n",
       "1       25.0      True  \n",
       "2       24.0     False  \n",
       "3       30.0     False  \n",
       "4       27.0     False  \n",
       "5       22.0     False  \n",
       "..       ...       ...  \n",
       "218     40.0     False  \n",
       "219     23.0     False  \n",
       "220     37.0     False  \n",
       "221     34.0     False  \n",
       "222     31.0     False  \n",
       "\n",
       "[222 rows x 8 columns]"
      ]
     },
     "execution_count": 123,
     "metadata": {},
     "output_type": "execute_result"
    }
   ],
   "source": [
    "df_choice"
   ]
  },
  {
   "cell_type": "code",
   "execution_count": 86,
   "metadata": {},
   "outputs": [
    {
     "data": {
      "text/plain": [
       "<matplotlib.collections.LineCollection at 0x7f77293818b0>"
      ]
     },
     "execution_count": 86,
     "metadata": {},
     "output_type": "execute_result"
    },
    {
     "data": {
      "image/png": "[encoded data removed]",
      "text/plain": [
       "<Figure size 2160x1080 with 1 Axes>"
      ]
     },
     "metadata": {
      "needs_background": "light"
     },
     "output_type": "display_data"
    }
   ],
   "source": [
    "\n",
    "\n",
    "plt.figure(figsize=(30,15))\n",
    "plt.scatter(df_choice.index,df_choice['prop_at_best'])\n",
    "plt.title('proportion of trials spent at experienced best stem',fontsize=30)\n",
    "plt.xlabel(\"contingency num\",fontsize=20)\n",
    "plt.ylabel('proportion spent at experienced best stem',fontsize=30)\n",
    "plt.axhline(.33,ls='--')\n",
    "plt.xticks(fontsize=30)\n",
    "plt.yticks(fontsize=30)\n",
    "plt.vlines(df_choice[df_choice['day_chng']].index,0,1,colors='teal', ls='--',alpha=0.3)"
   ]
  },
  {
   "cell_type": "code",
   "execution_count": 140,
   "metadata": {},
   "outputs": [
    {
     "data": {
      "text/plain": [
       "<matplotlib.collections.LineCollection at 0x7f77288f7a90>"
      ]
     },
     "execution_count": 140,
     "metadata": {},
     "output_type": "execute_result"
    },
    {
     "data": {
      "image/png": "[encoded data removed]",
      "text/plain": [
       "<Figure size 2160x1080 with 1 Axes>"
      ]
     },
     "metadata": {
      "needs_background": "light"
     },
     "output_type": "display_data"
    }
   ],
   "source": [
    "\n",
    "\n",
    "plt.figure(figsize=(30,15))\n",
    "plt.scatter(df_choice.index,df_choice['stem_switch'])\n",
    "plt.title('number of stem switches per contingency over expt',fontsize=30)\n",
    "plt.xlabel(\"contingency num\",fontsize=30)\n",
    "plt.ylabel('num stem switches',fontsize=30)\n",
    "#plt.axhline(.33,ls='--')\n",
    "plt.xticks(fontsize=30)\n",
    "plt.yticks(fontsize=30)\n",
    "plt.vlines(df_choice[df_choice['day_chng']].index,0,17,colors='teal', ls='--')\n",
    "plt.vlines(df_choice[df_choice['session_chng']].index,0,17,colors='red', ls='--',alpha=0.3)"
   ]
  },
  {
   "cell_type": "code",
   "execution_count": 87,
   "metadata": {},
   "outputs": [
    {
     "data": {
      "text/plain": [
       "Text(0.5, 0, 'contingency #')"
      ]
     },
     "execution_count": 87,
     "metadata": {},
     "output_type": "execute_result"
    },
    {
     "data": {
      "image/png": "[encoded data removed]",
      "text/plain": [
       "<Figure size 432x288 with 1 Axes>"
      ]
     },
     "metadata": {
      "needs_background": "light"
     },
     "output_type": "display_data"
    }
   ],
   "source": [
    "not_at_best = df_choice[df_choice['prop_at_best']<=.33]\n",
    "# plt.scatter(not_at_best.index, not_at_best['num_rew'])\n",
    "# plt.title('when not at best for 33% of cont, how many rew did he get')\n",
    "plt.hist(not_at_best['cont_num'])\n",
    "plt.title('not performing at chance, what contingency is it')\n",
    "plt.xlabel('contingency #')"
   ]
  },
  {
   "cell_type": "code",
   "execution_count": 141,
   "metadata": {},
   "outputs": [
    {
     "data": {
      "text/plain": [
       "Text(0.5, 0, 'contingency #')"
      ]
     },
     "execution_count": 141,
     "metadata": {},
     "output_type": "execute_result"
    },
    {
     "data": {
      "image/png": "[encoded data removed]",
      "text/plain": [
       "<Figure size 432x288 with 1 Axes>"
      ]
     },
     "metadata": {
      "needs_background": "light"
     },
     "output_type": "display_data"
    }
   ],
   "source": [
    "at_best = df_choice[df_choice['prop_at_best']>=.33]\n",
    "# plt.scatter(not_at_best.index, not_at_best['num_rew'])\n",
    "# plt.title('when not at best for 33% of cont, how many rew did he get')\n",
    "plt.hist(at_best['cont_num'])\n",
    "plt.title('not performing at chance, what contingency is it')\n",
    "plt.xlabel('contingency #')"
   ]
  },
  {
   "cell_type": "code",
   "execution_count": null,
   "metadata": {},
   "outputs": [],
   "source": [
    "# from conversatino with Alison: \n",
    "\n",
    "#What im working on now is good, we dont know this information. \n",
    "# Better way to do it is to take differences among date and session like I did with stem change. Then should be able to add or subtract those (in case theres a day with only 1 session)\n",
    "#But, should go back to original question \n",
    "#does it matter what order the rat goes in to start? Or is it just that he goes to each of them a certain number of time? \n",
    "#defining exploration vs exploitation in some way? \n",
    "#go back to the larger question and ask how does what Im asking now help me answer the bigger question>? does it really tell me what I need to know to answer the bigger question? \n",
    "#thinking about it in terms of biases is interesting too (at first he has no bias, spends equal amount of time at all of them)\n",
    "#figure out the question im trying to ask and pseudocode it, talk with alison before trying it out \n",
    "#just for notes we also talked about when to start separat\n"
   ]
  },
  {
   "cell_type": "code",
   "execution_count": null,
   "metadata": {},
   "outputs": [],
   "source": []
  },
  {
   "cell_type": "code",
   "execution_count": null,
   "metadata": {},
   "outputs": [],
   "source": [
    "#want to write session_check to csv so I have better intuition looking through it. \n",
    "# current_df.to_csv(r'/home/emonroe/Documents/current_df.csv', index = False)"
   ]
  },
  {
   "cell_type": "code",
   "execution_count": 40,
   "metadata": {},
   "outputs": [
    {
     "ename": "IndexError",
     "evalue": "single positional indexer is out-of-bounds",
     "output_type": "error",
     "traceback": [
      "\u001b[0;31m---------------------------------------------------------------------------\u001b[0m",
      "\u001b[0;31mIndexError\u001b[0m                                Traceback (most recent call last)",
      "\u001b[0;32m<ipython-input-40-4f670699034f>\u001b[0m in \u001b[0;36m<module>\u001b[0;34m\u001b[0m\n\u001b[1;32m     10\u001b[0m     \u001b[0mtrial0_df\u001b[0m\u001b[0;34m\u001b[0m\u001b[0;34m\u001b[0m\u001b[0m\n\u001b[1;32m     11\u001b[0m     \u001b[0mstem1\u001b[0m\u001b[0;34m=\u001b[0m\u001b[0mtrial0_df\u001b[0m\u001b[0;34m.\u001b[0m\u001b[0mloc\u001b[0m\u001b[0;34m[\u001b[0m\u001b[0;34m'stem'\u001b[0m\u001b[0;34m]\u001b[0m\u001b[0;34m\u001b[0m\u001b[0;34m\u001b[0m\u001b[0m\n\u001b[0;32m---> 12\u001b[0;31m     \u001b[0mtrial0_ix_next\u001b[0m\u001b[0;34m=\u001b[0m \u001b[0msession_check\u001b[0m\u001b[0;34m.\u001b[0m\u001b[0miloc\u001b[0m\u001b[0;34m[\u001b[0m\u001b[0;34m(\u001b[0m\u001b[0mix\u001b[0m\u001b[0;34m+\u001b[0m\u001b[0;36m1\u001b[0m\u001b[0;34m)\u001b[0m\u001b[0;34m,\u001b[0m \u001b[0;36m0\u001b[0m\u001b[0;34m]\u001b[0m\u001b[0;34m\u001b[0m\u001b[0;34m\u001b[0m\u001b[0m\n\u001b[0m\u001b[1;32m     13\u001b[0m     \u001b[0mtrial0_ix_next\u001b[0m\u001b[0;34m\u001b[0m\u001b[0;34m\u001b[0m\u001b[0m\n\u001b[1;32m     14\u001b[0m \u001b[0;31m#     trial0_ix_next\u001b[0m\u001b[0;34m\u001b[0m\u001b[0;34m\u001b[0m\u001b[0;34m\u001b[0m\u001b[0m\n",
      "\u001b[0;32m~/miniconda2/envs/Analysis_EM/lib/python3.9/site-packages/pandas/core/indexing.py\u001b[0m in \u001b[0;36m__getitem__\u001b[0;34m(self, key)\u001b[0m\n\u001b[1;32m    887\u001b[0m                     \u001b[0;31m# AttributeError for IntervalTree get_value\u001b[0m\u001b[0;34m\u001b[0m\u001b[0;34m\u001b[0m\u001b[0;34m\u001b[0m\u001b[0m\n\u001b[1;32m    888\u001b[0m                     \u001b[0;32mreturn\u001b[0m \u001b[0mself\u001b[0m\u001b[0;34m.\u001b[0m\u001b[0mobj\u001b[0m\u001b[0;34m.\u001b[0m\u001b[0m_get_value\u001b[0m\u001b[0;34m(\u001b[0m\u001b[0;34m*\u001b[0m\u001b[0mkey\u001b[0m\u001b[0;34m,\u001b[0m \u001b[0mtakeable\u001b[0m\u001b[0;34m=\u001b[0m\u001b[0mself\u001b[0m\u001b[0;34m.\u001b[0m\u001b[0m_takeable\u001b[0m\u001b[0;34m)\u001b[0m\u001b[0;34m\u001b[0m\u001b[0;34m\u001b[0m\u001b[0m\n\u001b[0;32m--> 889\u001b[0;31m             \u001b[0;32mreturn\u001b[0m \u001b[0mself\u001b[0m\u001b[0;34m.\u001b[0m\u001b[0m_getitem_tuple\u001b[0m\u001b[0;34m(\u001b[0m\u001b[0mkey\u001b[0m\u001b[0;34m)\u001b[0m\u001b[0;34m\u001b[0m\u001b[0;34m\u001b[0m\u001b[0m\n\u001b[0m\u001b[1;32m    890\u001b[0m         \u001b[0;32melse\u001b[0m\u001b[0;34m:\u001b[0m\u001b[0;34m\u001b[0m\u001b[0;34m\u001b[0m\u001b[0m\n\u001b[1;32m    891\u001b[0m             \u001b[0;31m# we by definition only have the 0th axis\u001b[0m\u001b[0;34m\u001b[0m\u001b[0;34m\u001b[0m\u001b[0;34m\u001b[0m\u001b[0m\n",
      "\u001b[0;32m~/miniconda2/envs/Analysis_EM/lib/python3.9/site-packages/pandas/core/indexing.py\u001b[0m in \u001b[0;36m_getitem_tuple\u001b[0;34m(self, tup)\u001b[0m\n\u001b[1;32m   1448\u001b[0m     \u001b[0;32mdef\u001b[0m \u001b[0m_getitem_tuple\u001b[0m\u001b[0;34m(\u001b[0m\u001b[0mself\u001b[0m\u001b[0;34m,\u001b[0m \u001b[0mtup\u001b[0m\u001b[0;34m:\u001b[0m \u001b[0mTuple\u001b[0m\u001b[0;34m)\u001b[0m\u001b[0;34m:\u001b[0m\u001b[0;34m\u001b[0m\u001b[0;34m\u001b[0m\u001b[0m\n\u001b[1;32m   1449\u001b[0m \u001b[0;34m\u001b[0m\u001b[0m\n\u001b[0;32m-> 1450\u001b[0;31m         \u001b[0mself\u001b[0m\u001b[0;34m.\u001b[0m\u001b[0m_has_valid_tuple\u001b[0m\u001b[0;34m(\u001b[0m\u001b[0mtup\u001b[0m\u001b[0;34m)\u001b[0m\u001b[0;34m\u001b[0m\u001b[0;34m\u001b[0m\u001b[0m\n\u001b[0m\u001b[1;32m   1451\u001b[0m         \u001b[0;32mwith\u001b[0m \u001b[0msuppress\u001b[0m\u001b[0;34m(\u001b[0m\u001b[0mIndexingError\u001b[0m\u001b[0;34m)\u001b[0m\u001b[0;34m:\u001b[0m\u001b[0;34m\u001b[0m\u001b[0;34m\u001b[0m\u001b[0m\n\u001b[1;32m   1452\u001b[0m             \u001b[0;32mreturn\u001b[0m \u001b[0mself\u001b[0m\u001b[0;34m.\u001b[0m\u001b[0m_getitem_lowerdim\u001b[0m\u001b[0;34m(\u001b[0m\u001b[0mtup\u001b[0m\u001b[0;34m)\u001b[0m\u001b[0;34m\u001b[0m\u001b[0;34m\u001b[0m\u001b[0m\n",
      "\u001b[0;32m~/miniconda2/envs/Analysis_EM/lib/python3.9/site-packages/pandas/core/indexing.py\u001b[0m in \u001b[0;36m_has_valid_tuple\u001b[0;34m(self, key)\u001b[0m\n\u001b[1;32m    721\u001b[0m         \u001b[0;32mfor\u001b[0m \u001b[0mi\u001b[0m\u001b[0;34m,\u001b[0m \u001b[0mk\u001b[0m \u001b[0;32min\u001b[0m \u001b[0menumerate\u001b[0m\u001b[0;34m(\u001b[0m\u001b[0mkey\u001b[0m\u001b[0;34m)\u001b[0m\u001b[0;34m:\u001b[0m\u001b[0;34m\u001b[0m\u001b[0;34m\u001b[0m\u001b[0m\n\u001b[1;32m    722\u001b[0m             \u001b[0;32mtry\u001b[0m\u001b[0;34m:\u001b[0m\u001b[0;34m\u001b[0m\u001b[0;34m\u001b[0m\u001b[0m\n\u001b[0;32m--> 723\u001b[0;31m                 \u001b[0mself\u001b[0m\u001b[0;34m.\u001b[0m\u001b[0m_validate_key\u001b[0m\u001b[0;34m(\u001b[0m\u001b[0mk\u001b[0m\u001b[0;34m,\u001b[0m \u001b[0mi\u001b[0m\u001b[0;34m)\u001b[0m\u001b[0;34m\u001b[0m\u001b[0;34m\u001b[0m\u001b[0m\n\u001b[0m\u001b[1;32m    724\u001b[0m             \u001b[0;32mexcept\u001b[0m \u001b[0mValueError\u001b[0m \u001b[0;32mas\u001b[0m \u001b[0merr\u001b[0m\u001b[0;34m:\u001b[0m\u001b[0;34m\u001b[0m\u001b[0;34m\u001b[0m\u001b[0m\n\u001b[1;32m    725\u001b[0m                 raise ValueError(\n",
      "\u001b[0;32m~/miniconda2/envs/Analysis_EM/lib/python3.9/site-packages/pandas/core/indexing.py\u001b[0m in \u001b[0;36m_validate_key\u001b[0;34m(self, key, axis)\u001b[0m\n\u001b[1;32m   1356\u001b[0m             \u001b[0;32mreturn\u001b[0m\u001b[0;34m\u001b[0m\u001b[0;34m\u001b[0m\u001b[0m\n\u001b[1;32m   1357\u001b[0m         \u001b[0;32melif\u001b[0m \u001b[0mis_integer\u001b[0m\u001b[0;34m(\u001b[0m\u001b[0mkey\u001b[0m\u001b[0;34m)\u001b[0m\u001b[0;34m:\u001b[0m\u001b[0;34m\u001b[0m\u001b[0;34m\u001b[0m\u001b[0m\n\u001b[0;32m-> 1358\u001b[0;31m             \u001b[0mself\u001b[0m\u001b[0;34m.\u001b[0m\u001b[0m_validate_integer\u001b[0m\u001b[0;34m(\u001b[0m\u001b[0mkey\u001b[0m\u001b[0;34m,\u001b[0m \u001b[0maxis\u001b[0m\u001b[0;34m)\u001b[0m\u001b[0;34m\u001b[0m\u001b[0;34m\u001b[0m\u001b[0m\n\u001b[0m\u001b[1;32m   1359\u001b[0m         \u001b[0;32melif\u001b[0m \u001b[0misinstance\u001b[0m\u001b[0;34m(\u001b[0m\u001b[0mkey\u001b[0m\u001b[0;34m,\u001b[0m \u001b[0mtuple\u001b[0m\u001b[0;34m)\u001b[0m\u001b[0;34m:\u001b[0m\u001b[0;34m\u001b[0m\u001b[0;34m\u001b[0m\u001b[0m\n\u001b[1;32m   1360\u001b[0m             \u001b[0;31m# a tuple should already have been caught by this point\u001b[0m\u001b[0;34m\u001b[0m\u001b[0;34m\u001b[0m\u001b[0;34m\u001b[0m\u001b[0m\n",
      "\u001b[0;32m~/miniconda2/envs/Analysis_EM/lib/python3.9/site-packages/pandas/core/indexing.py\u001b[0m in \u001b[0;36m_validate_integer\u001b[0;34m(self, key, axis)\u001b[0m\n\u001b[1;32m   1442\u001b[0m         \u001b[0mlen_axis\u001b[0m \u001b[0;34m=\u001b[0m \u001b[0mlen\u001b[0m\u001b[0;34m(\u001b[0m\u001b[0mself\u001b[0m\u001b[0;34m.\u001b[0m\u001b[0mobj\u001b[0m\u001b[0;34m.\u001b[0m\u001b[0m_get_axis\u001b[0m\u001b[0;34m(\u001b[0m\u001b[0maxis\u001b[0m\u001b[0;34m)\u001b[0m\u001b[0;34m)\u001b[0m\u001b[0;34m\u001b[0m\u001b[0;34m\u001b[0m\u001b[0m\n\u001b[1;32m   1443\u001b[0m         \u001b[0;32mif\u001b[0m \u001b[0mkey\u001b[0m \u001b[0;34m>=\u001b[0m \u001b[0mlen_axis\u001b[0m \u001b[0;32mor\u001b[0m \u001b[0mkey\u001b[0m \u001b[0;34m<\u001b[0m \u001b[0;34m-\u001b[0m\u001b[0mlen_axis\u001b[0m\u001b[0;34m:\u001b[0m\u001b[0;34m\u001b[0m\u001b[0;34m\u001b[0m\u001b[0m\n\u001b[0;32m-> 1444\u001b[0;31m             \u001b[0;32mraise\u001b[0m \u001b[0mIndexError\u001b[0m\u001b[0;34m(\u001b[0m\u001b[0;34m\"single positional indexer is out-of-bounds\"\u001b[0m\u001b[0;34m)\u001b[0m\u001b[0;34m\u001b[0m\u001b[0;34m\u001b[0m\u001b[0m\n\u001b[0m\u001b[1;32m   1445\u001b[0m \u001b[0;34m\u001b[0m\u001b[0m\n\u001b[1;32m   1446\u001b[0m     \u001b[0;31m# -------------------------------------------------------------------\u001b[0m\u001b[0;34m\u001b[0m\u001b[0;34m\u001b[0m\u001b[0;34m\u001b[0m\u001b[0m\n",
      "\u001b[0;31mIndexError\u001b[0m: single positional indexer is out-of-bounds"
     ]
    }
   ],
   "source": [
    "# what id like to do now is see how many rewards the guy gets in every contingency of every run. \n",
    "# i predict that he will get more as he gets better at the task. Then i can investigate what strategies lead to higher rew\n",
    "\n",
    "# counting rewards in \n",
    "\n",
    "for ix in range(len(session_check)):\n",
    "    trial0_ix= session_check.iloc[ix, 0]\n",
    "    trial0_ix\n",
    "    trial0_df = df.iloc[trial0_ix]\n",
    "    trial0_df\n",
    "    stem1=trial0_df.loc['stem']\n",
    "    trial0_ix_next= session_check.iloc[(ix+1), 0]\n",
    "    trial0_ix_next\n",
    "#     trial0_ix_next\n",
    "    if ix ==0:\n",
    "        current_df = df.where(df.iloc[:,0] < trial0_ix_next)\n",
    "    else: \n",
    "        current_df = df.where(df.iloc[:,0] < trial0_ix_next)\n",
    "        current_df = current_df.where(current_df.iloc[:,0] > trial0_ix)\n",
    "    current_df\n",
    "    rewards = (current_df['reward'])\n",
    "    rewards = rewards.dropna()\n",
    "    rewards = rewards.sum()\n",
    "    rewards\n",
    "    if ix == 0:\n",
    "         track_rewards = []\n",
    "    track_rewards.append(rewards)\n",
    "    \n",
    "track_rewards"
   ]
  },
  {
   "cell_type": "code",
   "execution_count": 42,
   "metadata": {},
   "outputs": [
    {
     "data": {
      "text/plain": [
       "(array([  0.,  20.,  40.,  60.,  80., 100., 120., 140.]),\n",
       " [Text(0, 0, ''),\n",
       "  Text(0, 0, ''),\n",
       "  Text(0, 0, ''),\n",
       "  Text(0, 0, ''),\n",
       "  Text(0, 0, ''),\n",
       "  Text(0, 0, ''),\n",
       "  Text(0, 0, ''),\n",
       "  Text(0, 0, '')])"
      ]
     },
     "execution_count": 42,
     "metadata": {},
     "output_type": "execute_result"
    },
    {
     "data": {
      "image/png": "[encoded data removed]",
      "text/plain": [
       "<Figure size 1200x480 with 1 Axes>"
      ]
     },
     "metadata": {
      "needs_background": "light"
     },
     "output_type": "display_data"
    }
   ],
   "source": [
    "#length of every unique num in pandas df\n",
    "figure(figsize=(15, 6), dpi=80)\n",
    "sessions= range(len(track_rewards))\n",
    "plt.bar(sessions, track_rewards)\n",
    "plt.title('rewards per run', fontsize=20)\n",
    "plt.xlabel('session#',fontsize=20)\n",
    "plt.ylabel('num rew total',fontsize=20)\n",
    "plt.hlines(statistics.mean(track_rewards), 0, (len(track_rewards)))\n",
    "plt.xticks(fontsize=20)\n",
    "plt.yticks(fontsize=20)\n",
    "\n"
   ]
  },
  {
   "cell_type": "code",
   "execution_count": null,
   "metadata": {},
   "outputs": [],
   "source": [
    "# I would like to replicate Alisons plots. But instead of looking at it on a daily basis \n",
    " #which i find to be too overwhleming and not helpful in understanding how he finds the best,\n",
    "# id like to see it on a session by session basis. \n",
    "# first, id like to plot just rewarded vs unrewarded trials.. "
   ]
  },
  {
   "cell_type": "code",
   "execution_count": 169,
   "metadata": {},
   "outputs": [
    {
     "ename": "IndexError",
     "evalue": "index 127 is out of bounds for axis 0 with size 127",
     "output_type": "error",
     "traceback": [
      "\u001b[0;31m---------------------------------------------------------------------------\u001b[0m",
      "\u001b[0;31mIndexError\u001b[0m                                Traceback (most recent call last)",
      "\u001b[0;32m<ipython-input-169-fe78875cf14e>\u001b[0m in \u001b[0;36m<module>\u001b[0;34m\u001b[0m\n\u001b[1;32m      7\u001b[0m \u001b[0;34m\u001b[0m\u001b[0m\n\u001b[1;32m      8\u001b[0m \u001b[0;32mfor\u001b[0m \u001b[0mix\u001b[0m \u001b[0;32min\u001b[0m \u001b[0mrange\u001b[0m\u001b[0;34m(\u001b[0m\u001b[0mlen\u001b[0m\u001b[0;34m(\u001b[0m\u001b[0mdf\u001b[0m\u001b[0;34m)\u001b[0m\u001b[0;34m)\u001b[0m\u001b[0;34m:\u001b[0m\u001b[0;34m\u001b[0m\u001b[0;34m\u001b[0m\u001b[0m\n\u001b[0;32m----> 9\u001b[0;31m     \u001b[0mcont\u001b[0m \u001b[0;34m=\u001b[0m \u001b[0;34m(\u001b[0m\u001b[0mstr\u001b[0m\u001b[0;34m(\u001b[0m\u001b[0;34m(\u001b[0m\u001b[0mdf\u001b[0m\u001b[0;34m.\u001b[0m\u001b[0mcontingency\u001b[0m\u001b[0;34m.\u001b[0m\u001b[0munique\u001b[0m\u001b[0;34m(\u001b[0m\u001b[0;34m)\u001b[0m\u001b[0;34m)\u001b[0m\u001b[0;34m[\u001b[0m\u001b[0mix\u001b[0m\u001b[0;34m]\u001b[0m\u001b[0;34m)\u001b[0m\u001b[0;34m)\u001b[0m\u001b[0;34m\u001b[0m\u001b[0;34m\u001b[0m\u001b[0m\n\u001b[0m\u001b[1;32m     10\u001b[0m     \u001b[0mcont_split\u001b[0m\u001b[0;34m.\u001b[0m\u001b[0mappend\u001b[0m\u001b[0;34m(\u001b[0m\u001b[0;34m[\u001b[0m\u001b[0mcont\u001b[0m\u001b[0;34m[\u001b[0m\u001b[0mi\u001b[0m\u001b[0;34m:\u001b[0m\u001b[0mi\u001b[0m\u001b[0;34m+\u001b[0m\u001b[0;36m2\u001b[0m\u001b[0;34m]\u001b[0m \u001b[0;32mfor\u001b[0m \u001b[0mi\u001b[0m \u001b[0;32min\u001b[0m \u001b[0mrange\u001b[0m\u001b[0;34m(\u001b[0m\u001b[0;36m0\u001b[0m\u001b[0;34m,\u001b[0m \u001b[0mlen\u001b[0m\u001b[0;34m(\u001b[0m\u001b[0mcont\u001b[0m\u001b[0;34m)\u001b[0m\u001b[0;34m,\u001b[0m \u001b[0;36m2\u001b[0m\u001b[0;34m)\u001b[0m\u001b[0;34m]\u001b[0m\u001b[0;34m)\u001b[0m\u001b[0;34m\u001b[0m\u001b[0;34m\u001b[0m\u001b[0m\n\u001b[1;32m     11\u001b[0m \u001b[0mcont_split\u001b[0m\u001b[0;34m\u001b[0m\u001b[0;34m\u001b[0m\u001b[0m\n",
      "\u001b[0;31mIndexError\u001b[0m: index 127 is out of bounds for axis 0 with size 127"
     ]
    }
   ],
   "source": [
    "#Id like to only look at the contgencies that are the same, to compare accross learning. \n",
    "\n",
    "\n",
    "#this cell makes a new list of strings of contingencies(easiest way), split into groups of 2 numbers (the individual rew probabilities for each leaf) \n",
    "#throws an error bc of indexing but still mostly works. \n",
    "cont_split = []#Options:\n",
    "\n",
    "for ix in range(len(df)):\n",
    "    cont = (str((df.contingency.unique())[ix]))\n",
    "    cont_split.append([cont[i:i+2] for i in range(0, len(cont), 2)])\n"
   ]
  },
  {
   "cell_type": "code",
   "execution_count": 138,
   "metadata": {},
   "outputs": [
    {
     "data": {
      "text/plain": [
       "[[20, 80, 50, 80, 20, 20],\n",
       " [50, 20, 20, 80, 50, 80],\n",
       " [50, 50, 50, 20, 20, 20],\n",
       " [20, 50, 80, 50, 20, 20],\n",
       " [20, 20, 80, 50, 20, 80],\n",
       " [80, 50, 20, 50, 20, 20],\n",
       " [20, 50, 20, 50, 80, 50],\n",
       " [50, 80, 50, 20, 80, 20],\n",
       " [50, 20, 50, 80, 20, 80],\n",
       " [80, 20, 50, 20, 20, 20],\n",
       " [20, 20, 20, 50, 50, 80],\n",
       " [50, 20, 80, 50, 20, 20],\n",
       " [50, 80, 20, 20, 80, 20],\n",
       " [50, 20, 20, 80, 80, 50],\n",
       " [50, 80, 80, 20, 20, 50],\n",
       " [50, 20, 20, 20, 20, 80],\n",
       " [20, 80, 80, 50, 20, 50],\n",
       " [50, 20, 20, 20, 50, 50],\n",
       " [80, 50, 20, 20, 50, 20]]"
      ]
     },
     "execution_count": 138,
     "metadata": {},
     "output_type": "execute_result"
    }
   ],
   "source": [
    "# this turns the strings into ints so theyre easier to compute on. \n",
    "\n",
    "\n",
    "cont_split_new=[]\n",
    "for ix in range(1, len(cont_split)):\n",
    "    cont_split_new.append([int(i) for i in cont_split[ix]])\n",
    "cont_split_new[1:20]\n",
    "\n",
    "\n",
    "#2020, 2050, 5050, 8050\n",
    "\n",
    "\n",
    "# #find items in list with two 80s \n",
    "# num_80s = []\n",
    "# num_50s=[]\n",
    "# num_20s=[]\n",
    "# for ix in range(len(cont_split)):\n",
    "#     num_80s.append(cont_split_new[ix].count(80))\n",
    "#     num_50s.append(cont_split_new[ix].count(50))\n",
    "#     num_20s.append(cont_split_new[ix].count(20))\n",
    "# lst_cont_vals = [num_80s,num_50s,num_20s]"
   ]
  },
  {
   "cell_type": "code",
   "execution_count": 152,
   "metadata": {},
   "outputs": [],
   "source": [
    "\n",
    "lst_cont_vals['num80s'] = pd.DataFrame(num_80s)\n",
    "lst_cont_vals['num50s'] = num_50s\n",
    "lst_cont_vals['num20s'] = num_20s\n",
    "two80s = lst_cont_vals[(lst_cont_vals['num80s'] ==2)]\n",
    "              #& (lst_cont_vals['num20s'] ==1)] #& (lst_cont_vals['num20s'] ==1)] (8050, 8020, 5020)"
   ]
  },
  {
   "cell_type": "code",
   "execution_count": 157,
   "metadata": {},
   "outputs": [
    {
     "data": {
      "text/html": [
       "<div>\n",
       "<style scoped>\n",
       "    .dataframe tbody tr th:only-of-type {\n",
       "        vertical-align: middle;\n",
       "    }\n",
       "\n",
       "    .dataframe tbody tr th {\n",
       "        vertical-align: top;\n",
       "    }\n",
       "\n",
       "    .dataframe thead th {\n",
       "        text-align: right;\n",
       "    }\n",
       "</style>\n",
       "<table border=\"1\" class=\"dataframe\">\n",
       "  <thead>\n",
       "    <tr style=\"text-align: right;\">\n",
       "      <th></th>\n",
       "      <th>0</th>\n",
       "      <th>num50s</th>\n",
       "      <th>num20s</th>\n",
       "      <th>num80s</th>\n",
       "    </tr>\n",
       "  </thead>\n",
       "  <tbody>\n",
       "    <tr>\n",
       "      <th>1</th>\n",
       "      <td>2</td>\n",
       "      <td>1</td>\n",
       "      <td>3</td>\n",
       "      <td>2</td>\n",
       "    </tr>\n",
       "    <tr>\n",
       "      <th>2</th>\n",
       "      <td>2</td>\n",
       "      <td>2</td>\n",
       "      <td>2</td>\n",
       "      <td>2</td>\n",
       "    </tr>\n",
       "    <tr>\n",
       "      <th>5</th>\n",
       "      <td>2</td>\n",
       "      <td>1</td>\n",
       "      <td>3</td>\n",
       "      <td>2</td>\n",
       "    </tr>\n",
       "    <tr>\n",
       "      <th>8</th>\n",
       "      <td>2</td>\n",
       "      <td>2</td>\n",
       "      <td>2</td>\n",
       "      <td>2</td>\n",
       "    </tr>\n",
       "    <tr>\n",
       "      <th>9</th>\n",
       "      <td>2</td>\n",
       "      <td>2</td>\n",
       "      <td>2</td>\n",
       "      <td>2</td>\n",
       "    </tr>\n",
       "    <tr>\n",
       "      <th>13</th>\n",
       "      <td>2</td>\n",
       "      <td>1</td>\n",
       "      <td>3</td>\n",
       "      <td>2</td>\n",
       "    </tr>\n",
       "    <tr>\n",
       "      <th>14</th>\n",
       "      <td>2</td>\n",
       "      <td>2</td>\n",
       "      <td>2</td>\n",
       "      <td>2</td>\n",
       "    </tr>\n",
       "    <tr>\n",
       "      <th>15</th>\n",
       "      <td>2</td>\n",
       "      <td>2</td>\n",
       "      <td>2</td>\n",
       "      <td>2</td>\n",
       "    </tr>\n",
       "    <tr>\n",
       "      <th>17</th>\n",
       "      <td>2</td>\n",
       "      <td>2</td>\n",
       "      <td>2</td>\n",
       "      <td>2</td>\n",
       "    </tr>\n",
       "    <tr>\n",
       "      <th>20</th>\n",
       "      <td>2</td>\n",
       "      <td>2</td>\n",
       "      <td>2</td>\n",
       "      <td>2</td>\n",
       "    </tr>\n",
       "  </tbody>\n",
       "</table>\n",
       "</div>"
      ],
      "text/plain": [
       "    0  num50s  num20s  num80s\n",
       "1   2       1       3       2\n",
       "2   2       2       2       2\n",
       "5   2       1       3       2\n",
       "8   2       2       2       2\n",
       "9   2       2       2       2\n",
       "13  2       1       3       2\n",
       "14  2       2       2       2\n",
       "15  2       2       2       2\n",
       "17  2       2       2       2\n",
       "20  2       2       2       2"
      ]
     },
     "execution_count": 157,
     "metadata": {},
     "output_type": "execute_result"
    }
   ],
   "source": [
    "# cont_avg=[]\n",
    "# for ix in range(len(cont_split_new)):\n",
    "#     cont_avg.append(mean(cont_split_new[ix]))\n",
    "# cont_avg\n",
    "two80s[0:10]"
   ]
  },
  {
   "cell_type": "code",
   "execution_count": 164,
   "metadata": {},
   "outputs": [
    {
     "data": {
      "text/plain": [
       "Int64Index([  1,   2,   5,   8,   9,  13,  14,  15,  17,  20,  21,  23,  26,\n",
       "             33,  40,  44,  47,  49,  58,  64,  67,  71,  72,  74,  76,  81,\n",
       "             82,  87,  89,  93,  95, 102, 106, 108, 113, 116, 119, 120, 123],\n",
       "           dtype='int64')"
      ]
     },
     "execution_count": 164,
     "metadata": {},
     "output_type": "execute_result"
    }
   ],
   "source": [
    "#for ix in range(len(two80s)): \n",
    "ix= 1\n",
    "index = two80s.index\n",
    "#now i have the indices where there are two 80s. \n",
    "#want to go back to rew and find out how many rew he got on this particular runs. "
   ]
  },
  {
   "cell_type": "code",
   "execution_count": 168,
   "metadata": {},
   "outputs": [
    {
     "data": {
      "text/plain": [
       "42.0"
      ]
     },
     "execution_count": 168,
     "metadata": {},
     "output_type": "execute_result"
    }
   ],
   "source": [
    "#found out lengths are diff, because rew calc is done per session. \n",
    "len(track_rewards)\n",
    "len(cont_split_new)/3"
   ]
  },
  {
   "cell_type": "code",
   "execution_count": null,
   "metadata": {},
   "outputs": [],
   "source": [
    "firstday_firstsesh['stems_by_num'] = 0\n",
    "# set multiple conditions and assign reviewer category with .loc\n",
    "firstday_firstsesh.loc[(firstday_firstsesh['stem'] == 'A'), 'stems_by_num'] = 1\n",
    "firstday_firstsesh.loc[(firstday_firstsesh['stem'] == 'B'), 'stems_by_num'] = 2\n",
    "firstday_firstsesh.loc[(firstday_firstsesh['stem'] == 'C'), 'stems_by_num'] = 3\n",
    "firstday_firstsesh[\"stemChange\"] = firstday_firstsesh['stems_by_num'].diff()\n"
   ]
  },
  {
   "cell_type": "code",
   "execution_count": null,
   "metadata": {},
   "outputs": [],
   "source": [
    "# need to say in between when the stem_change is 1 or negative one, \n",
    "#look at num rew \n",
    "#want a list of rew or not between 1s and negative ones, then i want to look at # 0s before the switch \n",
    "#Then ill want a list of number of nr trials before leaving for entire expt \n",
    "\n",
    "stem_change = firstday_firstsesh[(firstday_firstsesh['stemChange'] == 1) | (firstday_firstsesh['stemChange'] == -1)] \n",
    "stem_change\n",
    "#for ix in range(len(stem_change)):\n",
    "ix=1\n",
    "stem0_ix= stem_change.iloc[ix, 0]\n",
    "stem0_df = firstday_firstsesh.iloc[stem0_ix]\n",
    "# stem0_ix_next= stem_change.iloc[(ix+1), 0]\n",
    "# if ix ==0:\n",
    "#     current_df = firstday_firstsesh.where(firstday_firstsesh.iloc[:,0] < stem0_ix_next)\n",
    "# else: \n",
    "#     current_df = firstday_firstsesh.where(firstday_firstsesh.iloc[:,0] < stem0_ix_next)\n",
    "#     current_df = current_df.where(current_df.iloc[:,0] > stem0_ix)\n",
    "# current_df\n",
    "        \n",
    "#     stem1=trial0_df.loc['stem']\n",
    "\n",
    "#     trial0_ix_next= session_check.iloc[(ix+1), 0]\n",
    "#     trial0_ix_next\n",
    "#     if ix ==0:\n",
    "#         current_df = df.where(df.iloc[:,0] < trial0_ix_next)\n",
    "#     else: \n",
    "#         current_df = df.where(df.iloc[:,0] < trial0_ix_next)\n",
    "#         current_df = current_df.where(current_df.iloc[:,0] > trial0_ix)\n",
    "#     current_df\n",
    "#     stem_order_df = current_df[(current_df['stemChange'] == 1.0)]['stem']\n",
    "#     stem_order_df\n",
    "#     ser_first2= stem_order_df.head(2)\n",
    "#     stem2=ser_first2.head(1)\n",
    "#     #stem2\n",
    "#     stem3 = ser_first2[-1:]\n",
    "#     #stem3\n",
    "#     if ix == 0:\n",
    "#         stems = []\n",
    "#     stems.append(stem1)\n",
    "#     stem2=stem2.tolist()\n",
    "#     stem3=stem3.tolist()\n",
    "#     stems.append(stem2)\n",
    "#     stems.append(stem3)\n",
    "# stems\n"
   ]
  },
  {
   "cell_type": "code",
   "execution_count": 101,
   "metadata": {},
   "outputs": [
    {
     "ename": "KeyError",
     "evalue": "\"None of [Index(['B', 'A', 'A', 'B', 'B', 'C', 'C', 'A', 'A', 'B',\\n       ...\\n       'A', 'A', 'A', 'A', 'A', 'A', 'A', 'A', 'A', 'A'],\\n      dtype='object', length=13293)] are in the [columns]\"",
     "output_type": "error",
     "traceback": [
      "\u001b[0;31m---------------------------------------------------------------------------\u001b[0m",
      "\u001b[0;31mKeyError\u001b[0m                                  Traceback (most recent call last)",
      "\u001b[0;32m<ipython-input-101-23c5ad12fe0d>\u001b[0m in \u001b[0;36m<module>\u001b[0;34m\u001b[0m\n\u001b[1;32m      8\u001b[0m \u001b[0mdf\u001b[0m\u001b[0;34m[\u001b[0m\u001b[0;34m'shift_stems'\u001b[0m\u001b[0;34m]\u001b[0m \u001b[0;34m=\u001b[0m \u001b[0mdf\u001b[0m\u001b[0;34m.\u001b[0m\u001b[0mshift\u001b[0m\u001b[0;34m(\u001b[0m\u001b[0;36m1\u001b[0m\u001b[0;34m)\u001b[0m\u001b[0;34m[\u001b[0m\u001b[0;34m'stem'\u001b[0m\u001b[0;34m]\u001b[0m\u001b[0;34m\u001b[0m\u001b[0;34m\u001b[0m\u001b[0m\n\u001b[1;32m      9\u001b[0m \u001b[0;31m#Make a new col with T/F converted to 0/1 for when rat changes stem\u001b[0m\u001b[0;34m\u001b[0m\u001b[0;34m\u001b[0m\u001b[0;34m\u001b[0m\u001b[0m\n\u001b[0;32m---> 10\u001b[0;31m \u001b[0mdf\u001b[0m\u001b[0;34m[\u001b[0m\u001b[0;34m'diff_stems'\u001b[0m\u001b[0;34m]\u001b[0m \u001b[0;34m=\u001b[0m \u001b[0mdf\u001b[0m\u001b[0;34m[\u001b[0m\u001b[0mdf\u001b[0m\u001b[0;34m.\u001b[0m\u001b[0mstem\u001b[0m\u001b[0;34m]\u001b[0m\u001b[0;34m.\u001b[0m\u001b[0mne\u001b[0m\u001b[0;34m(\u001b[0m\u001b[0mdf\u001b[0m\u001b[0;34m[\u001b[0m\u001b[0mdf\u001b[0m\u001b[0;34m.\u001b[0m\u001b[0mshift_stems\u001b[0m\u001b[0;34m]\u001b[0m\u001b[0;34m)\u001b[0m\u001b[0;34m.\u001b[0m\u001b[0mastype\u001b[0m\u001b[0;34m(\u001b[0m\u001b[0mint\u001b[0m\u001b[0;34m)\u001b[0m\u001b[0;34m\u001b[0m\u001b[0;34m\u001b[0m\u001b[0m\n\u001b[0m\u001b[1;32m     11\u001b[0m \u001b[0;31m#make a new column that adds up diff_stems, each unique number in this col corresponds to a bout at a stem.\u001b[0m\u001b[0;34m\u001b[0m\u001b[0;34m\u001b[0m\u001b[0;34m\u001b[0m\u001b[0m\n\u001b[1;32m     12\u001b[0m \u001b[0mdf\u001b[0m\u001b[0;34m[\u001b[0m\u001b[0;34m'stem_num'\u001b[0m\u001b[0;34m]\u001b[0m \u001b[0;34m=\u001b[0m \u001b[0mdf\u001b[0m\u001b[0;34m[\u001b[0m\u001b[0;34m'diff_stems'\u001b[0m\u001b[0;34m]\u001b[0m\u001b[0;34m.\u001b[0m\u001b[0mcumsum\u001b[0m\u001b[0;34m(\u001b[0m\u001b[0;34m)\u001b[0m\u001b[0;34m\u001b[0m\u001b[0;34m\u001b[0m\u001b[0m\n",
      "\u001b[0;32m~/miniconda2/envs/Analysis_EM/lib/python3.9/site-packages/pandas/core/frame.py\u001b[0m in \u001b[0;36m__getitem__\u001b[0;34m(self, key)\u001b[0m\n\u001b[1;32m   3028\u001b[0m             \u001b[0;32mif\u001b[0m \u001b[0mis_iterator\u001b[0m\u001b[0;34m(\u001b[0m\u001b[0mkey\u001b[0m\u001b[0;34m)\u001b[0m\u001b[0;34m:\u001b[0m\u001b[0;34m\u001b[0m\u001b[0;34m\u001b[0m\u001b[0m\n\u001b[1;32m   3029\u001b[0m                 \u001b[0mkey\u001b[0m \u001b[0;34m=\u001b[0m \u001b[0mlist\u001b[0m\u001b[0;34m(\u001b[0m\u001b[0mkey\u001b[0m\u001b[0;34m)\u001b[0m\u001b[0;34m\u001b[0m\u001b[0;34m\u001b[0m\u001b[0m\n\u001b[0;32m-> 3030\u001b[0;31m             \u001b[0mindexer\u001b[0m \u001b[0;34m=\u001b[0m \u001b[0mself\u001b[0m\u001b[0;34m.\u001b[0m\u001b[0mloc\u001b[0m\u001b[0;34m.\u001b[0m\u001b[0m_get_listlike_indexer\u001b[0m\u001b[0;34m(\u001b[0m\u001b[0mkey\u001b[0m\u001b[0;34m,\u001b[0m \u001b[0maxis\u001b[0m\u001b[0;34m=\u001b[0m\u001b[0;36m1\u001b[0m\u001b[0;34m,\u001b[0m \u001b[0mraise_missing\u001b[0m\u001b[0;34m=\u001b[0m\u001b[0;32mTrue\u001b[0m\u001b[0;34m)\u001b[0m\u001b[0;34m[\u001b[0m\u001b[0;36m1\u001b[0m\u001b[0;34m]\u001b[0m\u001b[0;34m\u001b[0m\u001b[0;34m\u001b[0m\u001b[0m\n\u001b[0m\u001b[1;32m   3031\u001b[0m \u001b[0;34m\u001b[0m\u001b[0m\n\u001b[1;32m   3032\u001b[0m         \u001b[0;31m# take() does not accept boolean indexers\u001b[0m\u001b[0;34m\u001b[0m\u001b[0;34m\u001b[0m\u001b[0;34m\u001b[0m\u001b[0m\n",
      "\u001b[0;32m~/miniconda2/envs/Analysis_EM/lib/python3.9/site-packages/pandas/core/indexing.py\u001b[0m in \u001b[0;36m_get_listlike_indexer\u001b[0;34m(self, key, axis, raise_missing)\u001b[0m\n\u001b[1;32m   1264\u001b[0m             \u001b[0mkeyarr\u001b[0m\u001b[0;34m,\u001b[0m \u001b[0mindexer\u001b[0m\u001b[0;34m,\u001b[0m \u001b[0mnew_indexer\u001b[0m \u001b[0;34m=\u001b[0m \u001b[0max\u001b[0m\u001b[0;34m.\u001b[0m\u001b[0m_reindex_non_unique\u001b[0m\u001b[0;34m(\u001b[0m\u001b[0mkeyarr\u001b[0m\u001b[0;34m)\u001b[0m\u001b[0;34m\u001b[0m\u001b[0;34m\u001b[0m\u001b[0m\n\u001b[1;32m   1265\u001b[0m \u001b[0;34m\u001b[0m\u001b[0m\n\u001b[0;32m-> 1266\u001b[0;31m         \u001b[0mself\u001b[0m\u001b[0;34m.\u001b[0m\u001b[0m_validate_read_indexer\u001b[0m\u001b[0;34m(\u001b[0m\u001b[0mkeyarr\u001b[0m\u001b[0;34m,\u001b[0m \u001b[0mindexer\u001b[0m\u001b[0;34m,\u001b[0m \u001b[0maxis\u001b[0m\u001b[0;34m,\u001b[0m \u001b[0mraise_missing\u001b[0m\u001b[0;34m=\u001b[0m\u001b[0mraise_missing\u001b[0m\u001b[0;34m)\u001b[0m\u001b[0;34m\u001b[0m\u001b[0;34m\u001b[0m\u001b[0m\n\u001b[0m\u001b[1;32m   1267\u001b[0m         \u001b[0;32mreturn\u001b[0m \u001b[0mkeyarr\u001b[0m\u001b[0;34m,\u001b[0m \u001b[0mindexer\u001b[0m\u001b[0;34m\u001b[0m\u001b[0;34m\u001b[0m\u001b[0m\n\u001b[1;32m   1268\u001b[0m \u001b[0;34m\u001b[0m\u001b[0m\n",
      "\u001b[0;32m~/miniconda2/envs/Analysis_EM/lib/python3.9/site-packages/pandas/core/indexing.py\u001b[0m in \u001b[0;36m_validate_read_indexer\u001b[0;34m(self, key, indexer, axis, raise_missing)\u001b[0m\n\u001b[1;32m   1306\u001b[0m             \u001b[0;32mif\u001b[0m \u001b[0mmissing\u001b[0m \u001b[0;34m==\u001b[0m \u001b[0mlen\u001b[0m\u001b[0;34m(\u001b[0m\u001b[0mindexer\u001b[0m\u001b[0;34m)\u001b[0m\u001b[0;34m:\u001b[0m\u001b[0;34m\u001b[0m\u001b[0;34m\u001b[0m\u001b[0m\n\u001b[1;32m   1307\u001b[0m                 \u001b[0maxis_name\u001b[0m \u001b[0;34m=\u001b[0m \u001b[0mself\u001b[0m\u001b[0;34m.\u001b[0m\u001b[0mobj\u001b[0m\u001b[0;34m.\u001b[0m\u001b[0m_get_axis_name\u001b[0m\u001b[0;34m(\u001b[0m\u001b[0maxis\u001b[0m\u001b[0;34m)\u001b[0m\u001b[0;34m\u001b[0m\u001b[0;34m\u001b[0m\u001b[0m\n\u001b[0;32m-> 1308\u001b[0;31m                 \u001b[0;32mraise\u001b[0m \u001b[0mKeyError\u001b[0m\u001b[0;34m(\u001b[0m\u001b[0;34mf\"None of [{key}] are in the [{axis_name}]\"\u001b[0m\u001b[0;34m)\u001b[0m\u001b[0;34m\u001b[0m\u001b[0;34m\u001b[0m\u001b[0m\n\u001b[0m\u001b[1;32m   1309\u001b[0m \u001b[0;34m\u001b[0m\u001b[0m\n\u001b[1;32m   1310\u001b[0m             \u001b[0max\u001b[0m \u001b[0;34m=\u001b[0m \u001b[0mself\u001b[0m\u001b[0;34m.\u001b[0m\u001b[0mobj\u001b[0m\u001b[0;34m.\u001b[0m\u001b[0m_get_axis\u001b[0m\u001b[0;34m(\u001b[0m\u001b[0maxis\u001b[0m\u001b[0;34m)\u001b[0m\u001b[0;34m\u001b[0m\u001b[0;34m\u001b[0m\u001b[0m\n",
      "\u001b[0;31mKeyError\u001b[0m: \"None of [Index(['B', 'A', 'A', 'B', 'B', 'C', 'C', 'A', 'A', 'B',\\n       ...\\n       'A', 'A', 'A', 'A', 'A', 'A', 'A', 'A', 'A', 'A'],\\n      dtype='object', length=13293)] are in the [columns]\""
     ]
    }
   ],
   "source": [
    "# del df['stemChange']\n",
    "\n",
    "#important- need these two deletes at firstcfor correct col indexing, but then will throw error. \n",
    "# del df['sessionChange']\n",
    "# del df['dateChange']\n",
    "# # df\n",
    "#shift the stems then find when they are different (to find when rat changes stem) \n",
    "df['shift_stems'] = df.shift(1)['stem']\n",
    "#Make a new col with T/F converted to 0/1 for when rat changes stem \n",
    "df['diff_stems'] = df[df.stem].ne(df[df.shift_stems]).astype(int) \n",
    "#make a new column that adds up diff_stems, each unique number in this col corresponds to a bout at a stem.\n",
    "df['stem_num'] = df['diff_stems'].cumsum()\n",
    "\n",
    "#important, delete these two columns once after done. \n",
    "del df['diff_stems']\n",
    "del df['shift_stems']\n",
    "\n",
    "#in_between= \n",
    "#so i have stemchange\n",
    "#what i want is to find everytime stem change is true \n",
    "#and take the rew history before that true value \n",
    "#at first i am just taking all reward history between true values\n",
    "#then finding how many 0's came before leaving \n",
    "df"
   ]
  },
  {
   "cell_type": "code",
   "execution_count": 93,
   "metadata": {},
   "outputs": [],
   "source": [
    "#make two new lists to add to. \n",
    "#non_rew_trials is the number of non rewarded trials out of the last 5 trials of the bout. \n",
    "#If the number of trials in that bout is less than 5, just count the total number of non rewarded trials. \n",
    "#keep track of both num of non rew trials, and number of trials accounted for in each bout, and lastly a \n",
    "#proportion of the two.\n",
    "non_reward_trials = []\n",
    "len_trial_bout = []\n",
    "for ix in range((max(df[\"stem_num\"]))): # for index in 1:814 (num of total bouts )\n",
    "    rewards_bout=df[(df['stem_num'] == ix)]['reward'] # for each bout, pull out reward info\n",
    "    if len(rewards_bout) <5: #if num trials in bout is less than 5, \n",
    "        num_rew_bout = rewards_bout.eq(0).sum() #sum up the number of non rew trials in the bout\n",
    "        non_reward_trials.append(num_rew_bout) #add this value to a list\n",
    "        len_trial_bout.append(len(rewards_bout)) #and add number of trials in bout to a diff list\n",
    "    else:\n",
    "        num_rew_bout = rewards_bout.tail(5).eq(0).sum() #otherwise, take only the last 5 trials of the bout and count non rew trials \n",
    "        non_reward_trials.append(num_rew_bout) #save values again\n",
    "        len_trial_bout.append(5)\n",
    "#     non_reward_trials[ix,2] = len(rewards_bout)\n"
   ]
  },
  {
   "cell_type": "code",
   "execution_count": null,
   "metadata": {},
   "outputs": [],
   "source": [
    "#new_list=[non_reward_trials, len_trial_bout]\n",
    "non_rew_trials_b4_leave = pd.DataFrame([non_reward_trials,len_trial_bout]) #make the lists into a dataframe\n"
   ]
  },
  {
   "cell_type": "code",
   "execution_count": null,
   "metadata": {},
   "outputs": [],
   "source": [
    "non_rew_trials_b4_leave = non_rew_trials_b4_leave.transpose() #transpose it so its 813 col instead of rows\n",
    "non_rew_trials_b4_leave.columns = ['Non_rew_trials', 'total_trials'] #label the col names"
   ]
  },
  {
   "cell_type": "code",
   "execution_count": null,
   "metadata": {},
   "outputs": [],
   "source": [
    "#make a new col with proportion \n",
    "non_rew_trials_b4_leave['proportion'] = non_rew_trials_b4_leave['Non_rew_trials']/non_rew_trials_b4_leave['total_trials'] "
   ]
  },
  {
   "cell_type": "code",
   "execution_count": null,
   "metadata": {},
   "outputs": [],
   "source": [
    "\n",
    "#make overlapping histograms of all of these\n",
    "(non_rew_trials_b4_leave.iloc[:,0]).hist(legend=True)\n",
    "(non_rew_trials_b4_leave.iloc[:,1]).hist(legend=True)\n",
    "(non_rew_trials_b4_leave.iloc[:,2]).hist(legend=True)\n",
    "plt.suptitle(\"num non-rew trials before leaving, all, senor\")\n"
   ]
  },
  {
   "cell_type": "code",
   "execution_count": null,
   "metadata": {},
   "outputs": [],
   "source": [
    "#print df \n",
    "non_rew_trials_b4_leave\n",
    "\n",
    "#now want to split into 4.. does he act in a certain way at first, then a different way later \n",
    "\n",
    "first_half = non_rew_trials_b4_leave.loc[1:(814/2)]\n",
    "first_half\n",
    "(first_half.iloc[:,0]).hist(legend=True)\n",
    "(first_half.iloc[:,1]).hist(legend=True)\n",
    "(first_half.iloc[:,2]).hist(legend=True)\n",
    "plt.suptitle(\"num non-rew trials before leaving, 1st half, senor\")"
   ]
  },
  {
   "cell_type": "code",
   "execution_count": null,
   "metadata": {},
   "outputs": [],
   "source": [
    "second_half= non_rew_trials_b4_leave.loc[(814/2):813]\n",
    "second_half\n",
    "(second_half.iloc[:,0]).hist(legend=True)\n",
    "(second_half.iloc[:,1]).hist(legend=True)\n",
    "(second_half.iloc[:,2]).hist(legend=True)\n",
    "plt.suptitle(\"num non-rew trials before leaving, 2nd half, senor\")"
   ]
  },
  {
   "cell_type": "code",
   "execution_count": null,
   "metadata": {},
   "outputs": [],
   "source": [
    "#This cell makes a subplot with all first contingencies of each session on each day\n",
    "#computationally intensive which prob means theres a better way to do it. \n",
    "\n",
    "#import pdb\n",
    "fig, axs = plt.subplots(8,11, figsize=(28, 40), dpi=300, sharex=True, sharey=True, )\n",
    "for day in range(1,12):\n",
    "    for session in range(1,9):\n",
    "        data_group = df[(df['day'] == day) & (df['session'] == session) & (df['cont_num'] == 1)]\n",
    "        if len(data_group)>0:\n",
    "            cont = data_group['contingency'].iloc[1]\n",
    "            date1 = data_group['date'].iloc[1]\n",
    "            session = data_group['session'].iloc[1]\n",
    "            axs[session-1,day-1].scatter(data_group['trial'],data_group['leaf'], s=1)\n",
    "            axs[session-1,day-1].set_title(f'{cont} \\ndate: {date1} \\nses: {session}').set_fontsize(8)"
   ]
  },
  {
   "cell_type": "code",
   "execution_count": null,
   "metadata": {},
   "outputs": [],
   "source": [
    "#First, should look at avg bout length \n",
    "#df\n",
    "#so in df,length of every unique num in pandas df i have stem_num. \n",
    "#If i can look at how long each of those bouts lengths are the same, thats perfect \n",
    "\n"
   ]
  },
  {
   "cell_type": "code",
   "execution_count": null,
   "metadata": {},
   "outputs": [],
   "source": [
    "# list_of_stem_bout_lengths = []\n",
    "# for ix in range(1, (df['stem_num'].max())):\n",
    "#     len_stem_bout = len(df[(df['stem_num']==ix)])\n",
    "#     list_of_stem_bout_lengths.append(len_stem_bout)\n",
    "# list_of_stem_bout_lengths"
   ]
  },
  {
   "cell_type": "code",
   "execution_count": null,
   "metadata": {},
   "outputs": [],
   "source": [
    "# plt.plot(list_of_stem_bout_lengths)\n",
    "# plt.title('stem bout length over entire expt')\n",
    "# plt.xlabel('bout nubmer')\n",
    "# plt.ylabel('bout length')"
   ]
  },
  {
   "cell_type": "code",
   "execution_count": null,
   "metadata": {},
   "outputs": [],
   "source": [
    "# max_list = max(list_of_stem_bout_lengths)\n",
    "# plt.hist(list_of_stem_bout_lengths, bins =max_list) #can change bins \n",
    "# plt.title('histogram of bout lengths')\n",
    "# plt.xlabel('bout length')\n",
    "# plt.ylabel('number of bouts')"
   ]
  },
  {
   "cell_type": "code",
   "execution_count": null,
   "metadata": {},
   "outputs": [],
   "source": [
    "#This makes a new list of lists, each list is a day num, session num, and number of stem switches in that session. \n",
    "# Lst_num_switches_session_day = []\n",
    "# for day in range(1,df['day'].max()+1):\n",
    "#     for session in range(1,df['session'].max()+1):\n",
    "#         data_group = df[(df['day'] == day) & (df['session'] == session) & (df['cont_num'] == 1)]\n",
    "#         #stem_num = data_group.loc[:,'stem_num']\n",
    "#         num_stems_per_cont = (data_group['stem_num'].ne(data_group['stem_num'].shift()).cumsum()).max()\n",
    "#         if num_stems_per_cont >=0:\n",
    "#             u = day, session, num_stems_per_cont\n",
    "#             Lst_num_switches_session_day.append(u)\n",
    "# Lst_num_switches_session_day\n"
   ]
  },
  {
   "cell_type": "code",
   "execution_count": null,
   "metadata": {},
   "outputs": [],
   "source": [
    "#Nan removal- the original list includes 8 sessions for every day even though some days dont have that many.\n",
    "#Want to remove those lists that have nans. \n",
    "#This one you have to run a couple of times to get rid of all the nans, not sure why though. \n",
    "#shouldnt need this anymore, because of new if statement in previous cell. \n",
    "# for ix in range(len(Lst_num_switches_session_day)+1):\n",
    "#     if type((Lst_num_switches_session_day[ix][2])) == float :\n",
    "#         del (Lst_num_switches_session_day[ix])"
   ]
  },
  {
   "cell_type": "code",
   "execution_count": null,
   "metadata": {},
   "outputs": [],
   "source": [
    "# #makes that list into a dataframe, probably should have just done that right away instead of making list. \n",
    "# df_list_bouts= pd.DataFrame(Lst_num_switches_session_day)\n",
    "# df_list_bouts.columns = ['day_num', 'session_num', \"num_bout_switches\"]\n",
    "# df_list_bouts"
   ]
  },
  {
   "cell_type": "code",
   "execution_count": null,
   "metadata": {},
   "outputs": [],
   "source": [
    "# #Plots number of stem changes in each bout with vertical lines @ new days. each point is a different session. \n",
    "# plt.plot(df_list_bouts['num_bout_switches'])\n",
    "# new =df_list_bouts['day_num'].ne(df_list_bouts['day_num'].shift())\n",
    "# Index = new[new].index\n",
    "# for ix in range(len(Index)):\n",
    "#     plt.axvline(x=Index[ix],ymin = 0, ymax = 1, color ='red',linewidth = 1,linestyle =\"--\")\n",
    "# plt.title(\"number of stem switches on first cont of every session of every day\")\n",
    "# plt.xlabel(\"session number, red lines are new day\")\n",
    "# plt.ylabel(\"number of stem switches in session\")"
   ]
  },
  {
   "cell_type": "code",
   "execution_count": null,
   "metadata": {},
   "outputs": [],
   "source": [
    "# plt.scatter(range(len(df_list_bouts)),df_list_bouts['num_bout_switches'])\n",
    "# new =df_list_bouts['day_num'].ne(df_list_bouts['day_num'].shift())\n",
    "# Index = new[new].index\n",
    "# for ix in range(len(Index)):\n",
    "#     plt.axvline(x=Index[ix],ymin = 0, ymax = 1, color ='red',linewidth = 1,linestyle =\"--\")\n",
    "# plt.title(\"scatter-number of stem switches on 1st cont of every session of every day\")\n",
    "# plt.xlabel(\"session number, red lines are new day\")\n",
    "# plt.ylabel(\"number of stem switches in session\")"
   ]
  },
  {
   "cell_type": "code",
   "execution_count": null,
   "metadata": {},
   "outputs": [],
   "source": [
    "#Now id like to do the same thing but for all contingencies, not just the first. \n",
    "#df"
   ]
  },
  {
   "cell_type": "code",
   "execution_count": 114,
   "metadata": {},
   "outputs": [
    {
     "data": {
      "text/plain": [
       "[(1, 1, 1, 60),\n",
       " (1, 1, 2, 60),\n",
       " (1, 1, 3, 60),\n",
       " (1, 2, 1, 60),\n",
       " (1, 2, 2, 60),\n",
       " (1, 2, 3, 60),\n",
       " (1, 3, 1, 60),\n",
       " (1, 3, 2, 60),\n",
       " (1, 3, 3, 60),\n",
       " (1, 4, 1, 60),\n",
       " (1, 4, 2, 60),\n",
       " (1, 4, 3, 60),\n",
       " (2, 1, 1, 60),\n",
       " (2, 1, 2, 60),\n",
       " (2, 1, 3, 60),\n",
       " (2, 2, 1, 60),\n",
       " (2, 2, 2, 33),\n",
       " (2, 3, 1, 60),\n",
       " (2, 3, 2, 60),\n",
       " (2, 3, 3, 60),\n",
       " (2, 4, 1, 60),\n",
       " (2, 4, 2, 60),\n",
       " (2, 4, 3, 60),\n",
       " (2, 5, 1, 60),\n",
       " (2, 5, 2, 60),\n",
       " (2, 5, 3, 60),\n",
       " (3, 1, 1, 60),\n",
       " (3, 1, 2, 60),\n",
       " (3, 1, 3, 60),\n",
       " (3, 2, 1, 60),\n",
       " (3, 2, 2, 60),\n",
       " (3, 2, 3, 60),\n",
       " (3, 3, 1, 60),\n",
       " (3, 3, 2, 60),\n",
       " (3, 3, 3, 60),\n",
       " (3, 4, 1, 60),\n",
       " (3, 4, 2, 60),\n",
       " (3, 4, 3, 60),\n",
       " (3, 5, 1, 60),\n",
       " (3, 5, 2, 60),\n",
       " (3, 5, 3, 60),\n",
       " (3, 6, 1, 60),\n",
       " (3, 6, 2, 60),\n",
       " (3, 6, 3, 60),\n",
       " (3, 7, 1, 60),\n",
       " (3, 7, 2, 60),\n",
       " (3, 7, 3, 60),\n",
       " (4, 1, 1, 60),\n",
       " (4, 1, 2, 60),\n",
       " (4, 1, 3, 60),\n",
       " (4, 2, 1, 60),\n",
       " (4, 2, 2, 60),\n",
       " (4, 2, 3, 60),\n",
       " (4, 3, 1, 60),\n",
       " (4, 3, 2, 60),\n",
       " (4, 3, 3, 60),\n",
       " (4, 5, 1, 60),\n",
       " (4, 5, 2, 60),\n",
       " (4, 5, 3, 60),\n",
       " (4, 6, 1, 60),\n",
       " (4, 6, 2, 60),\n",
       " (4, 6, 3, 60),\n",
       " (4, 7, 1, 60),\n",
       " (4, 7, 2, 60),\n",
       " (4, 7, 3, 60),\n",
       " (5, 1, 1, 60),\n",
       " (5, 1, 2, 60),\n",
       " (5, 1, 3, 60),\n",
       " (5, 2, 1, 60),\n",
       " (5, 2, 2, 60),\n",
       " (5, 2, 3, 60),\n",
       " (5, 3, 1, 60),\n",
       " (5, 3, 2, 60),\n",
       " (5, 3, 3, 60),\n",
       " (5, 4, 1, 60),\n",
       " (5, 4, 2, 60),\n",
       " (5, 4, 3, 60),\n",
       " (5, 5, 1, 60),\n",
       " (5, 5, 2, 60),\n",
       " (5, 5, 3, 60),\n",
       " (5, 6, 1, 60),\n",
       " (5, 6, 2, 60),\n",
       " (5, 6, 3, 60),\n",
       " (5, 7, 1, 60),\n",
       " (5, 7, 2, 60),\n",
       " (5, 7, 3, 60),\n",
       " (5, 8, 1, 60),\n",
       " (5, 8, 2, 60),\n",
       " (5, 8, 3, 60),\n",
       " (6, 1, 1, 60),\n",
       " (6, 1, 2, 60),\n",
       " (6, 1, 3, 60),\n",
       " (6, 2, 1, 60),\n",
       " (6, 2, 2, 60),\n",
       " (6, 2, 3, 60),\n",
       " (6, 3, 1, 60),\n",
       " (6, 3, 2, 60),\n",
       " (6, 3, 3, 60),\n",
       " (6, 4, 1, 60),\n",
       " (6, 4, 2, 60),\n",
       " (6, 4, 3, 60),\n",
       " (6, 5, 1, 60),\n",
       " (6, 5, 2, 60),\n",
       " (6, 5, 3, 60),\n",
       " (6, 6, 1, 60),\n",
       " (6, 6, 2, 60),\n",
       " (6, 6, 3, 60),\n",
       " (6, 7, 1, 60),\n",
       " (6, 7, 2, 60),\n",
       " (6, 7, 3, 60),\n",
       " (6, 8, 1, 60),\n",
       " (6, 8, 2, 60),\n",
       " (6, 8, 3, 60),\n",
       " (7, 1, 1, 60),\n",
       " (7, 1, 2, 60),\n",
       " (7, 1, 3, 60),\n",
       " (7, 2, 1, 60),\n",
       " (7, 2, 2, 60),\n",
       " (7, 2, 3, 60),\n",
       " (7, 3, 1, 60),\n",
       " (7, 3, 2, 60),\n",
       " (7, 3, 3, 60),\n",
       " (7, 4, 1, 60),\n",
       " (7, 4, 2, 60),\n",
       " (7, 4, 3, 60),\n",
       " (7, 5, 1, 60),\n",
       " (7, 5, 2, 60),\n",
       " (7, 5, 3, 60),\n",
       " (7, 6, 1, 60),\n",
       " (7, 6, 2, 60),\n",
       " (7, 6, 3, 60),\n",
       " (7, 7, 1, 60),\n",
       " (7, 7, 2, 60),\n",
       " (7, 7, 3, 60),\n",
       " (8, 1, 1, 60),\n",
       " (8, 1, 2, 60),\n",
       " (8, 1, 3, 60),\n",
       " (8, 2, 1, 60),\n",
       " (8, 2, 2, 60),\n",
       " (8, 2, 3, 60),\n",
       " (8, 3, 1, 60),\n",
       " (8, 3, 2, 60),\n",
       " (8, 3, 3, 60),\n",
       " (8, 4, 1, 60),\n",
       " (8, 4, 2, 60),\n",
       " (8, 4, 3, 60),\n",
       " (8, 5, 1, 60),\n",
       " (8, 5, 2, 60),\n",
       " (8, 5, 3, 60),\n",
       " (8, 6, 1, 60),\n",
       " (8, 6, 2, 60),\n",
       " (8, 6, 3, 60),\n",
       " (8, 7, 1, 60),\n",
       " (8, 7, 2, 60),\n",
       " (8, 7, 3, 60),\n",
       " (8, 8, 1, 60),\n",
       " (8, 8, 2, 60),\n",
       " (8, 8, 3, 60),\n",
       " (9, 1, 1, 60),\n",
       " (9, 1, 2, 60),\n",
       " (9, 1, 3, 60),\n",
       " (9, 2, 1, 60),\n",
       " (9, 2, 2, 60),\n",
       " (9, 2, 3, 60),\n",
       " (9, 3, 1, 60),\n",
       " (9, 3, 2, 60),\n",
       " (9, 3, 3, 60),\n",
       " (9, 4, 1, 60),\n",
       " (9, 4, 2, 60),\n",
       " (9, 4, 3, 60),\n",
       " (9, 5, 1, 60),\n",
       " (9, 5, 2, 60),\n",
       " (9, 5, 3, 60),\n",
       " (9, 6, 1, 60),\n",
       " (9, 6, 2, 60),\n",
       " (9, 6, 3, 60),\n",
       " (9, 7, 1, 60),\n",
       " (9, 7, 2, 60),\n",
       " (9, 7, 3, 60),\n",
       " (10, 1, 1, 60),\n",
       " (10, 1, 2, 60),\n",
       " (10, 1, 3, 60),\n",
       " (10, 2, 1, 60),\n",
       " (10, 2, 2, 60),\n",
       " (10, 2, 3, 60),\n",
       " (10, 3, 1, 60),\n",
       " (10, 3, 2, 60),\n",
       " (10, 3, 3, 60),\n",
       " (10, 4, 1, 60),\n",
       " (10, 4, 2, 60),\n",
       " (10, 4, 3, 60),\n",
       " (10, 5, 1, 60),\n",
       " (10, 5, 2, 60),\n",
       " (10, 5, 3, 60),\n",
       " (10, 6, 1, 60),\n",
       " (10, 6, 2, 60),\n",
       " (10, 6, 3, 60),\n",
       " (10, 7, 1, 60),\n",
       " (10, 7, 2, 60),\n",
       " (10, 7, 3, 60),\n",
       " (10, 8, 1, 60),\n",
       " (10, 8, 2, 60),\n",
       " (10, 8, 3, 60),\n",
       " (11, 1, 1, 60),\n",
       " (11, 1, 2, 60),\n",
       " (11, 1, 3, 60),\n",
       " (11, 2, 1, 60),\n",
       " (11, 2, 2, 60),\n",
       " (11, 2, 3, 60),\n",
       " (11, 3, 1, 60),\n",
       " (11, 3, 2, 60),\n",
       " (11, 3, 3, 60),\n",
       " (11, 4, 1, 60),\n",
       " (11, 4, 2, 60),\n",
       " (11, 4, 3, 60),\n",
       " (11, 5, 1, 60),\n",
       " (11, 5, 2, 60),\n",
       " (11, 5, 3, 60),\n",
       " (11, 6, 1, 60),\n",
       " (11, 6, 2, 60),\n",
       " (11, 6, 3, 60)]"
      ]
     },
     "execution_count": 114,
     "metadata": {},
     "output_type": "execute_result"
    }
   ],
   "source": [
    "Lst_num_switches_session_day_all_cont = []\n",
    "# day = 1\n",
    "# session =1\n",
    "# contingency=1\n",
    "for day in range(1,df['day'].max()+1):\n",
    "    for session in range(1,df['session'].max()+1):\n",
    "        for contingency in range(1, df['cont_num'].max()):\n",
    "            data_group = df[(df['day'] == day) & (df['session'] == session) & (df['cont_num'] == contingency)]\n",
    "        #stem_num = data_group.loc[:,'stem_num']\n",
    "            num_stems = (data_group['stem_num'].ne(data_group['stem_num'].shift()).cumsum()).max()\n",
    "            if num_stems >=0:\n",
    "                u = day, session, contingency, num_stems\n",
    "                Lst_num_switches_session_day_all_cont.append(u)\n",
    "Lst_num_switches_session_day_all_cont\n",
    "\n"
   ]
  },
  {
   "cell_type": "code",
   "execution_count": 115,
   "metadata": {},
   "outputs": [],
   "source": [
    "#This gives the number of swtiches in eah contingency\n",
    "day_sesh_cont= ['day', 'session','cont_num']\n",
    "num_stems= df.groupby(day_sesh_cont)['stem_num'].nunique()\n",
    "df_num_stems= pd.DataFrame(num_stems)\n",
    "#df_num_stems"
   ]
  },
  {
   "cell_type": "code",
   "execution_count": 116,
   "metadata": {},
   "outputs": [
    {
     "data": {
      "text/html": [
       "<div>\n",
       "<style scoped>\n",
       "    .dataframe tbody tr th:only-of-type {\n",
       "        vertical-align: middle;\n",
       "    }\n",
       "\n",
       "    .dataframe tbody tr th {\n",
       "        vertical-align: top;\n",
       "    }\n",
       "\n",
       "    .dataframe thead th {\n",
       "        text-align: right;\n",
       "    }\n",
       "</style>\n",
       "<table border=\"1\" class=\"dataframe\">\n",
       "  <thead>\n",
       "    <tr style=\"text-align: right;\">\n",
       "      <th></th>\n",
       "      <th>day_num</th>\n",
       "      <th>session_num</th>\n",
       "      <th>cont_num</th>\n",
       "      <th>num_bout_switches</th>\n",
       "    </tr>\n",
       "  </thead>\n",
       "  <tbody>\n",
       "    <tr>\n",
       "      <th>0</th>\n",
       "      <td>1</td>\n",
       "      <td>1</td>\n",
       "      <td>1</td>\n",
       "      <td>60</td>\n",
       "    </tr>\n",
       "    <tr>\n",
       "      <th>1</th>\n",
       "      <td>1</td>\n",
       "      <td>1</td>\n",
       "      <td>2</td>\n",
       "      <td>60</td>\n",
       "    </tr>\n",
       "    <tr>\n",
       "      <th>2</th>\n",
       "      <td>1</td>\n",
       "      <td>1</td>\n",
       "      <td>3</td>\n",
       "      <td>60</td>\n",
       "    </tr>\n",
       "    <tr>\n",
       "      <th>3</th>\n",
       "      <td>1</td>\n",
       "      <td>2</td>\n",
       "      <td>1</td>\n",
       "      <td>60</td>\n",
       "    </tr>\n",
       "    <tr>\n",
       "      <th>4</th>\n",
       "      <td>1</td>\n",
       "      <td>2</td>\n",
       "      <td>2</td>\n",
       "      <td>60</td>\n",
       "    </tr>\n",
       "    <tr>\n",
       "      <th>...</th>\n",
       "      <td>...</td>\n",
       "      <td>...</td>\n",
       "      <td>...</td>\n",
       "      <td>...</td>\n",
       "    </tr>\n",
       "    <tr>\n",
       "      <th>216</th>\n",
       "      <td>11</td>\n",
       "      <td>5</td>\n",
       "      <td>2</td>\n",
       "      <td>60</td>\n",
       "    </tr>\n",
       "    <tr>\n",
       "      <th>217</th>\n",
       "      <td>11</td>\n",
       "      <td>5</td>\n",
       "      <td>3</td>\n",
       "      <td>60</td>\n",
       "    </tr>\n",
       "    <tr>\n",
       "      <th>218</th>\n",
       "      <td>11</td>\n",
       "      <td>6</td>\n",
       "      <td>1</td>\n",
       "      <td>60</td>\n",
       "    </tr>\n",
       "    <tr>\n",
       "      <th>219</th>\n",
       "      <td>11</td>\n",
       "      <td>6</td>\n",
       "      <td>2</td>\n",
       "      <td>60</td>\n",
       "    </tr>\n",
       "    <tr>\n",
       "      <th>220</th>\n",
       "      <td>11</td>\n",
       "      <td>6</td>\n",
       "      <td>3</td>\n",
       "      <td>60</td>\n",
       "    </tr>\n",
       "  </tbody>\n",
       "</table>\n",
       "<p>221 rows × 4 columns</p>\n",
       "</div>"
      ],
      "text/plain": [
       "     day_num  session_num  cont_num  num_bout_switches\n",
       "0          1            1         1                 60\n",
       "1          1            1         2                 60\n",
       "2          1            1         3                 60\n",
       "3          1            2         1                 60\n",
       "4          1            2         2                 60\n",
       "..       ...          ...       ...                ...\n",
       "216       11            5         2                 60\n",
       "217       11            5         3                 60\n",
       "218       11            6         1                 60\n",
       "219       11            6         2                 60\n",
       "220       11            6         3                 60\n",
       "\n",
       "[221 rows x 4 columns]"
      ]
     },
     "execution_count": 116,
     "metadata": {},
     "output_type": "execute_result"
    }
   ],
   "source": [
    "df_list_bouts= pd.DataFrame(Lst_num_switches_session_day_all_cont)\n",
    "df_list_bouts.columns = ['day_num', 'session_num', 'cont_num', \"num_bout_switches\"]\n",
    "df_list_bouts"
   ]
  },
  {
   "cell_type": "code",
   "execution_count": 110,
   "metadata": {},
   "outputs": [
    {
     "ename": "NameError",
     "evalue": "name 'df_list_bouts' is not defined",
     "output_type": "error",
     "traceback": [
      "\u001b[0;31m---------------------------------------------------------------------------\u001b[0m",
      "\u001b[0;31mNameError\u001b[0m                                 Traceback (most recent call last)",
      "\u001b[0;32m<ipython-input-110-c8c6f656d003>\u001b[0m in \u001b[0;36m<module>\u001b[0;34m\u001b[0m\n\u001b[0;32m----> 1\u001b[0;31m \u001b[0mplt\u001b[0m\u001b[0;34m.\u001b[0m\u001b[0mplot\u001b[0m\u001b[0;34m(\u001b[0m\u001b[0mdf_list_bouts\u001b[0m\u001b[0;34m[\u001b[0m\u001b[0;34m'num_bout_switches'\u001b[0m\u001b[0;34m]\u001b[0m\u001b[0;34m)\u001b[0m\u001b[0;34m\u001b[0m\u001b[0;34m\u001b[0m\u001b[0m\n\u001b[0m\u001b[1;32m      2\u001b[0m \u001b[0mnew\u001b[0m \u001b[0;34m=\u001b[0m\u001b[0mdf_list_bouts\u001b[0m\u001b[0;34m[\u001b[0m\u001b[0;34m'day_num'\u001b[0m\u001b[0;34m]\u001b[0m\u001b[0;34m.\u001b[0m\u001b[0mne\u001b[0m\u001b[0;34m(\u001b[0m\u001b[0mdf_list_bouts\u001b[0m\u001b[0;34m[\u001b[0m\u001b[0;34m'day_num'\u001b[0m\u001b[0;34m]\u001b[0m\u001b[0;34m.\u001b[0m\u001b[0mshift\u001b[0m\u001b[0;34m(\u001b[0m\u001b[0;34m)\u001b[0m\u001b[0;34m)\u001b[0m\u001b[0;34m\u001b[0m\u001b[0;34m\u001b[0m\u001b[0m\n\u001b[1;32m      3\u001b[0m \u001b[0mIndex\u001b[0m \u001b[0;34m=\u001b[0m \u001b[0mnew\u001b[0m\u001b[0;34m[\u001b[0m\u001b[0mnew\u001b[0m\u001b[0;34m]\u001b[0m\u001b[0;34m.\u001b[0m\u001b[0mindex\u001b[0m\u001b[0;34m\u001b[0m\u001b[0;34m\u001b[0m\u001b[0m\n\u001b[1;32m      4\u001b[0m \u001b[0;32mfor\u001b[0m \u001b[0mix\u001b[0m \u001b[0;32min\u001b[0m \u001b[0mrange\u001b[0m\u001b[0;34m(\u001b[0m\u001b[0mlen\u001b[0m\u001b[0;34m(\u001b[0m\u001b[0mIndex\u001b[0m\u001b[0;34m)\u001b[0m\u001b[0;34m)\u001b[0m\u001b[0;34m:\u001b[0m\u001b[0;34m\u001b[0m\u001b[0;34m\u001b[0m\u001b[0m\n\u001b[1;32m      5\u001b[0m     \u001b[0mplt\u001b[0m\u001b[0;34m.\u001b[0m\u001b[0maxvline\u001b[0m\u001b[0;34m(\u001b[0m\u001b[0mx\u001b[0m\u001b[0;34m=\u001b[0m\u001b[0mIndex\u001b[0m\u001b[0;34m[\u001b[0m\u001b[0mix\u001b[0m\u001b[0;34m]\u001b[0m\u001b[0;34m,\u001b[0m\u001b[0mymin\u001b[0m \u001b[0;34m=\u001b[0m \u001b[0;36m0\u001b[0m\u001b[0;34m,\u001b[0m \u001b[0mymax\u001b[0m \u001b[0;34m=\u001b[0m \u001b[0;36m1\u001b[0m\u001b[0;34m,\u001b[0m \u001b[0mcolor\u001b[0m \u001b[0;34m=\u001b[0m\u001b[0;34m'red'\u001b[0m\u001b[0;34m,\u001b[0m\u001b[0mlinewidth\u001b[0m \u001b[0;34m=\u001b[0m \u001b[0;36m1\u001b[0m\u001b[0;34m,\u001b[0m\u001b[0mlinestyle\u001b[0m \u001b[0;34m=\u001b[0m\u001b[0;34m\"--\"\u001b[0m\u001b[0;34m)\u001b[0m\u001b[0;34m\u001b[0m\u001b[0;34m\u001b[0m\u001b[0m\n",
      "\u001b[0;31mNameError\u001b[0m: name 'df_list_bouts' is not defined"
     ]
    }
   ],
   "source": [
    "plt.plot(df_list_bouts['num_bout_switches'])\n",
    "new =df_list_bouts['day_num'].ne(df_list_bouts['day_num'].shift())\n",
    "Index = new[new].index\n",
    "for ix in range(len(Index)):\n",
    "    plt.axvline(x=Index[ix],ymin = 0, ymax = 1, color ='red',linewidth = 1,linestyle =\"--\")\n",
    "#plt.vlines(x= , ymin=0,ymax=1,color='green', linewidth=1)\n",
    "# new =df_list_bouts['cont_num'].ne(df_list_bouts['cont_num'].shift())\n",
    "# Index = new[new].index\n",
    "# for ix in range(len(Index)):\n",
    "#     plt.axvline(x=Index[ix],ymin = 0, ymax = 1, color ='green',linewidth = 1,linestyle =\"--\")\n",
    "plt.title(\"number of stem switches on every cont of every session of every day\")\n",
    "plt.xlabel(\"session number, red lines are new day\")\n",
    "plt.ylabel(\"number of stem switches in session\")"
   ]
  },
  {
   "cell_type": "code",
   "execution_count": 109,
   "metadata": {},
   "outputs": [
    {
     "ename": "NameError",
     "evalue": "name 'df_list_bouts' is not defined",
     "output_type": "error",
     "traceback": [
      "\u001b[0;31m---------------------------------------------------------------------------\u001b[0m",
      "\u001b[0;31mNameError\u001b[0m                                 Traceback (most recent call last)",
      "\u001b[0;32m<ipython-input-109-587a309cfd4b>\u001b[0m in \u001b[0;36m<module>\u001b[0;34m\u001b[0m\n\u001b[1;32m      1\u001b[0m \u001b[0;32mimport\u001b[0m \u001b[0mmatplotlib\u001b[0m\u001b[0;34m.\u001b[0m\u001b[0mpyplot\u001b[0m \u001b[0;32mas\u001b[0m \u001b[0mplt\u001b[0m\u001b[0;34m\u001b[0m\u001b[0;34m\u001b[0m\u001b[0m\n\u001b[1;32m      2\u001b[0m \u001b[0mplt\u001b[0m\u001b[0;34m.\u001b[0m\u001b[0mfigure\u001b[0m\u001b[0;34m(\u001b[0m\u001b[0mnum\u001b[0m\u001b[0;34m=\u001b[0m\u001b[0;32mNone\u001b[0m\u001b[0;34m,\u001b[0m \u001b[0mfigsize\u001b[0m\u001b[0;34m=\u001b[0m\u001b[0;34m(\u001b[0m\u001b[0;36m20\u001b[0m\u001b[0;34m,\u001b[0m\u001b[0;36m13\u001b[0m\u001b[0;34m)\u001b[0m\u001b[0;34m)\u001b[0m\u001b[0;34m\u001b[0m\u001b[0;34m\u001b[0m\u001b[0m\n\u001b[0;32m----> 3\u001b[0;31m \u001b[0mplt\u001b[0m\u001b[0;34m.\u001b[0m\u001b[0mscatter\u001b[0m\u001b[0;34m(\u001b[0m\u001b[0mrange\u001b[0m\u001b[0;34m(\u001b[0m\u001b[0mlen\u001b[0m\u001b[0;34m(\u001b[0m\u001b[0mdf_list_bouts\u001b[0m\u001b[0;34m)\u001b[0m\u001b[0;34m)\u001b[0m\u001b[0;34m,\u001b[0m\u001b[0mdf_list_bouts\u001b[0m\u001b[0;34m[\u001b[0m\u001b[0;34m'num_bout_switches'\u001b[0m\u001b[0;34m]\u001b[0m\u001b[0;34m)\u001b[0m\u001b[0;34m\u001b[0m\u001b[0;34m\u001b[0m\u001b[0m\n\u001b[0m\u001b[1;32m      4\u001b[0m \u001b[0;32mfor\u001b[0m \u001b[0mix\u001b[0m \u001b[0;32min\u001b[0m \u001b[0mrange\u001b[0m\u001b[0;34m(\u001b[0m\u001b[0mlen\u001b[0m\u001b[0;34m(\u001b[0m\u001b[0mdf_list_bouts\u001b[0m\u001b[0;34m)\u001b[0m\u001b[0;34m)\u001b[0m\u001b[0;34m:\u001b[0m\u001b[0;34m\u001b[0m\u001b[0;34m\u001b[0m\u001b[0m\n\u001b[1;32m      5\u001b[0m     \u001b[0;32mif\u001b[0m \u001b[0mix\u001b[0m\u001b[0;34m%\u001b[0m\u001b[0;36m3\u001b[0m \u001b[0;34m==\u001b[0m\u001b[0;36m0\u001b[0m\u001b[0;34m:\u001b[0m\u001b[0;34m\u001b[0m\u001b[0;34m\u001b[0m\u001b[0m\n",
      "\u001b[0;31mNameError\u001b[0m: name 'df_list_bouts' is not defined"
     ]
    },
    {
     "data": {
      "text/plain": [
       "<Figure size 1440x936 with 0 Axes>"
      ]
     },
     "metadata": {},
     "output_type": "display_data"
    }
   ],
   "source": [
    "\n",
    "import matplotlib.pyplot as plt\n",
    "plt.figure(num=None, figsize=(20,13))\n",
    "plt.scatter(range(len(df_list_bouts)),df_list_bouts['num_bout_switches'])\n",
    "for ix in range(len(df_list_bouts)):\n",
    "    if ix%3 ==0: \n",
    "        plt.vlines(x= ix, ymin=0,ymax=16,color='green', linewidth=1, alpha = .3)\n",
    "new =df_list_bouts['day_num'].ne(df_list_bouts['day_num'].shift())\n",
    "Index = new[new].index\n",
    "for ix in range(len(Index)):\n",
    "    plt.axvline(x=Index[ix],ymin = 0, ymax = 1, color ='red',linewidth = 1,linestyle =\"--\", alpha = .7)\n",
    "plt.title(\"number of stem switches on every cont of every session of every day\")\n",
    "plt.xlabel(\"session number, red lines are new day, green lines new session\")\n",
    "plt.ylabel(\"number of stem switches in session\")\n",
    "    "
   ]
  },
  {
   "cell_type": "code",
   "execution_count": null,
   "metadata": {},
   "outputs": [],
   "source": [
    "#in this cell I am trying to find only the day/session/contingency number corresponding to the times with the highest \n",
    "#number of stem switches, take that informtion back to the original dataframe, and find out what the contingency was.\n",
    "#right now the code is breaking because of my indexing.. it can go through the first two because its the same order as \n",
    "#df_list_bouts, but as soon as longest_bouts skips some rows, my iterator doesnt work. \n",
    "#DOES NOT WORK\n",
    "\n",
    "# df_list_bouts['num_bout_switches'].mean()\n",
    "# df_list_bouts['num_bout_switches'].std()\n",
    "\n",
    "# longest_bouts = df_list_bouts['num_bout_switches'] > (df_list_bouts['num_bout_switches'].mean()+df_list_bouts['num_bout_switches'].std())\n",
    "# lst_of_conting_high_stem_switch=[]\n",
    "# # for ix in range(len(df_list_bouts[longest_bouts])):\n",
    "# for ix in range(len(longest_bouts)):   \n",
    "#     df_list_bouts[longest_bouts].loc[ix]\n",
    "#     day = df_list_bouts[longest_bouts].loc[ix,'day_num']\n",
    "#     session = df_list_bouts[longest_bouts].loc[ix,'session_num']\n",
    "#     contin = df_list_bouts[longest_bouts].loc[ix,'cont_num']\n",
    "#     contin_for_high_num_bouts = df.loc[(df['day']==day) & (df['session']==session) & (df['cont_num']==contin)]['contingency'].iloc[1]\n",
    "#     lst_of_conting_high_stem_switch.append(contin_for_high_num_bouts)\n"
   ]
  },
  {
   "cell_type": "code",
   "execution_count": null,
   "metadata": {},
   "outputs": [],
   "source": [
    "#Want to find total number of rewards in each contingency. \n",
    "#Question for alison- do you make new variables or lists? or new dataframes to temporarily store\n",
    "#variables to work with (I basically do whatever I think of first)\n",
    "#df"
   ]
  },
  {
   "cell_type": "code",
   "execution_count": 95,
   "metadata": {},
   "outputs": [],
   "source": [
    "#This cell creates a df with day, session, contingency, number of stem switches, and number of rewards. \n",
    "\n",
    "cols= ['day', 'session', 'cont_num']\n",
    "#rew_all = df.groupby(cols)['reward'].sum()\n",
    "# pd.set_option('display.max_rows', None)\n",
    "# pd.set_option('display.max_columns', None)\n",
    "# pd.set_option('display.width', 1000)\n",
    "# pd.set_option('display.colheader_justify', 'center')\n",
    "# pd.set_option('display.precision', 2)\n",
    "df_num_stems['num_rew'] = df.groupby(cols)['reward'].sum()\n",
    "#df_num_stems\n",
    "#hmmmmm day 2 run 2 only has 2 contingnecies? and day 2 run 5 has 4??\n",
    "#I think i need to re-write both of these in a similar way.. recreate the df_list_bouts using group by"
   ]
  },
  {
   "cell_type": "code",
   "execution_count": null,
   "metadata": {},
   "outputs": [],
   "source": [
    "df_num_stems"
   ]
  },
  {
   "cell_type": "code",
   "execution_count": null,
   "metadata": {},
   "outputs": [],
   "source": [
    "df_num_stems['num_rew'] = df.groupby(cols)['reward'].sum()"
   ]
  },
  {
   "cell_type": "code",
   "execution_count": 96,
   "metadata": {},
   "outputs": [
    {
     "data": {
      "text/plain": [
       "Text(0, 0.5, 'number of stem visits')"
      ]
     },
     "execution_count": 96,
     "metadata": {},
     "output_type": "execute_result"
    },
    {
     "data": {
      "image/png": "[encoded data removed]",
      "text/plain": [
       "<Figure size 1440x936 with 1 Axes>"
      ]
     },
     "metadata": {
      "needs_background": "light"
     },
     "output_type": "display_data"
    }
   ],
   "source": [
    "plt.figure(num=None, figsize=(20,13))\n",
    "plt.scatter(df_num_stems['num_rew'],df_num_stems['stem_num'])\n",
    "plt.title('number of stem visits versus reward in every continingency',fontsize=20)\n",
    "plt.xlabel('number of rewards', fontsize=20)\n",
    "plt.ylabel('number of stem visits',fontsize=20)"
   ]
  },
  {
   "cell_type": "code",
   "execution_count": null,
   "metadata": {},
   "outputs": [],
   "source": [
    "# could do something similar with recent experienced rew prob.. \n",
    "#figure out what the rew probability was when rat leaves the stem.\n",
    "\n",
    "\n",
    "#When the number of stem visits is high, how likely is it that its the first day? first session? \n",
    "#first contignecy? When the number of stem visits is low, how likely is it that its a specific \n",
    "#rew probability distribution?"
   ]
  },
  {
   "cell_type": "code",
   "execution_count": null,
   "metadata": {},
   "outputs": [],
   "source": [
    "#what is rew rate for every bout? should he have stayed or left? \n",
    "\n",
    "#for every bout at a stem, what was avg rew rate? (would expect short bouts with low rew rate)\n",
    "\n",
    "#firstday_firstsesh = df.loc[0:59]\n",
    "#firstday_firstsesh.stem_num.ne(firstday_firstsesh['stem_num'].shift())\n",
    "#num_stems= df.groupby(day_sesh_cont)['stem_num'].nunique()\n",
    "\n",
    "#firstsesh = df.loc[0:179]\n",
    "bout_lengths = pd.DataFrame(df['stem_num'].value_counts(ascending=True))\n",
    "bout_lengths = bout_lengths.sort_index()\n",
    "bout_lengths\n",
    "bout_rew_mean= []\n",
    "day_num= []\n",
    "cont_num= []\n",
    "sesh_num = []\n",
    "for ix in range(1,df.stem_num.max()+1):\n",
    "    bout_rew_mean.append(df[df.stem_num.eq(ix)]['reward'].mean())\n",
    "    day_num.append(df[df.stem_num.eq(ix)]['day'].mean())\n",
    "    sesh_num.append(df[df.stem_num.eq(ix)]['session'].mean())\n",
    "    cont_num.append(df[df.stem_num.eq(ix)]['cont_num'].mean())\n",
    "bout_lengths['rew_avg']= bout_rew_mean \n",
    "bout_lengths['day_num'] = day_num\n",
    "bout_lengths['sesh_num'] = sesh_num #just found that these bouts cross contingencies- problem)\n",
    "bout_lengths['cont_num'] = cont_num #just found that these bouts cross contingencies- problem)\n",
    "\n",
    "    \n",
    "    \n",
    "    \n",
    "plt.figure(num=None, figsize=(20,10))\n",
    "scatter = plt.scatter(bout_lengths.stem_num,bout_lengths.rew_avg,c=bout_lengths['day_num'], cmap=plt.cm.binary)\n",
    "handles, labels = scatter.legend_elements()\n",
    "#print(labels)\n",
    "labels = ['day1','day2','day3','day4','day5','day6','day7','day8','day8','day9','day10','day11']\n",
    "plt.legend(handles, labels)\n",
    "plt.title('length of bout vs experienced rew prob')\n",
    "plt.xlabel('length of bout')\n",
    "plt.ylabel('experienced reward probability')"
   ]
  },
  {
   "cell_type": "code",
   "execution_count": null,
   "metadata": {},
   "outputs": [],
   "source": [
    "first_day_sesh_cont = (bout_lengths[bout_lengths.day_num.eq(1) & bout_lengths.cont_num.eq(1) & bout_lengths.sesh_num.eq(1)])\n",
    "first_day_sesh_cont \n",
    "plt.scatter(first_day_sesh_cont.stem_num,first_day_sesh_cont.rew_avg,c=range(len(first_day_sesh_cont)), cmap=plt.cm.autumn)\n",
    "labels = ['bout1','bout2','bout3','bout4','bout5','bout6','bout7','bout8','bout8','bout9']\n",
    "plt.legend(handles, labels)\n",
    "plt.title('length of bout vs experienced rew prob')\n",
    "plt.xlabel('length of bout')\n",
    "plt.ylabel('experienced reward probability')"
   ]
  },
  {
   "cell_type": "code",
   "execution_count": null,
   "metadata": {},
   "outputs": [],
   "source": [
    "firstday_firstcont_bout_legnths = bout_lengths[bout_lengths.day_num.eq(1)][1:60]\n",
    "#plt.figure(num=None, figsize=(20,10))\n",
    "plt.scatter(firstday_bout_legnths.stem_num,firstday_bout_legnths.rew_avg)#c=firstday_bout_legnths['day_num'], cmap=plt.cm.autumn)\n",
    "#handles, labels = scatter.legend_elements()\n",
    "#print(labels)\n",
    "#labels = ['day1','day2','day3','day4','day5','day6','day7','day8','day8','day9','day10','day11']\n",
    "#plt.legend(handles, labels)\n",
    "plt.title('length of bout vs experienced rew prob-first day')\n",
    "plt.xlabel('length of bout')\n",
    "plt.ylabel('experienced reward probability')"
   ]
  },
  {
   "cell_type": "code",
   "execution_count": null,
   "metadata": {},
   "outputs": [],
   "source": [
    "lastday_bout_legnths = bout_lengths[bout_lengths.day_num.eq(11)]\n",
    "#plt.figure(num=None, figsize=(20,10))\n",
    "plt.scatter(lastday_bout_legnths.stem_num,lastday_bout_legnths.rew_avg)#c=firstday_bout_legnths['day_num'], cmap=plt.cm.autumn)\n",
    "#handles, labels = scatter.legend_elements()\n",
    "#print(labels)\n",
    "#labels = ['day1','day2','day3','day4','day5','day6','day7','day8','day8','day9','day10','day11']\n",
    "#plt.legend(handles, labels)\n",
    "plt.title('length of bout vs experienced rew prob- last day')\n",
    "plt.xlabel('length of bout')\n",
    "plt.ylabel('experienced reward probability')"
   ]
  },
  {
   "cell_type": "code",
   "execution_count": null,
   "metadata": {},
   "outputs": [],
   "source": [
    "bout_lengths.stem_num"
   ]
  },
  {
   "cell_type": "code",
   "execution_count": null,
   "metadata": {},
   "outputs": [],
   "source": [
    "bout_lengths"
   ]
  },
  {
   "cell_type": "code",
   "execution_count": 119,
   "metadata": {},
   "outputs": [],
   "source": [
    "df['stem_switch'] = df['stem'].ne(df['stem'].shift())\n",
    "#df['contingency'].ne(df['contingency'].shift())"
   ]
  },
  {
   "cell_type": "code",
   "execution_count": 118,
   "metadata": {},
   "outputs": [
    {
     "data": {
      "text/plain": [
       "0          1\n",
       "1          2\n",
       "2          2\n",
       "3          3\n",
       "4          3\n",
       "        ... \n",
       "13288    814\n",
       "13289    814\n",
       "13290    814\n",
       "13291    814\n",
       "13292    814\n",
       "Name: stem_switch, Length: 13293, dtype: int64"
      ]
     },
     "execution_count": 118,
     "metadata": {},
     "output_type": "execute_result"
    }
   ],
   "source": [
    "df['stem_switch']"
   ]
  },
  {
   "cell_type": "code",
   "execution_count": null,
   "metadata": {},
   "outputs": [],
   "source": []
  }
 ],
 "metadata": {
  "kernelspec": {
   "display_name": "Python 3 (ipykernel)",
   "language": "python",
   "name": "python3"
  },
  "language_info": {
   "codemirror_mode": {
    "name": "ipython",
    "version": 3
   },
   "file_extension": ".py",
   "mimetype": "text/x-python",
   "name": "python",
   "nbconvert_exporter": "python",
   "pygments_lexer": "ipython3",
   "version": "3.9.13"
  }
 },
 "nbformat": 4,
 "nbformat_minor": 4
}
