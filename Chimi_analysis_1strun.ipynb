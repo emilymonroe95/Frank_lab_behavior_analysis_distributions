{
 "cells": [
  {
   "cell_type": "markdown",
   "metadata": {},
   "source": [
    "# EM analysis Experimenting"
   ]
  },
  {
   "cell_type": "markdown",
   "metadata": {},
   "source": [
    "#### Run this at the beginning of every notebook"
   ]
  },
  {
   "cell_type": "code",
   "execution_count": 1,
   "metadata": {},
   "outputs": [],
   "source": [
    "%load_ext autoreload\n",
    "%autoreload 2"
   ]
  },
  {
   "cell_type": "markdown",
   "metadata": {},
   "source": [
    "#### importing data and reading in CSV "
   ]
  },
  {
   "cell_type": "code",
   "execution_count": 2,
   "metadata": {},
   "outputs": [],
   "source": [
    "import pandas as pd\n",
    "import numpy as np\n",
    "from matplotlib import pyplot as plt\n",
    "from matplotlib.pyplot import figure\n",
    "df = pd.read_csv (r'/home/emonroe/Downloads/20210531_toEM/behavior_csv/chimi_clean_contingencies_only_parsed_data.csv')"
   ]
  },
  {
   "cell_type": "markdown",
   "metadata": {},
   "source": [
    "#### pulling out only the first epoch of the first day, plus other experimenting code"
   ]
  },
  {
   "cell_type": "code",
   "execution_count": 3,
   "metadata": {},
   "outputs": [
    {
     "data": {
      "text/html": [
       "<div>\n",
       "<style scoped>\n",
       "    .dataframe tbody tr th:only-of-type {\n",
       "        vertical-align: middle;\n",
       "    }\n",
       "\n",
       "    .dataframe tbody tr th {\n",
       "        vertical-align: top;\n",
       "    }\n",
       "\n",
       "    .dataframe thead th {\n",
       "        text-align: right;\n",
       "    }\n",
       "</style>\n",
       "<table border=\"1\" class=\"dataframe\">\n",
       "  <thead>\n",
       "    <tr style=\"text-align: right;\">\n",
       "      <th></th>\n",
       "      <th>Unnamed: 0</th>\n",
       "      <th>leaf</th>\n",
       "      <th>stem</th>\n",
       "      <th>reward</th>\n",
       "      <th>contingency</th>\n",
       "      <th>date</th>\n",
       "      <th>session</th>\n",
       "      <th>trial</th>\n",
       "    </tr>\n",
       "  </thead>\n",
       "  <tbody>\n",
       "    <tr>\n",
       "      <th>0</th>\n",
       "      <td>0</td>\n",
       "      <td>4</td>\n",
       "      <td>B</td>\n",
       "      <td>1</td>\n",
       "      <td>805020802050</td>\n",
       "      <td>20200213</td>\n",
       "      <td>1</td>\n",
       "      <td>0</td>\n",
       "    </tr>\n",
       "    <tr>\n",
       "      <th>1</th>\n",
       "      <td>1</td>\n",
       "      <td>3</td>\n",
       "      <td>B</td>\n",
       "      <td>1</td>\n",
       "      <td>805020802050</td>\n",
       "      <td>20200213</td>\n",
       "      <td>1</td>\n",
       "      <td>1</td>\n",
       "    </tr>\n",
       "    <tr>\n",
       "      <th>2</th>\n",
       "      <td>2</td>\n",
       "      <td>1</td>\n",
       "      <td>A</td>\n",
       "      <td>1</td>\n",
       "      <td>805020802050</td>\n",
       "      <td>20200213</td>\n",
       "      <td>1</td>\n",
       "      <td>2</td>\n",
       "    </tr>\n",
       "    <tr>\n",
       "      <th>3</th>\n",
       "      <td>3</td>\n",
       "      <td>2</td>\n",
       "      <td>A</td>\n",
       "      <td>0</td>\n",
       "      <td>805020802050</td>\n",
       "      <td>20200213</td>\n",
       "      <td>1</td>\n",
       "      <td>3</td>\n",
       "    </tr>\n",
       "    <tr>\n",
       "      <th>4</th>\n",
       "      <td>4</td>\n",
       "      <td>1</td>\n",
       "      <td>A</td>\n",
       "      <td>1</td>\n",
       "      <td>805020802050</td>\n",
       "      <td>20200213</td>\n",
       "      <td>1</td>\n",
       "      <td>4</td>\n",
       "    </tr>\n",
       "    <tr>\n",
       "      <th>...</th>\n",
       "      <td>...</td>\n",
       "      <td>...</td>\n",
       "      <td>...</td>\n",
       "      <td>...</td>\n",
       "      <td>...</td>\n",
       "      <td>...</td>\n",
       "      <td>...</td>\n",
       "      <td>...</td>\n",
       "    </tr>\n",
       "    <tr>\n",
       "      <th>275</th>\n",
       "      <td>275</td>\n",
       "      <td>4</td>\n",
       "      <td>B</td>\n",
       "      <td>1</td>\n",
       "      <td>205080508020</td>\n",
       "      <td>20200213</td>\n",
       "      <td>1</td>\n",
       "      <td>275</td>\n",
       "    </tr>\n",
       "    <tr>\n",
       "      <th>276</th>\n",
       "      <td>276</td>\n",
       "      <td>3</td>\n",
       "      <td>B</td>\n",
       "      <td>0</td>\n",
       "      <td>205080508020</td>\n",
       "      <td>20200213</td>\n",
       "      <td>1</td>\n",
       "      <td>276</td>\n",
       "    </tr>\n",
       "    <tr>\n",
       "      <th>277</th>\n",
       "      <td>277</td>\n",
       "      <td>4</td>\n",
       "      <td>B</td>\n",
       "      <td>0</td>\n",
       "      <td>205080508020</td>\n",
       "      <td>20200213</td>\n",
       "      <td>1</td>\n",
       "      <td>277</td>\n",
       "    </tr>\n",
       "    <tr>\n",
       "      <th>278</th>\n",
       "      <td>278</td>\n",
       "      <td>3</td>\n",
       "      <td>B</td>\n",
       "      <td>1</td>\n",
       "      <td>205080508020</td>\n",
       "      <td>20200213</td>\n",
       "      <td>1</td>\n",
       "      <td>278</td>\n",
       "    </tr>\n",
       "    <tr>\n",
       "      <th>279</th>\n",
       "      <td>279</td>\n",
       "      <td>4</td>\n",
       "      <td>B</td>\n",
       "      <td>0</td>\n",
       "      <td>205080508020</td>\n",
       "      <td>20200213</td>\n",
       "      <td>1</td>\n",
       "      <td>279</td>\n",
       "    </tr>\n",
       "  </tbody>\n",
       "</table>\n",
       "<p>280 rows × 8 columns</p>\n",
       "</div>"
      ],
      "text/plain": [
       "     Unnamed: 0  leaf stem  reward   contingency      date  session  trial\n",
       "0             0     4    B       1  805020802050  20200213        1      0\n",
       "1             1     3    B       1  805020802050  20200213        1      1\n",
       "2             2     1    A       1  805020802050  20200213        1      2\n",
       "3             3     2    A       0  805020802050  20200213        1      3\n",
       "4             4     1    A       1  805020802050  20200213        1      4\n",
       "..          ...   ...  ...     ...           ...       ...      ...    ...\n",
       "275         275     4    B       1  205080508020  20200213        1    275\n",
       "276         276     3    B       0  205080508020  20200213        1    276\n",
       "277         277     4    B       0  205080508020  20200213        1    277\n",
       "278         278     3    B       1  205080508020  20200213        1    278\n",
       "279         279     4    B       0  205080508020  20200213        1    279\n",
       "\n",
       "[280 rows x 8 columns]"
      ]
     },
     "execution_count": 3,
     "metadata": {},
     "output_type": "execute_result"
    }
   ],
   "source": [
    "#df.index = #RangeIndex(start=0, stop=10115, step=1)\n",
    "#df.columns =Index([u'Unnamed: 0', u'leaf', u'stem', u'reward', u'contingency', u'date',\n",
    "       #u'session', u'trial'],\n",
    "     # dtype='object')\n",
    "#df.columns[1] = leaf\n",
    "# df.dtypes\n",
    "# Unnamed: 0      int64\n",
    "# leaf            int64\n",
    "# stem           object\n",
    "# reward          int64\n",
    "# contingency     int64\n",
    "# date            int64\n",
    "# session         int64\n",
    "# trial           int64\n",
    "# dtype: object\n",
    "firstday_firstsesh = df[(df['session'] == 1) & (df['date'] == 20200213)]\n",
    "#first\n",
    "firstday_firstsesh \n",
    "         # ->>> Uncomment above if you wanna see table\n",
    "#okay so i finally figured out how to index and pull out only rows where col = specific things. \n",
    "#Made a plot of leaves visited but need to figure out how to add axis titles/beautify. "
   ]
  },
  {
   "cell_type": "markdown",
   "metadata": {},
   "source": [
    "## Plotting!"
   ]
  },
  {
   "cell_type": "code",
   "execution_count": 4,
   "metadata": {},
   "outputs": [
    {
     "data": {
      "text/plain": [
       "Text(0, 0.5, 'leaf visited')"
      ]
     },
     "execution_count": 4,
     "metadata": {},
     "output_type": "execute_result"
    },
    {
     "data": {
      "image/png": "[encoded data removed]",
      "text/plain": [
       "<Figure size 1200x480 with 1 Axes>"
      ]
     },
     "metadata": {
      "needs_background": "light"
     },
     "output_type": "display_data"
    }
   ],
   "source": [
    "figure(figsize=(15, 6), dpi=80)\n",
    "plt.scatter(firstday_firstsesh[firstday_firstsesh.columns[0]], firstday_firstsesh[firstday_firstsesh.columns[1]])\n",
    "plt.title(\"visits to each leaf day1 epoch 1\")\n",
    "plt.xlabel(\"trial #\")\n",
    "plt.ylabel(\"leaf visited\")"
   ]
  },
  {
   "cell_type": "code",
   "execution_count": 5,
   "metadata": {},
   "outputs": [],
   "source": [
    "# This cell will plot 2 things on top of eachother, plots a different way with ax\n",
    "#figure, ax1 = plt.subplots() \n",
    "# ax1.plot(df[df.columns[0]],df[df.columns[1]],linewidth=0.5,zorder=1,label=\"Force1\")\n",
    "# #ax1.plot(df[df.columns[0]],df[df.columns[2]],linewidth=0.5,zorder=1, label = \"Force2\")"
   ]
  },
  {
   "cell_type": "code",
   "execution_count": 6,
   "metadata": {},
   "outputs": [],
   "source": [
    "#This cell will currently plot all stems visited on every day, every epoch with X's\n",
    "#plt.scatter(df[df.columns[0]], df[df.columns[1]], linewidth=.5, marker = \"x\" )"
   ]
  },
  {
   "cell_type": "markdown",
   "metadata": {},
   "source": [
    "### Finding how many trials spent at each stem "
   ]
  },
  {
   "cell_type": "code",
   "execution_count": 7,
   "metadata": {},
   "outputs": [
    {
     "name": "stdout",
     "output_type": "stream",
     "text": [
      "280\n"
     ]
    }
   ],
   "source": [
    "num_trials_A = firstday_firstsesh [(firstday_firstsesh['stem'] == 'A')]\n",
    "num_trials_B = firstday_firstsesh [(firstday_firstsesh['stem'] == 'B')]\n",
    "num_trials_C = firstday_firstsesh [(firstday_firstsesh['stem'] == 'C')]\n",
    "A = len(num_trials_A)\n",
    "B = len(num_trials_B)\n",
    "C = len(num_trials_C)\n",
    "print(A + B + C)"
   ]
  },
  {
   "cell_type": "code",
   "execution_count": 8,
   "metadata": {},
   "outputs": [
    {
     "data": {
      "text/plain": [
       "Text(0, 0.5, 'num visits')"
      ]
     },
     "execution_count": 8,
     "metadata": {},
     "output_type": "execute_result"
    },
    {
     "data": {
      "image/png": "[encoded data removed]",
      "text/plain": [
       "<Figure size 1200x480 with 1 Axes>"
      ]
     },
     "metadata": {
      "needs_background": "light"
     },
     "output_type": "display_data"
    }
   ],
   "source": [
    "figure(figsize=(15, 6), dpi=80)\n",
    "stems = ['A', 'B', 'C']\n",
    "visits = [A, B, C]\n",
    "plt.bar(stems, visits)\n",
    "plt.title('Num visits to each stem D1E1')\n",
    "plt.xlabel('Stem')\n",
    "plt.ylabel('num visits')"
   ]
  },
  {
   "cell_type": "markdown",
   "metadata": {},
   "source": [
    "### Finding num rewards at each stem"
   ]
  },
  {
   "cell_type": "code",
   "execution_count": 9,
   "metadata": {},
   "outputs": [
    {
     "name": "stdout",
     "output_type": "stream",
     "text": [
      "165\n"
     ]
    },
    {
     "data": {
      "text/plain": [
       "Text(0, 0.5, 'num rew')"
      ]
     },
     "execution_count": 9,
     "metadata": {},
     "output_type": "execute_result"
    },
    {
     "data": {
      "image/png": "[encoded data removed]",
      "text/plain": [
       "<Figure size 1200x480 with 1 Axes>"
      ]
     },
     "metadata": {
      "needs_background": "light"
     },
     "output_type": "display_data"
    }
   ],
   "source": [
    "num_rews_A = firstday_firstsesh [(firstday_firstsesh['reward'] == 1) & (firstday_firstsesh['stem'] == 'A')]\n",
    "num_rews_B = firstday_firstsesh [(firstday_firstsesh['reward'] == 1) & (firstday_firstsesh['stem'] == 'B')]\n",
    "num_rews_C = firstday_firstsesh [(firstday_firstsesh['reward'] == 1) & (firstday_firstsesh['stem'] == 'C')]\n",
    "rA = len(num_rews_A)\n",
    "rB = len(num_rews_B)\n",
    "rC = len(num_rews_C)\n",
    "print(rA + rB + rC)\n",
    "\n",
    "figure(figsize=(15, 6), dpi=80)\n",
    "stems = ['A', 'B', 'C']\n",
    "rewards = [rA, rB, rC]\n",
    "plt.bar(stems, rewards)\n",
    "plt.title('Num rews at each stem D1E1')\n",
    "plt.xlabel('Stem')\n",
    "plt.ylabel('num rew')"
   ]
  },
  {
   "cell_type": "markdown",
   "metadata": {},
   "source": [
    "### Playing with for loops"
   ]
  },
  {
   "cell_type": "code",
   "execution_count": 10,
   "metadata": {
    "scrolled": true
   },
   "outputs": [],
   "source": [
    "# A = []\n",
    "# B = 0\n",
    "# C = 0\n",
    "# for i in range(len(firstday_firstsesh)):\n",
    "#     #print(df.iloc[i,0], df.iloc[i,2])\n",
    "#     if firstday_firstsesh.iloc[i,2] == 'A':\n",
    "#         A[] = firstday_firstsesh[i,3]\n",
    "                 \n",
    "#          #A = A +1          \n",
    "#     if firstday_firstsesh.iloc[i,2] == 'B':\n",
    "#          B = B +1  \n",
    "#     if firstday_firstsesh.iloc[i,2] == 'C':\n",
    "#          C = C +1        \n",
    "\n"
   ]
  },
  {
   "cell_type": "markdown",
   "metadata": {},
   "source": [
    "## rew rate calculation"
   ]
  },
  {
   "cell_type": "markdown",
   "metadata": {},
   "source": [
    "### rew rate all (rew) and only first part(rew_smaller) for plot\n"
   ]
  },
  {
   "cell_type": "code",
   "execution_count": 11,
   "metadata": {
    "scrolled": true
   },
   "outputs": [
    {
     "data": {
      "text/plain": [
       "Text(0, 0.5, 'Avg Rew Rate')"
      ]
     },
     "execution_count": 11,
     "metadata": {},
     "output_type": "execute_result"
    },
    {
     "data": {
      "image/png": "[encoded data removed]",
      "text/plain": [
       "<Figure size 1600x480 with 1 Axes>"
      ]
     },
     "metadata": {
      "needs_background": "light"
     },
     "output_type": "display_data"
    }
   ],
   "source": [
    "figure(figsize=(20, 6), dpi=80)\n",
    "rew = firstday_firstsesh.iloc[ :, 3]\n",
    "rew_smaller = firstday_firstsesh.iloc[ :100, 3]\n",
    "#rew_all = firstday_firstsesh.iloc[]\n",
    "rew_rate = rew_smaller.rolling(window=5).mean()\n",
    "plt.plot(rew_rate, label = 'avg rew rate')\n",
    "plt.plot(rew_smaller, 'rx', label = 'reward=binary')\n",
    "plt.title(\"recent rew rate with rolling average, window=2\")\n",
    "plt.xlabel(\"trial\")\n",
    "plt.ylabel(\"Avg Rew Rate\")\n"
   ]
  },
  {
   "cell_type": "markdown",
   "metadata": {},
   "source": [
    "### Adding column of rew rate to firstday_firstsesh"
   ]
  },
  {
   "cell_type": "code",
   "execution_count": 12,
   "metadata": {},
   "outputs": [
    {
     "name": "stderr",
     "output_type": "stream",
     "text": [
      "/home/emonroe/miniconda2/envs/Analysis_EM/lib/python3.9/site-packages/pandas/core/indexing.py:692: SettingWithCopyWarning: \n",
      "A value is trying to be set on a copy of a slice from a DataFrame\n",
      "\n",
      "See the caveats in the documentation: https://pandas.pydata.org/pandas-docs/stable/user_guide/indexing.html#returning-a-view-versus-a-copy\n",
      "  iloc._setitem_with_indexer(indexer, value, self.name)\n"
     ]
    },
    {
     "data": {
      "text/html": [
       "<div>\n",
       "<style scoped>\n",
       "    .dataframe tbody tr th:only-of-type {\n",
       "        vertical-align: middle;\n",
       "    }\n",
       "\n",
       "    .dataframe tbody tr th {\n",
       "        vertical-align: top;\n",
       "    }\n",
       "\n",
       "    .dataframe thead th {\n",
       "        text-align: right;\n",
       "    }\n",
       "</style>\n",
       "<table border=\"1\" class=\"dataframe\">\n",
       "  <thead>\n",
       "    <tr style=\"text-align: right;\">\n",
       "      <th></th>\n",
       "      <th>Unnamed: 0</th>\n",
       "      <th>leaf</th>\n",
       "      <th>stem</th>\n",
       "      <th>reward</th>\n",
       "      <th>contingency</th>\n",
       "      <th>date</th>\n",
       "      <th>session</th>\n",
       "      <th>trial</th>\n",
       "    </tr>\n",
       "  </thead>\n",
       "  <tbody>\n",
       "    <tr>\n",
       "      <th>0</th>\n",
       "      <td>0.0</td>\n",
       "      <td>4.0</td>\n",
       "      <td>B</td>\n",
       "      <td>1.0</td>\n",
       "      <td>8.050208e+11</td>\n",
       "      <td>20200213.0</td>\n",
       "      <td>1.0</td>\n",
       "      <td>0.0</td>\n",
       "    </tr>\n",
       "    <tr>\n",
       "      <th>1</th>\n",
       "      <td>1.0</td>\n",
       "      <td>3.0</td>\n",
       "      <td>B</td>\n",
       "      <td>1.0</td>\n",
       "      <td>8.050208e+11</td>\n",
       "      <td>20200213.0</td>\n",
       "      <td>1.0</td>\n",
       "      <td>1.0</td>\n",
       "    </tr>\n",
       "    <tr>\n",
       "      <th>2</th>\n",
       "      <td>2.0</td>\n",
       "      <td>1.0</td>\n",
       "      <td>A</td>\n",
       "      <td>1.0</td>\n",
       "      <td>8.050208e+11</td>\n",
       "      <td>20200213.0</td>\n",
       "      <td>1.0</td>\n",
       "      <td>2.0</td>\n",
       "    </tr>\n",
       "    <tr>\n",
       "      <th>3</th>\n",
       "      <td>3.0</td>\n",
       "      <td>2.0</td>\n",
       "      <td>A</td>\n",
       "      <td>0.0</td>\n",
       "      <td>8.050208e+11</td>\n",
       "      <td>20200213.0</td>\n",
       "      <td>1.0</td>\n",
       "      <td>3.0</td>\n",
       "    </tr>\n",
       "    <tr>\n",
       "      <th>4</th>\n",
       "      <td>4.0</td>\n",
       "      <td>1.0</td>\n",
       "      <td>A</td>\n",
       "      <td>1.0</td>\n",
       "      <td>8.050208e+11</td>\n",
       "      <td>20200213.0</td>\n",
       "      <td>1.0</td>\n",
       "      <td>4.0</td>\n",
       "    </tr>\n",
       "    <tr>\n",
       "      <th>...</th>\n",
       "      <td>...</td>\n",
       "      <td>...</td>\n",
       "      <td>...</td>\n",
       "      <td>...</td>\n",
       "      <td>...</td>\n",
       "      <td>...</td>\n",
       "      <td>...</td>\n",
       "      <td>...</td>\n",
       "    </tr>\n",
       "    <tr>\n",
       "      <th>276</th>\n",
       "      <td>276.0</td>\n",
       "      <td>3.0</td>\n",
       "      <td>B</td>\n",
       "      <td>0.0</td>\n",
       "      <td>2.050805e+11</td>\n",
       "      <td>20200213.0</td>\n",
       "      <td>1.0</td>\n",
       "      <td>276.0</td>\n",
       "    </tr>\n",
       "    <tr>\n",
       "      <th>277</th>\n",
       "      <td>277.0</td>\n",
       "      <td>4.0</td>\n",
       "      <td>B</td>\n",
       "      <td>0.0</td>\n",
       "      <td>2.050805e+11</td>\n",
       "      <td>20200213.0</td>\n",
       "      <td>1.0</td>\n",
       "      <td>277.0</td>\n",
       "    </tr>\n",
       "    <tr>\n",
       "      <th>278</th>\n",
       "      <td>278.0</td>\n",
       "      <td>3.0</td>\n",
       "      <td>B</td>\n",
       "      <td>1.0</td>\n",
       "      <td>2.050805e+11</td>\n",
       "      <td>20200213.0</td>\n",
       "      <td>1.0</td>\n",
       "      <td>278.0</td>\n",
       "    </tr>\n",
       "    <tr>\n",
       "      <th>279</th>\n",
       "      <td>279.0</td>\n",
       "      <td>4.0</td>\n",
       "      <td>B</td>\n",
       "      <td>0.0</td>\n",
       "      <td>2.050805e+11</td>\n",
       "      <td>20200213.0</td>\n",
       "      <td>1.0</td>\n",
       "      <td>279.0</td>\n",
       "    </tr>\n",
       "    <tr>\n",
       "      <th>Rew_rate</th>\n",
       "      <td>NaN</td>\n",
       "      <td>NaN</td>\n",
       "      <td>NaN</td>\n",
       "      <td>NaN</td>\n",
       "      <td>NaN</td>\n",
       "      <td>NaN</td>\n",
       "      <td>NaN</td>\n",
       "      <td>NaN</td>\n",
       "    </tr>\n",
       "  </tbody>\n",
       "</table>\n",
       "<p>281 rows × 8 columns</p>\n",
       "</div>"
      ],
      "text/plain": [
       "          Unnamed: 0  leaf stem  reward   contingency        date  session  \\\n",
       "0                0.0   4.0    B     1.0  8.050208e+11  20200213.0      1.0   \n",
       "1                1.0   3.0    B     1.0  8.050208e+11  20200213.0      1.0   \n",
       "2                2.0   1.0    A     1.0  8.050208e+11  20200213.0      1.0   \n",
       "3                3.0   2.0    A     0.0  8.050208e+11  20200213.0      1.0   \n",
       "4                4.0   1.0    A     1.0  8.050208e+11  20200213.0      1.0   \n",
       "...              ...   ...  ...     ...           ...         ...      ...   \n",
       "276            276.0   3.0    B     0.0  2.050805e+11  20200213.0      1.0   \n",
       "277            277.0   4.0    B     0.0  2.050805e+11  20200213.0      1.0   \n",
       "278            278.0   3.0    B     1.0  2.050805e+11  20200213.0      1.0   \n",
       "279            279.0   4.0    B     0.0  2.050805e+11  20200213.0      1.0   \n",
       "Rew_rate         NaN   NaN  NaN     NaN           NaN         NaN      NaN   \n",
       "\n",
       "          trial  \n",
       "0           0.0  \n",
       "1           1.0  \n",
       "2           2.0  \n",
       "3           3.0  \n",
       "4           4.0  \n",
       "...         ...  \n",
       "276       276.0  \n",
       "277       277.0  \n",
       "278       278.0  \n",
       "279       279.0  \n",
       "Rew_rate    NaN  \n",
       "\n",
       "[281 rows x 8 columns]"
      ]
     },
     "execution_count": 12,
     "metadata": {},
     "output_type": "execute_result"
    }
   ],
   "source": [
    "rew_rate_all = rew.rolling(window=10).mean()\n",
    "#rew_rate_all = pd.DataFrame(rew_rate_all)\n",
    "firstday_firstsesh.loc['Rew_rate'] = rew_rate_all\n",
    "firstday_firstsesh"
   ]
  },
  {
   "cell_type": "markdown",
   "metadata": {},
   "source": [
    "### calculate rew rates @ each stem\n"
   ]
  },
  {
   "cell_type": "code",
   "execution_count": 13,
   "metadata": {
    "scrolled": true
   },
   "outputs": [
    {
     "name": "stderr",
     "output_type": "stream",
     "text": [
      "/home/emonroe/miniconda2/envs/Analysis_EM/lib/python3.9/site-packages/pandas/core/indexing.py:1599: SettingWithCopyWarning: \n",
      "A value is trying to be set on a copy of a slice from a DataFrame.\n",
      "Try using .loc[row_indexer,col_indexer] = value instead\n",
      "\n",
      "See the caveats in the documentation: https://pandas.pydata.org/pandas-docs/stable/user_guide/indexing.html#returning-a-view-versus-a-copy\n",
      "  self.obj[key] = infer_fill_value(value)\n",
      "/home/emonroe/miniconda2/envs/Analysis_EM/lib/python3.9/site-packages/pandas/core/indexing.py:1676: SettingWithCopyWarning: \n",
      "A value is trying to be set on a copy of a slice from a DataFrame.\n",
      "Try using .loc[row_indexer,col_indexer] = value instead\n",
      "\n",
      "See the caveats in the documentation: https://pandas.pydata.org/pandas-docs/stable/user_guide/indexing.html#returning-a-view-versus-a-copy\n",
      "  self._setitem_single_column(ilocs[0], value, pi)\n"
     ]
    },
    {
     "data": {
      "text/html": [
       "<div>\n",
       "<style scoped>\n",
       "    .dataframe tbody tr th:only-of-type {\n",
       "        vertical-align: middle;\n",
       "    }\n",
       "\n",
       "    .dataframe tbody tr th {\n",
       "        vertical-align: top;\n",
       "    }\n",
       "\n",
       "    .dataframe thead th {\n",
       "        text-align: right;\n",
       "    }\n",
       "</style>\n",
       "<table border=\"1\" class=\"dataframe\">\n",
       "  <thead>\n",
       "    <tr style=\"text-align: right;\">\n",
       "      <th></th>\n",
       "      <th>Unnamed: 0</th>\n",
       "      <th>leaf</th>\n",
       "      <th>stem</th>\n",
       "      <th>reward</th>\n",
       "      <th>contingency</th>\n",
       "      <th>date</th>\n",
       "      <th>session</th>\n",
       "      <th>trial</th>\n",
       "      <th>rew_rate_A</th>\n",
       "      <th>rew_rate_B</th>\n",
       "      <th>rew_rate_C</th>\n",
       "    </tr>\n",
       "  </thead>\n",
       "  <tbody>\n",
       "    <tr>\n",
       "      <th>0</th>\n",
       "      <td>0.0</td>\n",
       "      <td>4.0</td>\n",
       "      <td>B</td>\n",
       "      <td>1.0</td>\n",
       "      <td>8.050208e+11</td>\n",
       "      <td>20200213.0</td>\n",
       "      <td>1.0</td>\n",
       "      <td>0.0</td>\n",
       "      <td>NaN</td>\n",
       "      <td>NaN</td>\n",
       "      <td>NaN</td>\n",
       "    </tr>\n",
       "    <tr>\n",
       "      <th>1</th>\n",
       "      <td>1.0</td>\n",
       "      <td>3.0</td>\n",
       "      <td>B</td>\n",
       "      <td>1.0</td>\n",
       "      <td>8.050208e+11</td>\n",
       "      <td>20200213.0</td>\n",
       "      <td>1.0</td>\n",
       "      <td>1.0</td>\n",
       "      <td>NaN</td>\n",
       "      <td>NaN</td>\n",
       "      <td>NaN</td>\n",
       "    </tr>\n",
       "    <tr>\n",
       "      <th>2</th>\n",
       "      <td>2.0</td>\n",
       "      <td>1.0</td>\n",
       "      <td>A</td>\n",
       "      <td>1.0</td>\n",
       "      <td>8.050208e+11</td>\n",
       "      <td>20200213.0</td>\n",
       "      <td>1.0</td>\n",
       "      <td>2.0</td>\n",
       "      <td>NaN</td>\n",
       "      <td>NaN</td>\n",
       "      <td>NaN</td>\n",
       "    </tr>\n",
       "    <tr>\n",
       "      <th>3</th>\n",
       "      <td>3.0</td>\n",
       "      <td>2.0</td>\n",
       "      <td>A</td>\n",
       "      <td>0.0</td>\n",
       "      <td>8.050208e+11</td>\n",
       "      <td>20200213.0</td>\n",
       "      <td>1.0</td>\n",
       "      <td>3.0</td>\n",
       "      <td>NaN</td>\n",
       "      <td>NaN</td>\n",
       "      <td>NaN</td>\n",
       "    </tr>\n",
       "    <tr>\n",
       "      <th>4</th>\n",
       "      <td>4.0</td>\n",
       "      <td>1.0</td>\n",
       "      <td>A</td>\n",
       "      <td>1.0</td>\n",
       "      <td>8.050208e+11</td>\n",
       "      <td>20200213.0</td>\n",
       "      <td>1.0</td>\n",
       "      <td>4.0</td>\n",
       "      <td>0.666667</td>\n",
       "      <td>NaN</td>\n",
       "      <td>NaN</td>\n",
       "    </tr>\n",
       "    <tr>\n",
       "      <th>...</th>\n",
       "      <td>...</td>\n",
       "      <td>...</td>\n",
       "      <td>...</td>\n",
       "      <td>...</td>\n",
       "      <td>...</td>\n",
       "      <td>...</td>\n",
       "      <td>...</td>\n",
       "      <td>...</td>\n",
       "      <td>...</td>\n",
       "      <td>...</td>\n",
       "      <td>...</td>\n",
       "    </tr>\n",
       "    <tr>\n",
       "      <th>276</th>\n",
       "      <td>276.0</td>\n",
       "      <td>3.0</td>\n",
       "      <td>B</td>\n",
       "      <td>0.0</td>\n",
       "      <td>2.050805e+11</td>\n",
       "      <td>20200213.0</td>\n",
       "      <td>1.0</td>\n",
       "      <td>276.0</td>\n",
       "      <td>NaN</td>\n",
       "      <td>0.666667</td>\n",
       "      <td>NaN</td>\n",
       "    </tr>\n",
       "    <tr>\n",
       "      <th>277</th>\n",
       "      <td>277.0</td>\n",
       "      <td>4.0</td>\n",
       "      <td>B</td>\n",
       "      <td>0.0</td>\n",
       "      <td>2.050805e+11</td>\n",
       "      <td>20200213.0</td>\n",
       "      <td>1.0</td>\n",
       "      <td>277.0</td>\n",
       "      <td>NaN</td>\n",
       "      <td>0.333333</td>\n",
       "      <td>NaN</td>\n",
       "    </tr>\n",
       "    <tr>\n",
       "      <th>278</th>\n",
       "      <td>278.0</td>\n",
       "      <td>3.0</td>\n",
       "      <td>B</td>\n",
       "      <td>1.0</td>\n",
       "      <td>2.050805e+11</td>\n",
       "      <td>20200213.0</td>\n",
       "      <td>1.0</td>\n",
       "      <td>278.0</td>\n",
       "      <td>NaN</td>\n",
       "      <td>0.333333</td>\n",
       "      <td>NaN</td>\n",
       "    </tr>\n",
       "    <tr>\n",
       "      <th>279</th>\n",
       "      <td>279.0</td>\n",
       "      <td>4.0</td>\n",
       "      <td>B</td>\n",
       "      <td>0.0</td>\n",
       "      <td>2.050805e+11</td>\n",
       "      <td>20200213.0</td>\n",
       "      <td>1.0</td>\n",
       "      <td>279.0</td>\n",
       "      <td>NaN</td>\n",
       "      <td>0.333333</td>\n",
       "      <td>NaN</td>\n",
       "    </tr>\n",
       "    <tr>\n",
       "      <th>Rew_rate</th>\n",
       "      <td>NaN</td>\n",
       "      <td>NaN</td>\n",
       "      <td>NaN</td>\n",
       "      <td>NaN</td>\n",
       "      <td>NaN</td>\n",
       "      <td>NaN</td>\n",
       "      <td>NaN</td>\n",
       "      <td>NaN</td>\n",
       "      <td>NaN</td>\n",
       "      <td>NaN</td>\n",
       "      <td>NaN</td>\n",
       "    </tr>\n",
       "  </tbody>\n",
       "</table>\n",
       "<p>281 rows × 11 columns</p>\n",
       "</div>"
      ],
      "text/plain": [
       "          Unnamed: 0  leaf stem  reward   contingency        date  session  \\\n",
       "0                0.0   4.0    B     1.0  8.050208e+11  20200213.0      1.0   \n",
       "1                1.0   3.0    B     1.0  8.050208e+11  20200213.0      1.0   \n",
       "2                2.0   1.0    A     1.0  8.050208e+11  20200213.0      1.0   \n",
       "3                3.0   2.0    A     0.0  8.050208e+11  20200213.0      1.0   \n",
       "4                4.0   1.0    A     1.0  8.050208e+11  20200213.0      1.0   \n",
       "...              ...   ...  ...     ...           ...         ...      ...   \n",
       "276            276.0   3.0    B     0.0  2.050805e+11  20200213.0      1.0   \n",
       "277            277.0   4.0    B     0.0  2.050805e+11  20200213.0      1.0   \n",
       "278            278.0   3.0    B     1.0  2.050805e+11  20200213.0      1.0   \n",
       "279            279.0   4.0    B     0.0  2.050805e+11  20200213.0      1.0   \n",
       "Rew_rate         NaN   NaN  NaN     NaN           NaN         NaN      NaN   \n",
       "\n",
       "          trial  rew_rate_A  rew_rate_B  rew_rate_C  \n",
       "0           0.0         NaN         NaN         NaN  \n",
       "1           1.0         NaN         NaN         NaN  \n",
       "2           2.0         NaN         NaN         NaN  \n",
       "3           3.0         NaN         NaN         NaN  \n",
       "4           4.0    0.666667         NaN         NaN  \n",
       "...         ...         ...         ...         ...  \n",
       "276       276.0         NaN    0.666667         NaN  \n",
       "277       277.0         NaN    0.333333         NaN  \n",
       "278       278.0         NaN    0.333333         NaN  \n",
       "279       279.0         NaN    0.333333         NaN  \n",
       "Rew_rate    NaN         NaN         NaN         NaN  \n",
       "\n",
       "[281 rows x 11 columns]"
      ]
     },
     "execution_count": 13,
     "metadata": {},
     "output_type": "execute_result"
    },
    {
     "data": {
      "image/png": "[encoded data removed]",
      "text/plain": [
       "<Figure size 1200x480 with 1 Axes>"
      ]
     },
     "metadata": {
      "needs_background": "light"
     },
     "output_type": "display_data"
    }
   ],
   "source": [
    "firstday_firstsesh.rew_rate_A = 0 #type = int now. \n",
    "firstday_firstsesh.rew_rate_B = 0\n",
    "firstday_firstsesh.rew_rate_C = 0\n",
    "\n",
    "\n",
    "\n",
    "rewA = firstday_firstsesh.loc[firstday_firstsesh['stem'] =='A']['reward']\n",
    "rew_rateA = rewA.rolling(window=3).mean()\n",
    "firstday_firstsesh.loc[firstday_firstsesh.stem =='A', 'rew_rate_A'] = rew_rateA\n",
    "rewB = firstday_firstsesh.loc[firstday_firstsesh['stem'] =='B']['reward']\n",
    "rew_rateB = rewB.rolling(window=3).mean()\n",
    "firstday_firstsesh.loc[firstday_firstsesh.stem =='B', 'rew_rate_B'] = rew_rateB\n",
    "rewC = firstday_firstsesh.loc[firstday_firstsesh['stem'] =='C']['reward']\n",
    "rew_rateC = rewC.rolling(window=3).mean()\n",
    "firstday_firstsesh.loc[firstday_firstsesh.stem =='C', 'rew_rate_C'] = rew_rateC\n",
    "\n",
    "figure(figsize=(15, 6), dpi=80)\n",
    "#Plotting each of these overlayed which looks awful i know, thinking about a more relevent way to visualize \n",
    "plt.plot(rew_rateA, 'x', label = \"rewRateA\")\n",
    "plt.plot(rew_rateB, 'x', label = \"rewRateB\")\n",
    "plt.plot(rew_rateC, 'x', label = \"rewRateC\")\n",
    "\n",
    "\n",
    "plt.title('Rew rate at each stem')\n",
    "plt.xlabel('trial')\n",
    "plt.ylabel('rew rate for each stem')\n",
    "plt.legend(framealpha=1, frameon=True)\n",
    "\n",
    "firstday_firstsesh"
   ]
  },
  {
   "cell_type": "markdown",
   "metadata": {},
   "source": [
    "## Splitting up contingenices, finding most rewarded"
   ]
  },
  {
   "cell_type": "code",
   "execution_count": 182,
   "metadata": {},
   "outputs": [
    {
     "name": "stdout",
     "output_type": "stream",
     "text": [
      "the number of rewards at leaf 1 in c1 is 30\n",
      "the number of rewards at leaf 2 is 16\n",
      "the number of rewards at leaf 3 is 6\n",
      "the number of rewards at leaf 4 is 19\n",
      "the number of rewards at leaf 5 is 0\n",
      "the number of rewards at leaf 6 is 6\n"
     ]
    }
   ],
   "source": [
    "c1 = firstday_firstsesh[(firstday_firstsesh['contingency'] == 805020802050)]\n",
    "c2 = firstday_firstsesh[(firstday_firstsesh['contingency'] == 205080508020)]\n",
    "\n",
    "#finding number of rewards at each leaf\n",
    "rew1 = len(c1.loc[(c1['leaf'] == 1) & c1['reward'] == 1])\n",
    "rew2 = len(c1.loc[(c1['leaf'] == 2) & c1['reward'] == 1])\n",
    "rew3 = len(c1.loc[(c1['leaf'] == 3) & c1['reward'] == 1])\n",
    "rew4 = len(c1.loc[(c1['leaf'] == 4) & c1['reward'] == 1])\n",
    "rew5 = len(c1.loc[(c1['leaf'] == 5) & c1['reward'] == 1])\n",
    "rew6 = len(c1.loc[(c1['leaf'] == 6) & c1['reward'] == 1])\n",
    "\n",
    "\n",
    "\n",
    "#printing this out nicely\n",
    "print(\"the number of rewards at leaf 1 in c1 is %d\"  % rew1)\n",
    "print(\"the number of rewards at leaf 2 is %d\"  % rew2)\n",
    "print(\"the number of rewards at leaf 3 is %d\"  % rew3)\n",
    "print(\"the number of rewards at leaf 4 is %d\"  % rew4)\n",
    "print(\"the number of rewards at leaf 5 is %d\"  % rew5)\n",
    "print(\"the number of rewards at leaf 6 is %d\"  % rew6)"
   ]
  },
  {
   "cell_type": "markdown",
   "metadata": {},
   "source": [
    "### splitting up the contingency from the df into leaf probs"
   ]
  },
  {
   "cell_type": "code",
   "execution_count": 16,
   "metadata": {},
   "outputs": [
    {
     "name": "stdout",
     "output_type": "stream",
     "text": [
      "(80, 50, 20, 80, 20, 50)\n"
     ]
    }
   ],
   "source": [
    "c1_int = firstday_firstsesh.contingency[1]\n",
    "l1_probs = int(str(c1_int)[:2])\n",
    "l2_probs = int(str(c1_int)[2:4])\n",
    "l3_probs = int(str(c1_int)[4:6])\n",
    "l4_probs = int(str(c1_int)[6:8])\n",
    "l5_probs = int(str(c1_int)[8:10])\n",
    "l6_probs = int(str(c1_int)[10:12])\n",
    "\n",
    "all_probs = (l1_probs, l2_probs, l3_probs, l4_probs, l5_probs, l6_probs)\n",
    "\n",
    "print(all_probs)"
   ]
  },
  {
   "cell_type": "code",
   "execution_count": 17,
   "metadata": {},
   "outputs": [
    {
     "data": {
      "text/plain": [
       "(38, 40, 22, 22, 8, 10)"
      ]
     },
     "execution_count": 17,
     "metadata": {},
     "output_type": "execute_result"
    }
   ],
   "source": [
    "visits_1_c1 = len(c1.loc[(c1['leaf'] == 1)])\n",
    "visits_2_c1 = len(c1.loc[(c1['leaf'] == 2)])\n",
    "visits_3_c1 = len(c1.loc[(c1['leaf'] == 3)])\n",
    "visits_4_c1 = len(c1.loc[(c1['leaf'] == 4)])\n",
    "visits_5_c1 = len(c1.loc[(c1['leaf'] == 5)])\n",
    "visits_6_c1 = len(c1.loc[(c1['leaf'] == 6)])\n",
    "\n",
    "all_visits= (visits_1_c1, visits_2_c1, visits_3_c1, visits_4_c1, visits_5_c1, visits_6_c1)\n",
    "\n",
    "all_visits\n"
   ]
  },
  {
   "cell_type": "code",
   "execution_count": 18,
   "metadata": {},
   "outputs": [],
   "source": [
    "#how does the recent reward rate (predict, relate to) the number of recent visits to each stem? \n",
    "#what i wanted to do was compare the number of rewards to the number of visits at each stem, need to keep the pairs but also want to sort them? "
   ]
  },
  {
   "cell_type": "code",
   "execution_count": 19,
   "metadata": {},
   "outputs": [
    {
     "data": {
      "text/plain": [
       "Text(0, 0.5, 'number of visits')"
      ]
     },
     "execution_count": 19,
     "metadata": {},
     "output_type": "execute_result"
    },
    {
     "data": {
      "image/png": "[encoded data removed]",
      "text/plain": [
       "<Figure size 800x480 with 1 Axes>"
      ]
     },
     "metadata": {
      "needs_background": "light"
     },
     "output_type": "display_data"
    }
   ],
   "source": [
    "figure(figsize=(10, 6), dpi=80)\n",
    "plt.scatter(all_probs, all_visits) #actually didnt need to sort, it was just weird looking but makes sense.\n",
    "plt.title('num of visits vs probability')\n",
    "plt.xlabel('probability')\n",
    "plt.ylabel('number of visits') #maybe color coating dots per stem would be helpful? \n"
   ]
  },
  {
   "cell_type": "code",
   "execution_count": 20,
   "metadata": {},
   "outputs": [
    {
     "data": {
      "text/plain": [
       "Text(0, 0.5, '')"
      ]
     },
     "execution_count": 20,
     "metadata": {},
     "output_type": "execute_result"
    },
    {
     "data": {
      "image/png": "[encoded data removed]",
      "text/plain": [
       "<Figure size 1200x480 with 1 Axes>"
      ]
     },
     "metadata": {
      "needs_background": "light"
     },
     "output_type": "display_data"
    }
   ],
   "source": [
    "figure(figsize=(15, 6), dpi=80)\n",
    "\n",
    "\n",
    "leaves = [1,2,3,4,5,6]\n",
    "plt.bar(leaves, all_visits)\n",
    "plt.title('Visits to leaves C1- %d' % c1_int) \n",
    "plt.xlabel('leaf')\n",
    "plt.ylabel('')"
   ]
  },
  {
   "cell_type": "code",
   "execution_count": 183,
   "metadata": {},
   "outputs": [
    {
     "data": {
      "text/plain": [
       "140"
      ]
     },
     "execution_count": 183,
     "metadata": {},
     "output_type": "execute_result"
    }
   ],
   "source": [
    "len(c2)"
   ]
  },
  {
   "cell_type": "code",
   "execution_count": 178,
   "metadata": {},
   "outputs": [
    {
     "name": "stdout",
     "output_type": "stream",
     "text": [
      "0.3\n",
      "0.3\n",
      "0.4\n",
      "0.2\n",
      "0.5\n",
      "0.3\n",
      "0.6\n",
      "0.4\n",
      "0.0\n",
      "0.3\n",
      "0.2\n",
      "0.5\n",
      "1.0\n",
      "0.0\n",
      "0.0\n",
      "0.1\n",
      "0.9\n",
      "0.0\n",
      "0.9\n",
      "0.1\n",
      "0.0\n",
      "1.0\n",
      "0.0\n",
      "0.0\n",
      "1.0\n",
      "0.0\n",
      "0.0\n",
      "0.9\n",
      "0.1\n",
      "0.0\n",
      "0.0\n",
      "1.0\n",
      "0.0\n",
      "0.1\n",
      "0.3\n",
      "0.6\n",
      "0.6\n",
      "0.4\n",
      "0.0\n",
      "0.8\n",
      "0.2\n",
      "0.0\n"
     ]
    },
    {
     "data": {
      "text/plain": [
       "[0.3, 0.2, 0.6, 0.3, 1.0, 0.1, 0.9, 1.0, 1.0, 0.9, 0.0, 0.1, 0.6, 0.8]"
      ]
     },
     "execution_count": 178,
     "metadata": {},
     "output_type": "execute_result"
    }
   ],
   "source": [
    "#now i should find the proprtion of time he spends at each stem for some parameter \n",
    "#set proportions worth of time. \n",
    "\n",
    "#So ill need to \n",
    "#get 1st ___ of visits to A, B, and C \n",
    "#hard code: number of trials in contingency \n",
    "#parameter to play with- number of trials in window\n",
    "\n",
    "# proportion = number of visits @ stem/ number of visits in window? \n",
    "\n",
    "#so will have to find number of trials in window that i want to play with, \n",
    "\n",
    "num_trials_in_conting = 140 \n",
    "group_size = 10\n",
    "num_iter = int(num_trials_in_conting / group_size)\n",
    "\n",
    "#first break up c1 into groups of size of window size \n",
    "lst = (np.array_split(c1, num_iter))\n",
    "\n",
    "#for ix in range(len((lst)))\n",
    "window1 = lst[0]\n",
    "\n",
    "lstAll = []\n",
    "\n",
    "for ix in range(num_iter):\n",
    "    window = lst[ix]\n",
    "    for stem in ['A', 'B', 'C']:\n",
    "        prop = sum(window['stem'] == stem)/ (group_size)\n",
    "        lstAll.append(prop)\n",
    "        print(prop)\n",
    "        \n",
    "lstA=lstAll[0::3]\n",
    "lstB=lstAll[1::3]\n",
    "lstC=lstAll[2::3]\n",
    "    \n",
    "lstA\n",
    "\n"
   ]
  },
  {
   "cell_type": "code",
   "execution_count": 180,
   "metadata": {},
   "outputs": [
    {
     "data": {
      "image/png": "[encoded data removed]",
      "text/plain": [
       "<Figure size 432x288 with 1 Axes>"
      ]
     },
     "metadata": {
      "needs_background": "light"
     },
     "output_type": "display_data"
    }
   ],
   "source": [
    "x = np.arange(14)\n",
    "y1 = lstA\n",
    "y2 = lstB\n",
    "y3 = lstC\n",
    "width = 0.2\n",
    "plt.bar(x-0.2, y1, width, color='cyan')\n",
    "plt.bar(x, y2, width, color='orange')\n",
    "plt.bar(x+0.2, y3, width, color='green')\n",
    "plt.xticks(x, ['P1', 'P2', 'P3', 'P4', 'P5', 'P6', 'P7', 'P8', 'P9', 'P10', 'P11', 'P12', 'P13', 'P14'])\n",
    "plt.xlabel(\"Windows of 10\")\n",
    "plt.ylabel(\"proportion at each stem\")\n",
    "plt.legend([\"Stem = A\", \"Stem = B\", \"Stem = C\"])\n",
    "plt.title('proportion of visits to each stem in 10 trials windows')\n",
    "plt.show()"
   ]
  },
  {
   "cell_type": "code",
   "execution_count": 67,
   "metadata": {},
   "outputs": [
    {
     "data": {
      "text/plain": [
       "120"
      ]
     },
     "execution_count": 67,
     "metadata": {},
     "output_type": "execute_result"
    }
   ],
   "source": [
    "# Now I'd like to do the same thing for C2 to compare how his visits change "
   ]
  },
  {
   "cell_type": "code",
   "execution_count": 191,
   "metadata": {},
   "outputs": [
    {
     "name": "stdout",
     "output_type": "stream",
     "text": [
      "0.9\n",
      "0.1\n",
      "0.0\n",
      "0.0\n",
      "1.0\n",
      "0.0\n",
      "0.2\n",
      "0.6\n",
      "0.2\n",
      "0.0\n",
      "1.0\n",
      "0.0\n",
      "0.0\n",
      "1.0\n",
      "0.0\n",
      "0.0\n",
      "1.0\n",
      "0.0\n",
      "0.0\n",
      "1.0\n",
      "0.0\n"
     ]
    }
   ],
   "source": [
    "\n",
    "num_trials_in_conting = 140 \n",
    "group_size = 20\n",
    "num_iter = int(num_trials_in_conting / group_size)\n",
    "\n",
    "lst2 = (np.array_split(c2, num_iter))\n",
    "\n",
    "lstAll2 = []\n",
    "\n",
    "for ix in range(num_iter):\n",
    "    window = lst2[ix]\n",
    "    for stem in ['A', 'B', 'C']:\n",
    "        prop = sum(window['stem'] == stem)/ (group_size)\n",
    "        lstAll2.append(prop)\n",
    "        print(prop)\n",
    "        \n",
    "lstA2=lstAll2[0::3]\n",
    "lstB2=lstAll2[1::3]\n",
    "lstC2=lstAll2[2::3]\n",
    "    \n",
    "# # lstA2\n",
    "# lst2\n",
    "# #lstAll2"
   ]
  },
  {
   "cell_type": "code",
   "execution_count": 195,
   "metadata": {},
   "outputs": [
    {
     "data": {
      "image/png": "[encoded data removed]",
      "text/plain": [
       "<Figure size 432x288 with 1 Axes>"
      ]
     },
     "metadata": {
      "needs_background": "light"
     },
     "output_type": "display_data"
    }
   ],
   "source": [
    "x = np.arange(7)\n",
    "y1 = lstA2\n",
    "y2 = lstB2\n",
    "y3 = lstC2\n",
    "width = 0.2\n",
    "plt.bar(x-0.2, y1, width, color='cyan')\n",
    "plt.bar(x, y2, width, color='orange')\n",
    "plt.bar(x+0.2, y3, width, color='green')\n",
    "plt.xticks(x, ['P1', 'P2', 'P3', 'P4', 'P5', 'P6', 'P7'])\n",
    "plt.xlabel(\"Windows of 20\")\n",
    "plt.ylabel(\"proportion at each stem\")\n",
    "plt.legend([\"Stem = A\", \"Stem = B\", \"Stem = C\"])\n",
    "plt.title('proportion of visits to each stem in 20 trials windows-C2')\n",
    "plt.show()\n",
    "#, 'P8', 'P9', 'P10', 'P11', 'P12', 'P13', 'P14'"
   ]
  },
  {
   "cell_type": "code",
   "execution_count": 196,
   "metadata": {},
   "outputs": [
    {
     "data": {
      "text/plain": [
       "140"
      ]
     },
     "execution_count": 196,
     "metadata": {},
     "output_type": "execute_result"
    }
   ],
   "source": [
    "#This is just to show that there was not an error with the last plot, and that the rat spent the most time at B for sure. \n",
    "\n",
    "visits_1_c2 = len(c2.loc[(c2['leaf'] == 1)])\n",
    "visits_2_c2 = len(c2.loc[(c2['leaf'] == 2)])\n",
    "visits_3_c2 = len(c2.loc[(c2['leaf'] == 3)])\n",
    "visits_4_c2 = len(c2.loc[(c2['leaf'] == 4)])\n",
    "visits_5_c2 = len(c2.loc[(c2['leaf'] == 5)])\n",
    "visits_6_c2 = len(c2.loc[(c2['leaf'] == 6)])\n",
    "\n",
    "all_visits= (visits_1_c2, visits_2_c2, visits_3_c2, visits_4_c2, visits_5_c2, visits_6_c2)\n",
    "\n",
    "all_visists \n",
    "\n"
   ]
  },
  {
   "cell_type": "code",
   "execution_count": 210,
   "metadata": {},
   "outputs": [],
   "source": [
    "# So now i'd loike to look at exploration strategy. \n",
    "# The idea is that over time, the rat may learn to find which is the best stem.\n",
    "#So in the first conting., he may spend more time(trials) at all three stems. A-B-C-A-B-C for much longer.(no biases) \n",
    "# But maybe by, c10, lets say, He may only go A-B-C, determine that B is the best, \n",
    "#and then stay there much sooner. \n",
    "#another thing to consider here is the number of visits to the leaves within a bout a stem visit. \n",
    "#This probably also changes with exploration strategy. \n",
    "\n",
    "# I dont want to set an arbitrary cutoff for when exploration steop and exploitation starts. \n",
    "# I basically want to find the point when the animal spends the most time at whichever stem he spends \n",
    "# the most time at for that contingency (not necessarily the best). \n",
    "\n",
    "\n",
    "# I think I good to start with this would not be the first contingency of the first day. \n",
    "#SO where I will start off will be on... day 8 completely random. Session 2- so had some \n",
    "#experience that day but still motivated.\n",
    "\n",
    "\n",
    "day8_epoch2 =  df[(df['date'] == 20200221) & (df['session'] == 2)]\n",
    "\n",
    "#hmmm okay so i plotted first only the first contingency and he spent the most time at C, even though \n",
    "#A was technically better. so i figured I would find an example where he spent the most time at the \n",
    "#best, tried plotting c2 of the same session and WOW he spent the entire time at B. not interesting and also \n",
    "#not the best stem! what the heck chimi? \n",
    "#Ill try day 5 out of curiousity and also randomness?\n"
   ]
  },
  {
   "cell_type": "code",
   "execution_count": 225,
   "metadata": {},
   "outputs": [
    {
     "data": {
      "text/plain": [
       "Text(0, 0.5, 'leaf visited')"
      ]
     },
     "execution_count": 225,
     "metadata": {},
     "output_type": "execute_result"
    },
    {
     "data": {
      "image/png": "[encoded data removed]",
      "text/plain": [
       "<Figure size 1200x480 with 1 Axes>"
      ]
     },
     "metadata": {
      "needs_background": "light"
     },
     "output_type": "display_data"
    }
   ],
   "source": [
    "day8_epoch2\n",
    "d8_s2_c1 = day8_epoch2[(day8_epoch2['contingency'] == 508050502080)]\n",
    "\n",
    "figure(figsize=(15, 6), dpi=80)\n",
    "plt.scatter(d8_s2_c1[d8_s2_c1.columns[0]], d8_s2_c1[d8_s2_c1.columns[1]])\n",
    "plt.title(\"visits to each leaf day8 epoch 2 contin 1\")\n",
    "plt.xlabel(\"trial #\")\n",
    "plt.ylabel(\"leaf visited\")"
   ]
  },
  {
   "cell_type": "code",
   "execution_count": 229,
   "metadata": {},
   "outputs": [
    {
     "data": {
      "text/plain": [
       "Text(0, 0.5, 'leaf visited')"
      ]
     },
     "execution_count": 229,
     "metadata": {},
     "output_type": "execute_result"
    },
    {
     "data": {
      "image/png": "[encoded data removed]",
      "text/plain": [
       "<Figure size 1200x480 with 1 Axes>"
      ]
     },
     "metadata": {
      "needs_background": "light"
     },
     "output_type": "display_data"
    }
   ],
   "source": [
    "#So now I have made a prediction that first ~20 trials are exploration. Lets confirm with another day. \n",
    "day5_epoch1 =  df[(df['date'] == 20200218) & (df['session'] == 1)]\n",
    "day5_epoch1\n",
    "d5_s1_c1 = day5_epoch1[(day5_epoch1['contingency'] == 502050805050)]\n",
    "d5_s1_c1\n",
    "\n",
    "figure(figsize=(15, 6), dpi=80)\n",
    "plt.scatter(d5_s1_c1[d5_s1_c1.columns[0]], d5_s1_c1[d5_s1_c1.columns[1]])\n",
    "plt.title(\"visits to each leaf day5 epoch 1 contin 1\")\n",
    "plt.xlabel(\"trial #\")\n",
    "plt.ylabel(\"leaf visited\")\n"
   ]
  },
  {
   "cell_type": "code",
   "execution_count": 244,
   "metadata": {},
   "outputs": [
    {
     "data": {
      "text/plain": [
       "Text(0, 0.5, 'leaf visited')"
      ]
     },
     "execution_count": 244,
     "metadata": {},
     "output_type": "execute_result"
    },
    {
     "data": {
      "image/png": "[encoded data removed]",
      "text/plain": [
       "<Figure size 432x288 with 1 Axes>"
      ]
     },
     "metadata": {
      "needs_background": "light"
     },
     "output_type": "display_data"
    }
   ],
   "source": [
    "# hmmm interesting. I can see why \"noise\" is an issue here. his behavior depends on the contingencies as well. \n",
    "\n",
    "#could split it up by contingency type. \n",
    "# eg how does he explore every time there is an 8050 and an 8020? \n",
    "\n",
    "#Sooooo lets just call our trials of interest the first 20 trials. \n",
    "#Id like to know which stems he visits in order in the first 20 trials. \n",
    "\n",
    "#lets start with day5, session1, conting 1. \n",
    "\n",
    "d5_s1_c1_1st20 = d5_s1_c1[(d5_s1_c1['trial'] <20)]['stem']\n",
    "#type(d5_s1_c1_1st20)\n",
    "plt.plot(d5_s1_c1_1st20)\n",
    "plt.title(\"visits to each leaf day5 epoch 1 contin 1_first 20 trials\")\n",
    "plt.xlabel(\"trial #\")\n",
    "plt.ylabel(\"leaf visited\")\n",
    "\n"
   ]
  },
  {
   "cell_type": "code",
   "execution_count": 257,
   "metadata": {},
   "outputs": [
    {
     "data": {
      "text/plain": [
       "0    B\n",
       "Name: stem, dtype: object"
      ]
     },
     "execution_count": 257,
     "metadata": {},
     "output_type": "execute_result"
    }
   ],
   "source": [
    "#Okay so after this work and a little thinking, I decided it would be easier to just start\n",
    "#out by looking at the order of the first 3 stems the guy visits and see if theres a pattern. \n",
    "#The options: ABC, BCA, CAB, BAC, CBA, ACB, and then the option that he goes back to the first stem for\n",
    "#the third choice. Oy lots of choices. \n",
    "\n",
    "#Will only look at the first contginecy of each session. \n",
    "\n",
    "#In the end, I think I want a bar plot of number of times he did each choice. \n",
    "\n",
    "#So, second to last, I want to end up with 2 lists. One will contain the choices listed above for stem order. \n",
    "#The second will be the number of times each choice was done. \n",
    "\n",
    "#If the data starts with 202002\n",
    "#for every day, for every session, ugh for every contingency which is not easy to check as it is right now, fixing that first.\n",
    "#Date = 20200213\n",
    "\n",
    "#okay ugh maybe i dont need to know contingency because I will only look at first 3 visits of every unique session\n",
    "\n",
    "\n",
    "\n",
    "#Date = 20200213\n",
    "\n",
    "#Largest= date\n",
    "#then session \n",
    "#then stem. \n",
    "#Will say to look at first row and find stem. stemm = that.  Then keep going until stem != that. stem2 is now\n",
    "#equal to new stem. then keep going until stem equals something new. thats stem3. Then log that somehow? \n",
    "#likely a bunch of if statements...\n",
    "\n",
    "#session = 1\n",
    "\n",
    "#stem1= df[(df['date'] == Date) & (df['session'] == session) & (df['trial'] == 0)]['stem']\n",
    "\n",
    "\n",
    "    \n",
    "#possible irrelevant? \n",
    "\n",
    "#opperationalizing variables\n"
   ]
  },
  {
   "cell_type": "code",
   "execution_count": 290,
   "metadata": {},
   "outputs": [
    {
     "data": {
      "text/html": [
       "<div>\n",
       "<style scoped>\n",
       "    .dataframe tbody tr th:only-of-type {\n",
       "        vertical-align: middle;\n",
       "    }\n",
       "\n",
       "    .dataframe tbody tr th {\n",
       "        vertical-align: top;\n",
       "    }\n",
       "\n",
       "    .dataframe thead th {\n",
       "        text-align: right;\n",
       "    }\n",
       "</style>\n",
       "<table border=\"1\" class=\"dataframe\">\n",
       "  <thead>\n",
       "    <tr style=\"text-align: right;\">\n",
       "      <th></th>\n",
       "      <th>Unnamed: 0</th>\n",
       "      <th>leaf</th>\n",
       "      <th>stem</th>\n",
       "      <th>reward</th>\n",
       "      <th>contingency</th>\n",
       "      <th>date</th>\n",
       "      <th>session</th>\n",
       "      <th>trial</th>\n",
       "      <th>stemChange</th>\n",
       "    </tr>\n",
       "  </thead>\n",
       "  <tbody>\n",
       "    <tr>\n",
       "      <th>0</th>\n",
       "      <td>0</td>\n",
       "      <td>4</td>\n",
       "      <td>B</td>\n",
       "      <td>1</td>\n",
       "      <td>805020802050</td>\n",
       "      <td>20200213</td>\n",
       "      <td>1</td>\n",
       "      <td>0</td>\n",
       "      <td>False</td>\n",
       "    </tr>\n",
       "    <tr>\n",
       "      <th>1</th>\n",
       "      <td>1</td>\n",
       "      <td>3</td>\n",
       "      <td>B</td>\n",
       "      <td>1</td>\n",
       "      <td>805020802050</td>\n",
       "      <td>20200213</td>\n",
       "      <td>1</td>\n",
       "      <td>1</td>\n",
       "      <td>False</td>\n",
       "    </tr>\n",
       "    <tr>\n",
       "      <th>2</th>\n",
       "      <td>2</td>\n",
       "      <td>1</td>\n",
       "      <td>A</td>\n",
       "      <td>1</td>\n",
       "      <td>805020802050</td>\n",
       "      <td>20200213</td>\n",
       "      <td>1</td>\n",
       "      <td>2</td>\n",
       "      <td>True</td>\n",
       "    </tr>\n",
       "    <tr>\n",
       "      <th>3</th>\n",
       "      <td>3</td>\n",
       "      <td>2</td>\n",
       "      <td>A</td>\n",
       "      <td>0</td>\n",
       "      <td>805020802050</td>\n",
       "      <td>20200213</td>\n",
       "      <td>1</td>\n",
       "      <td>3</td>\n",
       "      <td>False</td>\n",
       "    </tr>\n",
       "    <tr>\n",
       "      <th>4</th>\n",
       "      <td>4</td>\n",
       "      <td>1</td>\n",
       "      <td>A</td>\n",
       "      <td>1</td>\n",
       "      <td>805020802050</td>\n",
       "      <td>20200213</td>\n",
       "      <td>1</td>\n",
       "      <td>4</td>\n",
       "      <td>False</td>\n",
       "    </tr>\n",
       "    <tr>\n",
       "      <th>...</th>\n",
       "      <td>...</td>\n",
       "      <td>...</td>\n",
       "      <td>...</td>\n",
       "      <td>...</td>\n",
       "      <td>...</td>\n",
       "      <td>...</td>\n",
       "      <td>...</td>\n",
       "      <td>...</td>\n",
       "      <td>...</td>\n",
       "    </tr>\n",
       "    <tr>\n",
       "      <th>10110</th>\n",
       "      <td>10110</td>\n",
       "      <td>3</td>\n",
       "      <td>B</td>\n",
       "      <td>0</td>\n",
       "      <td>508050208020</td>\n",
       "      <td>20200228</td>\n",
       "      <td>3</td>\n",
       "      <td>195</td>\n",
       "      <td>False</td>\n",
       "    </tr>\n",
       "    <tr>\n",
       "      <th>10111</th>\n",
       "      <td>10111</td>\n",
       "      <td>4</td>\n",
       "      <td>B</td>\n",
       "      <td>0</td>\n",
       "      <td>508050208020</td>\n",
       "      <td>20200228</td>\n",
       "      <td>3</td>\n",
       "      <td>196</td>\n",
       "      <td>False</td>\n",
       "    </tr>\n",
       "    <tr>\n",
       "      <th>10112</th>\n",
       "      <td>10112</td>\n",
       "      <td>3</td>\n",
       "      <td>B</td>\n",
       "      <td>1</td>\n",
       "      <td>508050208020</td>\n",
       "      <td>20200228</td>\n",
       "      <td>3</td>\n",
       "      <td>197</td>\n",
       "      <td>False</td>\n",
       "    </tr>\n",
       "    <tr>\n",
       "      <th>10113</th>\n",
       "      <td>10113</td>\n",
       "      <td>4</td>\n",
       "      <td>B</td>\n",
       "      <td>0</td>\n",
       "      <td>508050208020</td>\n",
       "      <td>20200228</td>\n",
       "      <td>3</td>\n",
       "      <td>198</td>\n",
       "      <td>False</td>\n",
       "    </tr>\n",
       "    <tr>\n",
       "      <th>10114</th>\n",
       "      <td>10114</td>\n",
       "      <td>3</td>\n",
       "      <td>B</td>\n",
       "      <td>1</td>\n",
       "      <td>508050208020</td>\n",
       "      <td>20200228</td>\n",
       "      <td>3</td>\n",
       "      <td>199</td>\n",
       "      <td>False</td>\n",
       "    </tr>\n",
       "  </tbody>\n",
       "</table>\n",
       "<p>10115 rows × 9 columns</p>\n",
       "</div>"
      ],
      "text/plain": [
       "       Unnamed: 0  leaf stem  reward   contingency      date  session  trial  \\\n",
       "0               0     4    B       1  805020802050  20200213        1      0   \n",
       "1               1     3    B       1  805020802050  20200213        1      1   \n",
       "2               2     1    A       1  805020802050  20200213        1      2   \n",
       "3               3     2    A       0  805020802050  20200213        1      3   \n",
       "4               4     1    A       1  805020802050  20200213        1      4   \n",
       "...           ...   ...  ...     ...           ...       ...      ...    ...   \n",
       "10110       10110     3    B       0  508050208020  20200228        3    195   \n",
       "10111       10111     4    B       0  508050208020  20200228        3    196   \n",
       "10112       10112     3    B       1  508050208020  20200228        3    197   \n",
       "10113       10113     4    B       0  508050208020  20200228        3    198   \n",
       "10114       10114     3    B       1  508050208020  20200228        3    199   \n",
       "\n",
       "       stemChange  \n",
       "0           False  \n",
       "1           False  \n",
       "2            True  \n",
       "3           False  \n",
       "4           False  \n",
       "...           ...  \n",
       "10110       False  \n",
       "10111       False  \n",
       "10112       False  \n",
       "10113       False  \n",
       "10114       False  \n",
       "\n",
       "[10115 rows x 9 columns]"
      ]
     },
     "execution_count": 290,
     "metadata": {},
     "output_type": "execute_result"
    }
   ],
   "source": [
    "#I want to add a column to df that says what contingency it is. \n",
    "#Irrelevant ignore\n",
    "#cont = df[(df['date'] ==20200213) & (df['session'] == 1)]['contingency']\n",
    "\n",
    "\n",
    "df\n"
   ]
  },
  {
   "cell_type": "code",
   "execution_count": 297,
   "metadata": {},
   "outputs": [
    {
     "data": {
      "text/html": [
       "<div>\n",
       "<style scoped>\n",
       "    .dataframe tbody tr th:only-of-type {\n",
       "        vertical-align: middle;\n",
       "    }\n",
       "\n",
       "    .dataframe tbody tr th {\n",
       "        vertical-align: top;\n",
       "    }\n",
       "\n",
       "    .dataframe thead th {\n",
       "        text-align: right;\n",
       "    }\n",
       "</style>\n",
       "<table border=\"1\" class=\"dataframe\">\n",
       "  <thead>\n",
       "    <tr style=\"text-align: right;\">\n",
       "      <th></th>\n",
       "      <th>Unnamed: 0</th>\n",
       "      <th>leaf</th>\n",
       "      <th>stem</th>\n",
       "      <th>reward</th>\n",
       "      <th>contingency</th>\n",
       "      <th>date</th>\n",
       "      <th>session</th>\n",
       "      <th>trial</th>\n",
       "      <th>stemChange</th>\n",
       "      <th>sessionChange</th>\n",
       "      <th>dateChange</th>\n",
       "    </tr>\n",
       "  </thead>\n",
       "  <tbody>\n",
       "    <tr>\n",
       "      <th>1</th>\n",
       "      <td>1</td>\n",
       "      <td>3</td>\n",
       "      <td>B</td>\n",
       "      <td>1</td>\n",
       "      <td>805020802050</td>\n",
       "      <td>20200213</td>\n",
       "      <td>1</td>\n",
       "      <td>1</td>\n",
       "      <td>False</td>\n",
       "      <td>0.0</td>\n",
       "      <td>0.0</td>\n",
       "    </tr>\n",
       "    <tr>\n",
       "      <th>2</th>\n",
       "      <td>2</td>\n",
       "      <td>1</td>\n",
       "      <td>A</td>\n",
       "      <td>1</td>\n",
       "      <td>805020802050</td>\n",
       "      <td>20200213</td>\n",
       "      <td>1</td>\n",
       "      <td>2</td>\n",
       "      <td>True</td>\n",
       "      <td>0.0</td>\n",
       "      <td>0.0</td>\n",
       "    </tr>\n",
       "    <tr>\n",
       "      <th>3</th>\n",
       "      <td>3</td>\n",
       "      <td>2</td>\n",
       "      <td>A</td>\n",
       "      <td>0</td>\n",
       "      <td>805020802050</td>\n",
       "      <td>20200213</td>\n",
       "      <td>1</td>\n",
       "      <td>3</td>\n",
       "      <td>False</td>\n",
       "      <td>0.0</td>\n",
       "      <td>0.0</td>\n",
       "    </tr>\n",
       "    <tr>\n",
       "      <th>4</th>\n",
       "      <td>4</td>\n",
       "      <td>1</td>\n",
       "      <td>A</td>\n",
       "      <td>1</td>\n",
       "      <td>805020802050</td>\n",
       "      <td>20200213</td>\n",
       "      <td>1</td>\n",
       "      <td>4</td>\n",
       "      <td>False</td>\n",
       "      <td>0.0</td>\n",
       "      <td>0.0</td>\n",
       "    </tr>\n",
       "    <tr>\n",
       "      <th>5</th>\n",
       "      <td>5</td>\n",
       "      <td>6</td>\n",
       "      <td>C</td>\n",
       "      <td>1</td>\n",
       "      <td>805020802050</td>\n",
       "      <td>20200213</td>\n",
       "      <td>1</td>\n",
       "      <td>5</td>\n",
       "      <td>True</td>\n",
       "      <td>0.0</td>\n",
       "      <td>0.0</td>\n",
       "    </tr>\n",
       "    <tr>\n",
       "      <th>...</th>\n",
       "      <td>...</td>\n",
       "      <td>...</td>\n",
       "      <td>...</td>\n",
       "      <td>...</td>\n",
       "      <td>...</td>\n",
       "      <td>...</td>\n",
       "      <td>...</td>\n",
       "      <td>...</td>\n",
       "      <td>...</td>\n",
       "      <td>...</td>\n",
       "      <td>...</td>\n",
       "    </tr>\n",
       "    <tr>\n",
       "      <th>276</th>\n",
       "      <td>276</td>\n",
       "      <td>3</td>\n",
       "      <td>B</td>\n",
       "      <td>0</td>\n",
       "      <td>205080508020</td>\n",
       "      <td>20200213</td>\n",
       "      <td>1</td>\n",
       "      <td>276</td>\n",
       "      <td>False</td>\n",
       "      <td>0.0</td>\n",
       "      <td>0.0</td>\n",
       "    </tr>\n",
       "    <tr>\n",
       "      <th>277</th>\n",
       "      <td>277</td>\n",
       "      <td>4</td>\n",
       "      <td>B</td>\n",
       "      <td>0</td>\n",
       "      <td>205080508020</td>\n",
       "      <td>20200213</td>\n",
       "      <td>1</td>\n",
       "      <td>277</td>\n",
       "      <td>False</td>\n",
       "      <td>0.0</td>\n",
       "      <td>0.0</td>\n",
       "    </tr>\n",
       "    <tr>\n",
       "      <th>278</th>\n",
       "      <td>278</td>\n",
       "      <td>3</td>\n",
       "      <td>B</td>\n",
       "      <td>1</td>\n",
       "      <td>205080508020</td>\n",
       "      <td>20200213</td>\n",
       "      <td>1</td>\n",
       "      <td>278</td>\n",
       "      <td>False</td>\n",
       "      <td>0.0</td>\n",
       "      <td>0.0</td>\n",
       "    </tr>\n",
       "    <tr>\n",
       "      <th>279</th>\n",
       "      <td>279</td>\n",
       "      <td>4</td>\n",
       "      <td>B</td>\n",
       "      <td>0</td>\n",
       "      <td>205080508020</td>\n",
       "      <td>20200213</td>\n",
       "      <td>1</td>\n",
       "      <td>279</td>\n",
       "      <td>False</td>\n",
       "      <td>0.0</td>\n",
       "      <td>0.0</td>\n",
       "    </tr>\n",
       "    <tr>\n",
       "      <th>280</th>\n",
       "      <td>280</td>\n",
       "      <td>4</td>\n",
       "      <td>B</td>\n",
       "      <td>0</td>\n",
       "      <td>802050205080</td>\n",
       "      <td>20200213</td>\n",
       "      <td>3</td>\n",
       "      <td>0</td>\n",
       "      <td>False</td>\n",
       "      <td>2.0</td>\n",
       "      <td>0.0</td>\n",
       "    </tr>\n",
       "  </tbody>\n",
       "</table>\n",
       "<p>280 rows × 11 columns</p>\n",
       "</div>"
      ],
      "text/plain": [
       "     Unnamed: 0  leaf stem  reward   contingency      date  session  trial  \\\n",
       "1             1     3    B       1  805020802050  20200213        1      1   \n",
       "2             2     1    A       1  805020802050  20200213        1      2   \n",
       "3             3     2    A       0  805020802050  20200213        1      3   \n",
       "4             4     1    A       1  805020802050  20200213        1      4   \n",
       "5             5     6    C       1  805020802050  20200213        1      5   \n",
       "..          ...   ...  ...     ...           ...       ...      ...    ...   \n",
       "276         276     3    B       0  205080508020  20200213        1    276   \n",
       "277         277     4    B       0  205080508020  20200213        1    277   \n",
       "278         278     3    B       1  205080508020  20200213        1    278   \n",
       "279         279     4    B       0  205080508020  20200213        1    279   \n",
       "280         280     4    B       0  802050205080  20200213        3      0   \n",
       "\n",
       "     stemChange  sessionChange  dateChange  \n",
       "1         False            0.0         0.0  \n",
       "2          True            0.0         0.0  \n",
       "3         False            0.0         0.0  \n",
       "4         False            0.0         0.0  \n",
       "5          True            0.0         0.0  \n",
       "..          ...            ...         ...  \n",
       "276       False            0.0         0.0  \n",
       "277       False            0.0         0.0  \n",
       "278       False            0.0         0.0  \n",
       "279       False            0.0         0.0  \n",
       "280       False            2.0         0.0  \n",
       "\n",
       "[280 rows x 11 columns]"
      ]
     },
     "execution_count": 297,
     "metadata": {},
     "output_type": "execute_result"
    }
   ],
   "source": [
    "#Niiiiiice this just checks if the stem has changes and adds true or false to df.\n",
    "df[\"stemChange\"] = df[\"stem\"].shift(1, fill_value=df[\"stem\"].head(1)) != df[\"stem\"] #better way to calc?\n",
    "df[\"sessionChange\"] = df['session'].diff()\n",
    "df[\"dateChange\"] = df['date'].diff()\n"
   ]
  },
  {
   "cell_type": "code",
   "execution_count": 352,
   "metadata": {},
   "outputs": [
    {
     "data": {
      "text/plain": [
       "Text(0, 0.5, 'num times start session at stem')"
      ]
     },
     "execution_count": 352,
     "metadata": {},
     "output_type": "execute_result"
    },
    {
     "data": {
      "image/png": "[encoded data removed]",
      "text/plain": [
       "<Figure size 1200x480 with 1 Axes>"
      ]
     },
     "metadata": {
      "needs_background": "light"
     },
     "output_type": "display_data"
    }
   ],
   "source": [
    "#First lets use the new columns to find the first stem of every session. \n",
    "session_check = df[(df['sessionChange'] != 0) | (df['dateChange'] != 0)]\n",
    "session_check\n",
    "first_trials= df[(df['trial'] == 0)]['stem']\n",
    "#type(first_trials)\n",
    "first_A = (first_trials.where(first_trials == 'A'))\n",
    "first_B =(first_trials.where(first_trials == 'B'))\n",
    "first_C =(first_trials.where(first_trials == 'C'))\n",
    "first_A=first_A.count()\n",
    "first_B=first_B.count()\n",
    "first_C=first_C.count()\n",
    "#print(first_A, first_B, first_C)\n",
    "\n",
    "figure(figsize=(15, 6), dpi=80)\n",
    "stems = ['A', 'B', 'C']\n",
    "start = [first_A, first_B, first_C]\n",
    "plt.bar(stems, start)\n",
    "plt.title('Num times chimi started session at each stem')\n",
    "plt.xlabel('Stem')\n",
    "plt.ylabel('num times start session at stem')\n"
   ]
  },
  {
   "cell_type": "code",
   "execution_count": 517,
   "metadata": {},
   "outputs": [
    {
     "ename": "IndexError",
     "evalue": "single positional indexer is out-of-bounds",
     "output_type": "error",
     "traceback": [
      "\u001b[0;31m---------------------------------------------------------------------------\u001b[0m",
      "\u001b[0;31mIndexError\u001b[0m                                Traceback (most recent call last)",
      "\u001b[0;32m<ipython-input-517-e85f35aa29fa>\u001b[0m in \u001b[0;36m<module>\u001b[0;34m\u001b[0m\n\u001b[1;32m      9\u001b[0m     \u001b[0mtrial0_df\u001b[0m \u001b[0;34m=\u001b[0m \u001b[0mdf\u001b[0m\u001b[0;34m.\u001b[0m\u001b[0miloc\u001b[0m\u001b[0;34m[\u001b[0m\u001b[0mtrial0_ix\u001b[0m\u001b[0;34m]\u001b[0m\u001b[0;34m\u001b[0m\u001b[0;34m\u001b[0m\u001b[0m\n\u001b[1;32m     10\u001b[0m     \u001b[0mstem1\u001b[0m\u001b[0;34m=\u001b[0m\u001b[0mtrial0_df\u001b[0m\u001b[0;34m.\u001b[0m\u001b[0mloc\u001b[0m\u001b[0;34m[\u001b[0m\u001b[0;34m'stem'\u001b[0m\u001b[0;34m]\u001b[0m\u001b[0;34m\u001b[0m\u001b[0;34m\u001b[0m\u001b[0m\n\u001b[0;32m---> 11\u001b[0;31m     \u001b[0mtrial0_ix_next\u001b[0m\u001b[0;34m=\u001b[0m \u001b[0msession_check\u001b[0m\u001b[0;34m.\u001b[0m\u001b[0miloc\u001b[0m\u001b[0;34m[\u001b[0m\u001b[0;34m(\u001b[0m\u001b[0mix\u001b[0m\u001b[0;34m+\u001b[0m\u001b[0;36m1\u001b[0m\u001b[0;34m)\u001b[0m\u001b[0;34m,\u001b[0m \u001b[0;36m0\u001b[0m\u001b[0;34m]\u001b[0m\u001b[0;34m\u001b[0m\u001b[0;34m\u001b[0m\u001b[0m\n\u001b[0m\u001b[1;32m     12\u001b[0m     \u001b[0mtrial0_ix_next\u001b[0m\u001b[0;34m\u001b[0m\u001b[0;34m\u001b[0m\u001b[0m\n\u001b[1;32m     13\u001b[0m     \u001b[0;32mif\u001b[0m \u001b[0mix\u001b[0m \u001b[0;34m==\u001b[0m\u001b[0;36m0\u001b[0m\u001b[0;34m:\u001b[0m\u001b[0;34m\u001b[0m\u001b[0;34m\u001b[0m\u001b[0m\n",
      "\u001b[0;32m~/miniconda2/envs/Analysis_EM/lib/python3.9/site-packages/pandas/core/indexing.py\u001b[0m in \u001b[0;36m__getitem__\u001b[0;34m(self, key)\u001b[0m\n\u001b[1;32m    887\u001b[0m                     \u001b[0;31m# AttributeError for IntervalTree get_value\u001b[0m\u001b[0;34m\u001b[0m\u001b[0;34m\u001b[0m\u001b[0;34m\u001b[0m\u001b[0m\n\u001b[1;32m    888\u001b[0m                     \u001b[0;32mreturn\u001b[0m \u001b[0mself\u001b[0m\u001b[0;34m.\u001b[0m\u001b[0mobj\u001b[0m\u001b[0;34m.\u001b[0m\u001b[0m_get_value\u001b[0m\u001b[0;34m(\u001b[0m\u001b[0;34m*\u001b[0m\u001b[0mkey\u001b[0m\u001b[0;34m,\u001b[0m \u001b[0mtakeable\u001b[0m\u001b[0;34m=\u001b[0m\u001b[0mself\u001b[0m\u001b[0;34m.\u001b[0m\u001b[0m_takeable\u001b[0m\u001b[0;34m)\u001b[0m\u001b[0;34m\u001b[0m\u001b[0;34m\u001b[0m\u001b[0m\n\u001b[0;32m--> 889\u001b[0;31m             \u001b[0;32mreturn\u001b[0m \u001b[0mself\u001b[0m\u001b[0;34m.\u001b[0m\u001b[0m_getitem_tuple\u001b[0m\u001b[0;34m(\u001b[0m\u001b[0mkey\u001b[0m\u001b[0;34m)\u001b[0m\u001b[0;34m\u001b[0m\u001b[0;34m\u001b[0m\u001b[0m\n\u001b[0m\u001b[1;32m    890\u001b[0m         \u001b[0;32melse\u001b[0m\u001b[0;34m:\u001b[0m\u001b[0;34m\u001b[0m\u001b[0;34m\u001b[0m\u001b[0m\n\u001b[1;32m    891\u001b[0m             \u001b[0;31m# we by definition only have the 0th axis\u001b[0m\u001b[0;34m\u001b[0m\u001b[0;34m\u001b[0m\u001b[0;34m\u001b[0m\u001b[0m\n",
      "\u001b[0;32m~/miniconda2/envs/Analysis_EM/lib/python3.9/site-packages/pandas/core/indexing.py\u001b[0m in \u001b[0;36m_getitem_tuple\u001b[0;34m(self, tup)\u001b[0m\n\u001b[1;32m   1448\u001b[0m     \u001b[0;32mdef\u001b[0m \u001b[0m_getitem_tuple\u001b[0m\u001b[0;34m(\u001b[0m\u001b[0mself\u001b[0m\u001b[0;34m,\u001b[0m \u001b[0mtup\u001b[0m\u001b[0;34m:\u001b[0m \u001b[0mTuple\u001b[0m\u001b[0;34m)\u001b[0m\u001b[0;34m:\u001b[0m\u001b[0;34m\u001b[0m\u001b[0;34m\u001b[0m\u001b[0m\n\u001b[1;32m   1449\u001b[0m \u001b[0;34m\u001b[0m\u001b[0m\n\u001b[0;32m-> 1450\u001b[0;31m         \u001b[0mself\u001b[0m\u001b[0;34m.\u001b[0m\u001b[0m_has_valid_tuple\u001b[0m\u001b[0;34m(\u001b[0m\u001b[0mtup\u001b[0m\u001b[0;34m)\u001b[0m\u001b[0;34m\u001b[0m\u001b[0;34m\u001b[0m\u001b[0m\n\u001b[0m\u001b[1;32m   1451\u001b[0m         \u001b[0;32mwith\u001b[0m \u001b[0msuppress\u001b[0m\u001b[0;34m(\u001b[0m\u001b[0mIndexingError\u001b[0m\u001b[0;34m)\u001b[0m\u001b[0;34m:\u001b[0m\u001b[0;34m\u001b[0m\u001b[0;34m\u001b[0m\u001b[0m\n\u001b[1;32m   1452\u001b[0m             \u001b[0;32mreturn\u001b[0m \u001b[0mself\u001b[0m\u001b[0;34m.\u001b[0m\u001b[0m_getitem_lowerdim\u001b[0m\u001b[0;34m(\u001b[0m\u001b[0mtup\u001b[0m\u001b[0;34m)\u001b[0m\u001b[0;34m\u001b[0m\u001b[0;34m\u001b[0m\u001b[0m\n",
      "\u001b[0;32m~/miniconda2/envs/Analysis_EM/lib/python3.9/site-packages/pandas/core/indexing.py\u001b[0m in \u001b[0;36m_has_valid_tuple\u001b[0;34m(self, key)\u001b[0m\n\u001b[1;32m    721\u001b[0m         \u001b[0;32mfor\u001b[0m \u001b[0mi\u001b[0m\u001b[0;34m,\u001b[0m \u001b[0mk\u001b[0m \u001b[0;32min\u001b[0m \u001b[0menumerate\u001b[0m\u001b[0;34m(\u001b[0m\u001b[0mkey\u001b[0m\u001b[0;34m)\u001b[0m\u001b[0;34m:\u001b[0m\u001b[0;34m\u001b[0m\u001b[0;34m\u001b[0m\u001b[0m\n\u001b[1;32m    722\u001b[0m             \u001b[0;32mtry\u001b[0m\u001b[0;34m:\u001b[0m\u001b[0;34m\u001b[0m\u001b[0;34m\u001b[0m\u001b[0m\n\u001b[0;32m--> 723\u001b[0;31m                 \u001b[0mself\u001b[0m\u001b[0;34m.\u001b[0m\u001b[0m_validate_key\u001b[0m\u001b[0;34m(\u001b[0m\u001b[0mk\u001b[0m\u001b[0;34m,\u001b[0m \u001b[0mi\u001b[0m\u001b[0;34m)\u001b[0m\u001b[0;34m\u001b[0m\u001b[0;34m\u001b[0m\u001b[0m\n\u001b[0m\u001b[1;32m    724\u001b[0m             \u001b[0;32mexcept\u001b[0m \u001b[0mValueError\u001b[0m \u001b[0;32mas\u001b[0m \u001b[0merr\u001b[0m\u001b[0;34m:\u001b[0m\u001b[0;34m\u001b[0m\u001b[0;34m\u001b[0m\u001b[0m\n\u001b[1;32m    725\u001b[0m                 raise ValueError(\n",
      "\u001b[0;32m~/miniconda2/envs/Analysis_EM/lib/python3.9/site-packages/pandas/core/indexing.py\u001b[0m in \u001b[0;36m_validate_key\u001b[0;34m(self, key, axis)\u001b[0m\n\u001b[1;32m   1356\u001b[0m             \u001b[0;32mreturn\u001b[0m\u001b[0;34m\u001b[0m\u001b[0;34m\u001b[0m\u001b[0m\n\u001b[1;32m   1357\u001b[0m         \u001b[0;32melif\u001b[0m \u001b[0mis_integer\u001b[0m\u001b[0;34m(\u001b[0m\u001b[0mkey\u001b[0m\u001b[0;34m)\u001b[0m\u001b[0;34m:\u001b[0m\u001b[0;34m\u001b[0m\u001b[0;34m\u001b[0m\u001b[0m\n\u001b[0;32m-> 1358\u001b[0;31m             \u001b[0mself\u001b[0m\u001b[0;34m.\u001b[0m\u001b[0m_validate_integer\u001b[0m\u001b[0;34m(\u001b[0m\u001b[0mkey\u001b[0m\u001b[0;34m,\u001b[0m \u001b[0maxis\u001b[0m\u001b[0;34m)\u001b[0m\u001b[0;34m\u001b[0m\u001b[0;34m\u001b[0m\u001b[0m\n\u001b[0m\u001b[1;32m   1359\u001b[0m         \u001b[0;32melif\u001b[0m \u001b[0misinstance\u001b[0m\u001b[0;34m(\u001b[0m\u001b[0mkey\u001b[0m\u001b[0;34m,\u001b[0m \u001b[0mtuple\u001b[0m\u001b[0;34m)\u001b[0m\u001b[0;34m:\u001b[0m\u001b[0;34m\u001b[0m\u001b[0;34m\u001b[0m\u001b[0m\n\u001b[1;32m   1360\u001b[0m             \u001b[0;31m# a tuple should already have been caught by this point\u001b[0m\u001b[0;34m\u001b[0m\u001b[0;34m\u001b[0m\u001b[0;34m\u001b[0m\u001b[0m\n",
      "\u001b[0;32m~/miniconda2/envs/Analysis_EM/lib/python3.9/site-packages/pandas/core/indexing.py\u001b[0m in \u001b[0;36m_validate_integer\u001b[0;34m(self, key, axis)\u001b[0m\n\u001b[1;32m   1442\u001b[0m         \u001b[0mlen_axis\u001b[0m \u001b[0;34m=\u001b[0m \u001b[0mlen\u001b[0m\u001b[0;34m(\u001b[0m\u001b[0mself\u001b[0m\u001b[0;34m.\u001b[0m\u001b[0mobj\u001b[0m\u001b[0;34m.\u001b[0m\u001b[0m_get_axis\u001b[0m\u001b[0;34m(\u001b[0m\u001b[0maxis\u001b[0m\u001b[0;34m)\u001b[0m\u001b[0;34m)\u001b[0m\u001b[0;34m\u001b[0m\u001b[0;34m\u001b[0m\u001b[0m\n\u001b[1;32m   1443\u001b[0m         \u001b[0;32mif\u001b[0m \u001b[0mkey\u001b[0m \u001b[0;34m>=\u001b[0m \u001b[0mlen_axis\u001b[0m \u001b[0;32mor\u001b[0m \u001b[0mkey\u001b[0m \u001b[0;34m<\u001b[0m \u001b[0;34m-\u001b[0m\u001b[0mlen_axis\u001b[0m\u001b[0;34m:\u001b[0m\u001b[0;34m\u001b[0m\u001b[0;34m\u001b[0m\u001b[0m\n\u001b[0;32m-> 1444\u001b[0;31m             \u001b[0;32mraise\u001b[0m \u001b[0mIndexError\u001b[0m\u001b[0;34m(\u001b[0m\u001b[0;34m\"single positional indexer is out-of-bounds\"\u001b[0m\u001b[0;34m)\u001b[0m\u001b[0;34m\u001b[0m\u001b[0;34m\u001b[0m\u001b[0m\n\u001b[0m\u001b[1;32m   1445\u001b[0m \u001b[0;34m\u001b[0m\u001b[0m\n\u001b[1;32m   1446\u001b[0m     \u001b[0;31m# -------------------------------------------------------------------\u001b[0m\u001b[0;34m\u001b[0m\u001b[0;34m\u001b[0m\u001b[0;34m\u001b[0m\u001b[0m\n",
      "\u001b[0;31mIndexError\u001b[0m: single positional indexer is out-of-bounds"
     ]
    }
   ],
   "source": [
    "# I need to use the indexes of session check, which tell me the first time theres a new session\n",
    "#Split the data up- between the two indexes of session check, find the times when stem change is true,\n",
    "#find the first two stems. \n",
    "\n",
    "#first, find df when index = first index of session_check\n",
    "\n",
    "for ix in range(len(session_check)):\n",
    "    trial0_ix= session_check.iloc[ix, 0]\n",
    "    trial0_df = df.iloc[trial0_ix]\n",
    "    stem1=trial0_df.loc['stem']\n",
    "    trial0_ix_next= session_check.iloc[(ix+1), 0]\n",
    "    trial0_ix_next\n",
    "    if ix ==0:\n",
    "        current_df = df.where(df.iloc[:,0] < trial0_ix_next)\n",
    "    else: \n",
    "        current_df = df.where(df.iloc[:,0] < trial0_ix_next)\n",
    "        current_df = current_df.where(current_df.iloc[:,0] > trial0_ix)\n",
    "    current_df\n",
    "    stem_order_df = current_df[(current_df['stemChange'] == 1.0)]['stem']\n",
    "    stem_order_df\n",
    "    ser_first2= stem_order_df.head(2)\n",
    "    stem2=ser_first2.head(1)\n",
    "    #stem2\n",
    "    stem3 = ser_first2[-1:]\n",
    "    #stem3\n",
    "    if ix == 0:\n",
    "        stems = []\n",
    "    stems.append(stem1)\n",
    "    stem2=stem2.tolist()\n",
    "    stem3=stem3.tolist()\n",
    "    stems.append(stem2)\n",
    "    stems.append(stem3)\n",
    "stems\n",
    "# will throw error because cant handle # 51 with the qay ive written it. "
   ]
  },
  {
   "cell_type": "code",
   "execution_count": 518,
   "metadata": {},
   "outputs": [
    {
     "name": "stdout",
     "output_type": "stream",
     "text": [
      "<class 'list'>\n"
     ]
    },
    {
     "data": {
      "text/plain": [
       "(11, 4, 2, 0, 20, 12, 0, 0, 0, 1, 0, 0)"
      ]
     },
     "execution_count": 518,
     "metadata": {},
     "output_type": "execute_result"
    }
   ],
   "source": [
    "#If the trial is 0, stem 1= that stem. \n",
    "#stem 2 is the next true. stem 3 is the next true. \n",
    "\n",
    "#firstday_firstsesh.loc[\"stemChange\"] = firstday_firstsesh[\"stem\"].shift(1, fill_value=firstday_firstsesh[\"stem\"].head(1)) != firstday_firstsesh[\"stem\"]\n",
    "#firstday_firstsesh\n",
    "\n",
    "# first_month = df[(df['date'] <= 20200229)]\n",
    "# Date = 20200213\n",
    "# Session = 1\n",
    "\n",
    "# for Date, Session in range(len(first_month)): \n",
    "#     working = first_month[(first_month['date'] == Date) & (first_month['session'] = Session)]['stem']\n",
    "#     Date = Date +1\n",
    "#     Session = Session+1\n",
    "    \n",
    "# for session in range(1:3):\n",
    "final = [stems[i * 3:(i + 1) * 3] for i in range((len(stems) + 3 - 1) // 3 )] \n",
    "print (type(final))\n",
    "\n",
    "ACB=0\n",
    "ABC=0\n",
    "CBA=0\n",
    "CAB=0\n",
    "BAC=0\n",
    "BCA=0\n",
    "CAC=0\n",
    "BAB=0\n",
    "CBC=0\n",
    "BCB=0\n",
    "ABA=0\n",
    "ACA=0\n",
    "\n",
    "\n",
    "\n",
    "for list_ix in range(len(final)):\n",
    "    if final[list_ix] == ['A', ['C'], ['B']]:\n",
    "        ACB = ACB + 1 \n",
    "    elif final[list_ix] == ['A', ['B'], ['C']]:\n",
    "        ABC = ABC + 1 \n",
    "    elif final[list_ix] == ['C', ['B'], ['A']]:\n",
    "        CBA = CBA + 1 \n",
    "    elif final[list_ix] == ['C', ['A'], ['B']]:\n",
    "        CAB = CAB + 1  \n",
    "    elif final[list_ix] == ['B', ['A'], ['C']]:\n",
    "        BAC = BAC + 1  \n",
    "    elif final[list_ix] == ['B', ['C'], ['A']]:\n",
    "         BCA = BCA + 1\n",
    "    elif final[list_ix] == ['C', ['A'], ['C']]:\n",
    "        CAC = CAC + 1      \n",
    "    elif final[list_ix] == ['B', ['A'], ['B']]:\n",
    "        BAB = BAB + 1\n",
    "    elif final[list_ix] == ['C', ['B'], ['C']]:\n",
    "        CBC = CBC + 1\n",
    "    elif final[list_ix] == ['B', ['C'], ['B']]:\n",
    "        BCB = BCB + 1      \n",
    "    elif final[list_ix] == ['A', ['B'], ['A']]:\n",
    "        ABA = ABA + 1\n",
    "    elif final[list_ix] == ['A', ['C'], ['A']]:\n",
    "        ACA = ACA+1\n",
    "\n",
    "list_of_3s = (ACB,ABC,CBA,CAB,BAC,BCA,CAC,BAB,CBC,BCB,ABA,ACA)\n",
    "list_of_3s"
   ]
  },
  {
   "cell_type": "code",
   "execution_count": 519,
   "metadata": {},
   "outputs": [
    {
     "data": {
      "text/plain": [
       "Text(0, 0.5, 'num times start session at stem group')"
      ]
     },
     "execution_count": 519,
     "metadata": {},
     "output_type": "execute_result"
    },
    {
     "data": {
      "image/png": "[encoded data removed]",
      "text/plain": [
       "<Figure size 1200x480 with 1 Axes>"
      ]
     },
     "metadata": {
      "needs_background": "light"
     },
     "output_type": "display_data"
    }
   ],
   "source": [
    "figure(figsize=(15, 6), dpi=80)\n",
    "stems = ['ACB','ABC','CBA','CAB','BAC','BCA','CAC','BAB','CBC','BCB','ABA','ACA']\n",
    "plt.bar(stems, list_of_3s)\n",
    "plt.title('Num times chimi visited these 3 stems in this order in the experiment')\n",
    "plt.xlabel('Stem')\n",
    "plt.ylabel('num times start session at stem group')\n",
    "\n"
   ]
  },
  {
   "cell_type": "code",
   "execution_count": 379,
   "metadata": {},
   "outputs": [
    {
     "data": {
      "text/plain": [
       "2       A\n",
       "5       C\n",
       "9       B\n",
       "15      C\n",
       "18      A\n",
       "       ..\n",
       "9935    B\n",
       "9939    A\n",
       "9954    C\n",
       "9961    A\n",
       "9985    B\n",
       "Name: stem, Length: 440, dtype: object"
      ]
     },
     "execution_count": 379,
     "metadata": {},
     "output_type": "execute_result"
    }
   ],
   "source": [
    "#could look at how this pattern develops"
   ]
  },
  {
   "cell_type": "code",
   "execution_count": 282,
   "metadata": {},
   "outputs": [
    {
     "ename": "TypeError",
     "evalue": "cannot unpack non-iterable int object",
     "output_type": "error",
     "traceback": [
      "\u001b[0;31m---------------------------------------------------------------------------\u001b[0m",
      "\u001b[0;31mTypeError\u001b[0m                                 Traceback (most recent call last)",
      "\u001b[0;32m<ipython-input-282-b6b0ccf84e72>\u001b[0m in \u001b[0;36m<module>\u001b[0;34m\u001b[0m\n\u001b[1;32m      3\u001b[0m \u001b[0mSession\u001b[0m \u001b[0;34m=\u001b[0m \u001b[0;36m1\u001b[0m\u001b[0;34m\u001b[0m\u001b[0;34m\u001b[0m\u001b[0m\n\u001b[1;32m      4\u001b[0m \u001b[0;34m\u001b[0m\u001b[0m\n\u001b[0;32m----> 5\u001b[0;31m \u001b[0;32mfor\u001b[0m \u001b[0mDate\u001b[0m\u001b[0;34m,\u001b[0m \u001b[0mSession\u001b[0m \u001b[0;32min\u001b[0m \u001b[0mrange\u001b[0m\u001b[0;34m(\u001b[0m\u001b[0mlen\u001b[0m\u001b[0;34m(\u001b[0m\u001b[0mfirst_month\u001b[0m\u001b[0;34m)\u001b[0m\u001b[0;34m)\u001b[0m\u001b[0;34m:\u001b[0m\u001b[0;34m\u001b[0m\u001b[0;34m\u001b[0m\u001b[0m\n\u001b[0m\u001b[1;32m      6\u001b[0m     \u001b[0mworking\u001b[0m \u001b[0;34m=\u001b[0m \u001b[0mfirst_month\u001b[0m\u001b[0;34m[\u001b[0m\u001b[0;34m(\u001b[0m\u001b[0mfirst_month\u001b[0m\u001b[0;34m[\u001b[0m\u001b[0;34m'date'\u001b[0m\u001b[0;34m]\u001b[0m \u001b[0;34m==\u001b[0m \u001b[0mDate\u001b[0m\u001b[0;34m)\u001b[0m \u001b[0;34m&\u001b[0m \u001b[0;34m(\u001b[0m\u001b[0mfirst_month\u001b[0m\u001b[0;34m[\u001b[0m\u001b[0;34m'session'\u001b[0m\u001b[0;34m]\u001b[0m \u001b[0;34m==\u001b[0m \u001b[0mSession\u001b[0m\u001b[0;34m)\u001b[0m\u001b[0;34m]\u001b[0m\u001b[0;34m[\u001b[0m\u001b[0;34m'stem'\u001b[0m\u001b[0;34m]\u001b[0m\u001b[0;34m\u001b[0m\u001b[0;34m\u001b[0m\u001b[0m\n\u001b[1;32m      7\u001b[0m     \u001b[0mDate\u001b[0m \u001b[0;34m=\u001b[0m \u001b[0mDate\u001b[0m \u001b[0;34m+\u001b[0m\u001b[0;36m1\u001b[0m\u001b[0;34m\u001b[0m\u001b[0;34m\u001b[0m\u001b[0m\n",
      "\u001b[0;31mTypeError\u001b[0m: cannot unpack non-iterable int object"
     ]
    }
   ],
   "source": []
  },
  {
   "cell_type": "code",
   "execution_count": null,
   "metadata": {},
   "outputs": [],
   "source": [
    "# from conversatino with Alison: \n",
    "\n",
    "#What im working on now is good, we dont know this information. \n",
    "# Better way to do it is to take differences among date and session like I did with stem change. Then should be able to add or subtract those (in case theres a day with only 1 session)\n",
    "#But, should go back to original question \n",
    "#does it matter what order the rat goes in to start? Or is it just that he goes to each of them a certain number of time? \n",
    "#defining exploration vs exploitation in some way? \n",
    "#go back to the larger question and ask how does what Im asking now help me answer the bigger question>? does it really tell me what I need to know to answer the bigger question? \n",
    "#thinking about it in terms of biases is interesting too (at first he has no bias, spends equal amount of time at all of them)\n",
    "#figure out the question im trying to ask and pseudocode it, talk with alison before trying it out \n",
    "#just for notes we also talked about when to start separat\n"
   ]
  },
  {
   "cell_type": "code",
   "execution_count": 487,
   "metadata": {},
   "outputs": [],
   "source": [
    "#want to write session_check to csv so I have better intuition looking through it. \n",
    "# current_df.to_csv(r'/home/emonroe/Documents/current_df.csv', index = False)"
   ]
  },
  {
   "cell_type": "code",
   "execution_count": 549,
   "metadata": {},
   "outputs": [
    {
     "ename": "IndexError",
     "evalue": "single positional indexer is out-of-bounds",
     "output_type": "error",
     "traceback": [
      "\u001b[0;31m---------------------------------------------------------------------------\u001b[0m",
      "\u001b[0;31mIndexError\u001b[0m                                Traceback (most recent call last)",
      "\u001b[0;32m<ipython-input-549-86089dd58f64>\u001b[0m in \u001b[0;36m<module>\u001b[0;34m\u001b[0m\n\u001b[1;32m     10\u001b[0m     \u001b[0mtrial0_df\u001b[0m\u001b[0;34m\u001b[0m\u001b[0;34m\u001b[0m\u001b[0m\n\u001b[1;32m     11\u001b[0m     \u001b[0mstem1\u001b[0m\u001b[0;34m=\u001b[0m\u001b[0mtrial0_df\u001b[0m\u001b[0;34m.\u001b[0m\u001b[0mloc\u001b[0m\u001b[0;34m[\u001b[0m\u001b[0;34m'stem'\u001b[0m\u001b[0;34m]\u001b[0m\u001b[0;34m\u001b[0m\u001b[0;34m\u001b[0m\u001b[0m\n\u001b[0;32m---> 12\u001b[0;31m     \u001b[0mtrial0_ix_next\u001b[0m\u001b[0;34m=\u001b[0m \u001b[0msession_check\u001b[0m\u001b[0;34m.\u001b[0m\u001b[0miloc\u001b[0m\u001b[0;34m[\u001b[0m\u001b[0;34m(\u001b[0m\u001b[0mix\u001b[0m\u001b[0;34m+\u001b[0m\u001b[0;36m1\u001b[0m\u001b[0;34m)\u001b[0m\u001b[0;34m,\u001b[0m \u001b[0;36m0\u001b[0m\u001b[0;34m]\u001b[0m\u001b[0;34m\u001b[0m\u001b[0;34m\u001b[0m\u001b[0m\n\u001b[0m\u001b[1;32m     13\u001b[0m     \u001b[0mtrial0_ix_next\u001b[0m\u001b[0;34m\u001b[0m\u001b[0;34m\u001b[0m\u001b[0m\n\u001b[1;32m     14\u001b[0m \u001b[0;31m#     trial0_ix_next\u001b[0m\u001b[0;34m\u001b[0m\u001b[0;34m\u001b[0m\u001b[0;34m\u001b[0m\u001b[0m\n",
      "\u001b[0;32m~/miniconda2/envs/Analysis_EM/lib/python3.9/site-packages/pandas/core/indexing.py\u001b[0m in \u001b[0;36m__getitem__\u001b[0;34m(self, key)\u001b[0m\n\u001b[1;32m    887\u001b[0m                     \u001b[0;31m# AttributeError for IntervalTree get_value\u001b[0m\u001b[0;34m\u001b[0m\u001b[0;34m\u001b[0m\u001b[0;34m\u001b[0m\u001b[0m\n\u001b[1;32m    888\u001b[0m                     \u001b[0;32mreturn\u001b[0m \u001b[0mself\u001b[0m\u001b[0;34m.\u001b[0m\u001b[0mobj\u001b[0m\u001b[0;34m.\u001b[0m\u001b[0m_get_value\u001b[0m\u001b[0;34m(\u001b[0m\u001b[0;34m*\u001b[0m\u001b[0mkey\u001b[0m\u001b[0;34m,\u001b[0m \u001b[0mtakeable\u001b[0m\u001b[0;34m=\u001b[0m\u001b[0mself\u001b[0m\u001b[0;34m.\u001b[0m\u001b[0m_takeable\u001b[0m\u001b[0;34m)\u001b[0m\u001b[0;34m\u001b[0m\u001b[0;34m\u001b[0m\u001b[0m\n\u001b[0;32m--> 889\u001b[0;31m             \u001b[0;32mreturn\u001b[0m \u001b[0mself\u001b[0m\u001b[0;34m.\u001b[0m\u001b[0m_getitem_tuple\u001b[0m\u001b[0;34m(\u001b[0m\u001b[0mkey\u001b[0m\u001b[0;34m)\u001b[0m\u001b[0;34m\u001b[0m\u001b[0;34m\u001b[0m\u001b[0m\n\u001b[0m\u001b[1;32m    890\u001b[0m         \u001b[0;32melse\u001b[0m\u001b[0;34m:\u001b[0m\u001b[0;34m\u001b[0m\u001b[0;34m\u001b[0m\u001b[0m\n\u001b[1;32m    891\u001b[0m             \u001b[0;31m# we by definition only have the 0th axis\u001b[0m\u001b[0;34m\u001b[0m\u001b[0;34m\u001b[0m\u001b[0;34m\u001b[0m\u001b[0m\n",
      "\u001b[0;32m~/miniconda2/envs/Analysis_EM/lib/python3.9/site-packages/pandas/core/indexing.py\u001b[0m in \u001b[0;36m_getitem_tuple\u001b[0;34m(self, tup)\u001b[0m\n\u001b[1;32m   1448\u001b[0m     \u001b[0;32mdef\u001b[0m \u001b[0m_getitem_tuple\u001b[0m\u001b[0;34m(\u001b[0m\u001b[0mself\u001b[0m\u001b[0;34m,\u001b[0m \u001b[0mtup\u001b[0m\u001b[0;34m:\u001b[0m \u001b[0mTuple\u001b[0m\u001b[0;34m)\u001b[0m\u001b[0;34m:\u001b[0m\u001b[0;34m\u001b[0m\u001b[0;34m\u001b[0m\u001b[0m\n\u001b[1;32m   1449\u001b[0m \u001b[0;34m\u001b[0m\u001b[0m\n\u001b[0;32m-> 1450\u001b[0;31m         \u001b[0mself\u001b[0m\u001b[0;34m.\u001b[0m\u001b[0m_has_valid_tuple\u001b[0m\u001b[0;34m(\u001b[0m\u001b[0mtup\u001b[0m\u001b[0;34m)\u001b[0m\u001b[0;34m\u001b[0m\u001b[0;34m\u001b[0m\u001b[0m\n\u001b[0m\u001b[1;32m   1451\u001b[0m         \u001b[0;32mwith\u001b[0m \u001b[0msuppress\u001b[0m\u001b[0;34m(\u001b[0m\u001b[0mIndexingError\u001b[0m\u001b[0;34m)\u001b[0m\u001b[0;34m:\u001b[0m\u001b[0;34m\u001b[0m\u001b[0;34m\u001b[0m\u001b[0m\n\u001b[1;32m   1452\u001b[0m             \u001b[0;32mreturn\u001b[0m \u001b[0mself\u001b[0m\u001b[0;34m.\u001b[0m\u001b[0m_getitem_lowerdim\u001b[0m\u001b[0;34m(\u001b[0m\u001b[0mtup\u001b[0m\u001b[0;34m)\u001b[0m\u001b[0;34m\u001b[0m\u001b[0;34m\u001b[0m\u001b[0m\n",
      "\u001b[0;32m~/miniconda2/envs/Analysis_EM/lib/python3.9/site-packages/pandas/core/indexing.py\u001b[0m in \u001b[0;36m_has_valid_tuple\u001b[0;34m(self, key)\u001b[0m\n\u001b[1;32m    721\u001b[0m         \u001b[0;32mfor\u001b[0m \u001b[0mi\u001b[0m\u001b[0;34m,\u001b[0m \u001b[0mk\u001b[0m \u001b[0;32min\u001b[0m \u001b[0menumerate\u001b[0m\u001b[0;34m(\u001b[0m\u001b[0mkey\u001b[0m\u001b[0;34m)\u001b[0m\u001b[0;34m:\u001b[0m\u001b[0;34m\u001b[0m\u001b[0;34m\u001b[0m\u001b[0m\n\u001b[1;32m    722\u001b[0m             \u001b[0;32mtry\u001b[0m\u001b[0;34m:\u001b[0m\u001b[0;34m\u001b[0m\u001b[0;34m\u001b[0m\u001b[0m\n\u001b[0;32m--> 723\u001b[0;31m                 \u001b[0mself\u001b[0m\u001b[0;34m.\u001b[0m\u001b[0m_validate_key\u001b[0m\u001b[0;34m(\u001b[0m\u001b[0mk\u001b[0m\u001b[0;34m,\u001b[0m \u001b[0mi\u001b[0m\u001b[0;34m)\u001b[0m\u001b[0;34m\u001b[0m\u001b[0;34m\u001b[0m\u001b[0m\n\u001b[0m\u001b[1;32m    724\u001b[0m             \u001b[0;32mexcept\u001b[0m \u001b[0mValueError\u001b[0m \u001b[0;32mas\u001b[0m \u001b[0merr\u001b[0m\u001b[0;34m:\u001b[0m\u001b[0;34m\u001b[0m\u001b[0;34m\u001b[0m\u001b[0m\n\u001b[1;32m    725\u001b[0m                 raise ValueError(\n",
      "\u001b[0;32m~/miniconda2/envs/Analysis_EM/lib/python3.9/site-packages/pandas/core/indexing.py\u001b[0m in \u001b[0;36m_validate_key\u001b[0;34m(self, key, axis)\u001b[0m\n\u001b[1;32m   1356\u001b[0m             \u001b[0;32mreturn\u001b[0m\u001b[0;34m\u001b[0m\u001b[0;34m\u001b[0m\u001b[0m\n\u001b[1;32m   1357\u001b[0m         \u001b[0;32melif\u001b[0m \u001b[0mis_integer\u001b[0m\u001b[0;34m(\u001b[0m\u001b[0mkey\u001b[0m\u001b[0;34m)\u001b[0m\u001b[0;34m:\u001b[0m\u001b[0;34m\u001b[0m\u001b[0;34m\u001b[0m\u001b[0m\n\u001b[0;32m-> 1358\u001b[0;31m             \u001b[0mself\u001b[0m\u001b[0;34m.\u001b[0m\u001b[0m_validate_integer\u001b[0m\u001b[0;34m(\u001b[0m\u001b[0mkey\u001b[0m\u001b[0;34m,\u001b[0m \u001b[0maxis\u001b[0m\u001b[0;34m)\u001b[0m\u001b[0;34m\u001b[0m\u001b[0;34m\u001b[0m\u001b[0m\n\u001b[0m\u001b[1;32m   1359\u001b[0m         \u001b[0;32melif\u001b[0m \u001b[0misinstance\u001b[0m\u001b[0;34m(\u001b[0m\u001b[0mkey\u001b[0m\u001b[0;34m,\u001b[0m \u001b[0mtuple\u001b[0m\u001b[0;34m)\u001b[0m\u001b[0;34m:\u001b[0m\u001b[0;34m\u001b[0m\u001b[0;34m\u001b[0m\u001b[0m\n\u001b[1;32m   1360\u001b[0m             \u001b[0;31m# a tuple should already have been caught by this point\u001b[0m\u001b[0;34m\u001b[0m\u001b[0;34m\u001b[0m\u001b[0;34m\u001b[0m\u001b[0m\n",
      "\u001b[0;32m~/miniconda2/envs/Analysis_EM/lib/python3.9/site-packages/pandas/core/indexing.py\u001b[0m in \u001b[0;36m_validate_integer\u001b[0;34m(self, key, axis)\u001b[0m\n\u001b[1;32m   1442\u001b[0m         \u001b[0mlen_axis\u001b[0m \u001b[0;34m=\u001b[0m \u001b[0mlen\u001b[0m\u001b[0;34m(\u001b[0m\u001b[0mself\u001b[0m\u001b[0;34m.\u001b[0m\u001b[0mobj\u001b[0m\u001b[0;34m.\u001b[0m\u001b[0m_get_axis\u001b[0m\u001b[0;34m(\u001b[0m\u001b[0maxis\u001b[0m\u001b[0;34m)\u001b[0m\u001b[0;34m)\u001b[0m\u001b[0;34m\u001b[0m\u001b[0;34m\u001b[0m\u001b[0m\n\u001b[1;32m   1443\u001b[0m         \u001b[0;32mif\u001b[0m \u001b[0mkey\u001b[0m \u001b[0;34m>=\u001b[0m \u001b[0mlen_axis\u001b[0m \u001b[0;32mor\u001b[0m \u001b[0mkey\u001b[0m \u001b[0;34m<\u001b[0m \u001b[0;34m-\u001b[0m\u001b[0mlen_axis\u001b[0m\u001b[0;34m:\u001b[0m\u001b[0;34m\u001b[0m\u001b[0;34m\u001b[0m\u001b[0m\n\u001b[0;32m-> 1444\u001b[0;31m             \u001b[0;32mraise\u001b[0m \u001b[0mIndexError\u001b[0m\u001b[0;34m(\u001b[0m\u001b[0;34m\"single positional indexer is out-of-bounds\"\u001b[0m\u001b[0;34m)\u001b[0m\u001b[0;34m\u001b[0m\u001b[0;34m\u001b[0m\u001b[0m\n\u001b[0m\u001b[1;32m   1445\u001b[0m \u001b[0;34m\u001b[0m\u001b[0m\n\u001b[1;32m   1446\u001b[0m     \u001b[0;31m# -------------------------------------------------------------------\u001b[0m\u001b[0;34m\u001b[0m\u001b[0;34m\u001b[0m\u001b[0;34m\u001b[0m\u001b[0m\n",
      "\u001b[0;31mIndexError\u001b[0m: single positional indexer is out-of-bounds"
     ]
    }
   ],
   "source": [
    "# what id like to do now is see how many rewards the guy gets in every contingency of every run. \n",
    "# i predict that he will get more as he gets better at the task. Then i can investigate what strategies lead to higher rew\n",
    "\n",
    "# counting rewards in \n",
    "\n",
    "for ix in range(len(session_check)):\n",
    "    trial0_ix= session_check.iloc[ix, 0]\n",
    "    trial0_ix\n",
    "    trial0_df = df.iloc[trial0_ix]\n",
    "    trial0_df\n",
    "    stem1=trial0_df.loc['stem']\n",
    "    trial0_ix_next= session_check.iloc[(ix+1), 0]\n",
    "    trial0_ix_next\n",
    "#     trial0_ix_next\n",
    "    if ix ==0:\n",
    "        current_df = df.where(df.iloc[:,0] < trial0_ix_next)\n",
    "    else: \n",
    "        current_df = df.where(df.iloc[:,0] < trial0_ix_next)\n",
    "        current_df = current_df.where(current_df.iloc[:,0] > trial0_ix)\n",
    "    current_df\n",
    "    rewards = (current_df['reward'])\n",
    "    rewards = rewards.dropna()\n",
    "    rewards = rewards.sum()\n",
    "    rewards\n",
    "    if ix == 0:\n",
    "         track_rewards = []\n",
    "    track_rewards.append(rewards)\n",
    "    \n",
    "track_rewards"
   ]
  },
  {
   "cell_type": "code",
   "execution_count": 559,
   "metadata": {},
   "outputs": [
    {
     "data": {
      "text/plain": [
       "Text(0, 0.5, 'num rew total')"
      ]
     },
     "execution_count": 559,
     "metadata": {},
     "output_type": "execute_result"
    },
    {
     "data": {
      "image/png": "[encoded data removed]",
      "text/plain": [
       "<Figure size 1200x480 with 1 Axes>"
      ]
     },
     "metadata": {
      "needs_background": "light"
     },
     "output_type": "display_data"
    }
   ],
   "source": [
    "track_rewards\n",
    "figure(figsize=(15, 6), dpi=80)\n",
    "sessions= range(len(track_rewards))\n",
    "plt.bar(sessions, track_rewards)\n",
    "plt.title('rewards per run')\n",
    "plt.xlabel('run#')\n",
    "plt.ylabel('num rew total')\n",
    "\n",
    "\n"
   ]
  },
  {
   "cell_type": "code",
   "execution_count": 560,
   "metadata": {},
   "outputs": [
    {
     "data": {
      "text/html": [
       "<div>\n",
       "<style scoped>\n",
       "    .dataframe tbody tr th:only-of-type {\n",
       "        vertical-align: middle;\n",
       "    }\n",
       "\n",
       "    .dataframe tbody tr th {\n",
       "        vertical-align: top;\n",
       "    }\n",
       "\n",
       "    .dataframe thead th {\n",
       "        text-align: right;\n",
       "    }\n",
       "</style>\n",
       "<table border=\"1\" class=\"dataframe\">\n",
       "  <thead>\n",
       "    <tr style=\"text-align: right;\">\n",
       "      <th></th>\n",
       "      <th>Unnamed: 0</th>\n",
       "      <th>leaf</th>\n",
       "      <th>stem</th>\n",
       "      <th>reward</th>\n",
       "      <th>contingency</th>\n",
       "      <th>date</th>\n",
       "      <th>session</th>\n",
       "      <th>trial</th>\n",
       "      <th>rew_rate_A</th>\n",
       "      <th>rew_rate_B</th>\n",
       "      <th>rew_rate_C</th>\n",
       "      <th>stemChange</th>\n",
       "    </tr>\n",
       "  </thead>\n",
       "  <tbody>\n",
       "    <tr>\n",
       "      <th>0</th>\n",
       "      <td>0.0</td>\n",
       "      <td>4.0</td>\n",
       "      <td>B</td>\n",
       "      <td>1.0</td>\n",
       "      <td>8.050208e+11</td>\n",
       "      <td>20200213.0</td>\n",
       "      <td>1.0</td>\n",
       "      <td>0.0</td>\n",
       "      <td>NaN</td>\n",
       "      <td>NaN</td>\n",
       "      <td>NaN</td>\n",
       "      <td>0.0</td>\n",
       "    </tr>\n",
       "    <tr>\n",
       "      <th>1</th>\n",
       "      <td>1.0</td>\n",
       "      <td>3.0</td>\n",
       "      <td>B</td>\n",
       "      <td>1.0</td>\n",
       "      <td>8.050208e+11</td>\n",
       "      <td>20200213.0</td>\n",
       "      <td>1.0</td>\n",
       "      <td>1.0</td>\n",
       "      <td>NaN</td>\n",
       "      <td>NaN</td>\n",
       "      <td>NaN</td>\n",
       "      <td>0.0</td>\n",
       "    </tr>\n",
       "    <tr>\n",
       "      <th>2</th>\n",
       "      <td>2.0</td>\n",
       "      <td>1.0</td>\n",
       "      <td>A</td>\n",
       "      <td>1.0</td>\n",
       "      <td>8.050208e+11</td>\n",
       "      <td>20200213.0</td>\n",
       "      <td>1.0</td>\n",
       "      <td>2.0</td>\n",
       "      <td>NaN</td>\n",
       "      <td>NaN</td>\n",
       "      <td>NaN</td>\n",
       "      <td>1.0</td>\n",
       "    </tr>\n",
       "    <tr>\n",
       "      <th>3</th>\n",
       "      <td>3.0</td>\n",
       "      <td>2.0</td>\n",
       "      <td>A</td>\n",
       "      <td>0.0</td>\n",
       "      <td>8.050208e+11</td>\n",
       "      <td>20200213.0</td>\n",
       "      <td>1.0</td>\n",
       "      <td>3.0</td>\n",
       "      <td>NaN</td>\n",
       "      <td>NaN</td>\n",
       "      <td>NaN</td>\n",
       "      <td>0.0</td>\n",
       "    </tr>\n",
       "    <tr>\n",
       "      <th>4</th>\n",
       "      <td>4.0</td>\n",
       "      <td>1.0</td>\n",
       "      <td>A</td>\n",
       "      <td>1.0</td>\n",
       "      <td>8.050208e+11</td>\n",
       "      <td>20200213.0</td>\n",
       "      <td>1.0</td>\n",
       "      <td>4.0</td>\n",
       "      <td>0.666667</td>\n",
       "      <td>NaN</td>\n",
       "      <td>NaN</td>\n",
       "      <td>0.0</td>\n",
       "    </tr>\n",
       "    <tr>\n",
       "      <th>...</th>\n",
       "      <td>...</td>\n",
       "      <td>...</td>\n",
       "      <td>...</td>\n",
       "      <td>...</td>\n",
       "      <td>...</td>\n",
       "      <td>...</td>\n",
       "      <td>...</td>\n",
       "      <td>...</td>\n",
       "      <td>...</td>\n",
       "      <td>...</td>\n",
       "      <td>...</td>\n",
       "      <td>...</td>\n",
       "    </tr>\n",
       "    <tr>\n",
       "      <th>277</th>\n",
       "      <td>277.0</td>\n",
       "      <td>4.0</td>\n",
       "      <td>B</td>\n",
       "      <td>0.0</td>\n",
       "      <td>2.050805e+11</td>\n",
       "      <td>20200213.0</td>\n",
       "      <td>1.0</td>\n",
       "      <td>277.0</td>\n",
       "      <td>NaN</td>\n",
       "      <td>0.333333</td>\n",
       "      <td>NaN</td>\n",
       "      <td>0.0</td>\n",
       "    </tr>\n",
       "    <tr>\n",
       "      <th>278</th>\n",
       "      <td>278.0</td>\n",
       "      <td>3.0</td>\n",
       "      <td>B</td>\n",
       "      <td>1.0</td>\n",
       "      <td>2.050805e+11</td>\n",
       "      <td>20200213.0</td>\n",
       "      <td>1.0</td>\n",
       "      <td>278.0</td>\n",
       "      <td>NaN</td>\n",
       "      <td>0.333333</td>\n",
       "      <td>NaN</td>\n",
       "      <td>0.0</td>\n",
       "    </tr>\n",
       "    <tr>\n",
       "      <th>279</th>\n",
       "      <td>279.0</td>\n",
       "      <td>4.0</td>\n",
       "      <td>B</td>\n",
       "      <td>0.0</td>\n",
       "      <td>2.050805e+11</td>\n",
       "      <td>20200213.0</td>\n",
       "      <td>1.0</td>\n",
       "      <td>279.0</td>\n",
       "      <td>NaN</td>\n",
       "      <td>0.333333</td>\n",
       "      <td>NaN</td>\n",
       "      <td>0.0</td>\n",
       "    </tr>\n",
       "    <tr>\n",
       "      <th>Rew_rate</th>\n",
       "      <td>NaN</td>\n",
       "      <td>NaN</td>\n",
       "      <td>NaN</td>\n",
       "      <td>NaN</td>\n",
       "      <td>NaN</td>\n",
       "      <td>NaN</td>\n",
       "      <td>NaN</td>\n",
       "      <td>NaN</td>\n",
       "      <td>NaN</td>\n",
       "      <td>NaN</td>\n",
       "      <td>NaN</td>\n",
       "      <td>1.0</td>\n",
       "    </tr>\n",
       "    <tr>\n",
       "      <th>stemChange</th>\n",
       "      <td>NaN</td>\n",
       "      <td>NaN</td>\n",
       "      <td>NaN</td>\n",
       "      <td>NaN</td>\n",
       "      <td>NaN</td>\n",
       "      <td>NaN</td>\n",
       "      <td>NaN</td>\n",
       "      <td>NaN</td>\n",
       "      <td>NaN</td>\n",
       "      <td>NaN</td>\n",
       "      <td>NaN</td>\n",
       "      <td>True</td>\n",
       "    </tr>\n",
       "  </tbody>\n",
       "</table>\n",
       "<p>282 rows × 12 columns</p>\n",
       "</div>"
      ],
      "text/plain": [
       "            Unnamed: 0  leaf stem  reward   contingency        date  session  \\\n",
       "0                  0.0   4.0    B     1.0  8.050208e+11  20200213.0      1.0   \n",
       "1                  1.0   3.0    B     1.0  8.050208e+11  20200213.0      1.0   \n",
       "2                  2.0   1.0    A     1.0  8.050208e+11  20200213.0      1.0   \n",
       "3                  3.0   2.0    A     0.0  8.050208e+11  20200213.0      1.0   \n",
       "4                  4.0   1.0    A     1.0  8.050208e+11  20200213.0      1.0   \n",
       "...                ...   ...  ...     ...           ...         ...      ...   \n",
       "277              277.0   4.0    B     0.0  2.050805e+11  20200213.0      1.0   \n",
       "278              278.0   3.0    B     1.0  2.050805e+11  20200213.0      1.0   \n",
       "279              279.0   4.0    B     0.0  2.050805e+11  20200213.0      1.0   \n",
       "Rew_rate           NaN   NaN  NaN     NaN           NaN         NaN      NaN   \n",
       "stemChange         NaN   NaN  NaN     NaN           NaN         NaN      NaN   \n",
       "\n",
       "            trial  rew_rate_A  rew_rate_B  rew_rate_C stemChange  \n",
       "0             0.0         NaN         NaN         NaN        0.0  \n",
       "1             1.0         NaN         NaN         NaN        0.0  \n",
       "2             2.0         NaN         NaN         NaN        1.0  \n",
       "3             3.0         NaN         NaN         NaN        0.0  \n",
       "4             4.0    0.666667         NaN         NaN        0.0  \n",
       "...           ...         ...         ...         ...        ...  \n",
       "277         277.0         NaN    0.333333         NaN        0.0  \n",
       "278         278.0         NaN    0.333333         NaN        0.0  \n",
       "279         279.0         NaN    0.333333         NaN        0.0  \n",
       "Rew_rate      NaN         NaN         NaN         NaN        1.0  \n",
       "stemChange    NaN         NaN         NaN         NaN       True  \n",
       "\n",
       "[282 rows x 12 columns]"
      ]
     },
     "execution_count": 560,
     "metadata": {},
     "output_type": "execute_result"
    }
   ],
   "source": [
    "# I would like to replicate Alisons plots. But instead of looking at it on a daily basis \n",
    " #which i find to be too overwhleming and not helpful in understanding how he finds the best,\n",
    "# id like to see it on a session by session basis. \n",
    "# first, id like to plot just rewarded vs unrewarded trials.. \n",
    "firstday_firstsesh "
   ]
  },
  {
   "cell_type": "code",
   "execution_count": null,
   "metadata": {},
   "outputs": [],
   "source": [
    "#something else id like to look at later is how many non rew trials it takes for him to leave. "
   ]
  }
 ],
 "metadata": {
  "kernelspec": {
   "display_name": "Python 3 (ipykernel)",
   "language": "python",
   "name": "python3"
  },
  "language_info": {
   "codemirror_mode": {
    "name": "ipython",
    "version": 3
   },
   "file_extension": ".py",
   "mimetype": "text/x-python",
   "name": "python",
   "nbconvert_exporter": "python",
   "pygments_lexer": "ipython3",
   "version": "3.9.13"
  }
 },
 "nbformat": 4,
 "nbformat_minor": 4
}
