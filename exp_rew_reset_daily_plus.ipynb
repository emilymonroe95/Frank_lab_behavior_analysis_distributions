{
 "cells": [
  {
   "cell_type": "code",
   "execution_count": 403,
   "id": "9d0269ab-c0d6-4aef-bbac-6cb1ee1e371d",
   "metadata": {},
   "outputs": [
    {
     "name": "stdout",
     "output_type": "stream",
     "text": [
      "The autoreload extension is already loaded. To reload it, use:\n",
      "  %reload_ext autoreload\n"
     ]
    }
   ],
   "source": [
    "#This notebook caluclated experineced rew rate for each stem, which resets at the beginning of each day.\n",
    "#Then calculates how often he is at the experienced best stem. \n",
    "#finally calculates what the probability is at the stem right before he switches. \n",
    "\n",
    "%load_ext autoreload\n",
    "%autoreload 2"
   ]
  },
  {
   "cell_type": "code",
   "execution_count": 170,
   "id": "06547405-6f7d-44f3-a689-dde874e2d4cd",
   "metadata": {},
   "outputs": [
    {
     "data": {
      "text/html": [
       "<div>\n",
       "<style scoped>\n",
       "    .dataframe tbody tr th:only-of-type {\n",
       "        vertical-align: middle;\n",
       "    }\n",
       "\n",
       "    .dataframe tbody tr th {\n",
       "        vertical-align: top;\n",
       "    }\n",
       "\n",
       "    .dataframe thead th {\n",
       "        text-align: right;\n",
       "    }\n",
       "</style>\n",
       "<table border=\"1\" class=\"dataframe\">\n",
       "  <thead>\n",
       "    <tr style=\"text-align: right;\">\n",
       "      <th></th>\n",
       "      <th>Unnamed: 0</th>\n",
       "      <th>leaf</th>\n",
       "      <th>stem</th>\n",
       "      <th>reward</th>\n",
       "      <th>contingency</th>\n",
       "      <th>date</th>\n",
       "      <th>session</th>\n",
       "      <th>trial</th>\n",
       "    </tr>\n",
       "  </thead>\n",
       "  <tbody>\n",
       "    <tr>\n",
       "      <th>0</th>\n",
       "      <td>0</td>\n",
       "      <td>4</td>\n",
       "      <td>B</td>\n",
       "      <td>1</td>\n",
       "      <td>805020202050</td>\n",
       "      <td>20201028</td>\n",
       "      <td>1</td>\n",
       "      <td>0</td>\n",
       "    </tr>\n",
       "    <tr>\n",
       "      <th>1</th>\n",
       "      <td>1</td>\n",
       "      <td>1</td>\n",
       "      <td>A</td>\n",
       "      <td>0</td>\n",
       "      <td>805020202050</td>\n",
       "      <td>20201028</td>\n",
       "      <td>1</td>\n",
       "      <td>1</td>\n",
       "    </tr>\n",
       "    <tr>\n",
       "      <th>2</th>\n",
       "      <td>2</td>\n",
       "      <td>2</td>\n",
       "      <td>A</td>\n",
       "      <td>0</td>\n",
       "      <td>805020202050</td>\n",
       "      <td>20201028</td>\n",
       "      <td>1</td>\n",
       "      <td>2</td>\n",
       "    </tr>\n",
       "    <tr>\n",
       "      <th>3</th>\n",
       "      <td>3</td>\n",
       "      <td>3</td>\n",
       "      <td>B</td>\n",
       "      <td>1</td>\n",
       "      <td>805020202050</td>\n",
       "      <td>20201028</td>\n",
       "      <td>1</td>\n",
       "      <td>3</td>\n",
       "    </tr>\n",
       "    <tr>\n",
       "      <th>4</th>\n",
       "      <td>4</td>\n",
       "      <td>4</td>\n",
       "      <td>B</td>\n",
       "      <td>0</td>\n",
       "      <td>805020202050</td>\n",
       "      <td>20201028</td>\n",
       "      <td>1</td>\n",
       "      <td>4</td>\n",
       "    </tr>\n",
       "    <tr>\n",
       "      <th>...</th>\n",
       "      <td>...</td>\n",
       "      <td>...</td>\n",
       "      <td>...</td>\n",
       "      <td>...</td>\n",
       "      <td>...</td>\n",
       "      <td>...</td>\n",
       "      <td>...</td>\n",
       "      <td>...</td>\n",
       "    </tr>\n",
       "    <tr>\n",
       "      <th>13288</th>\n",
       "      <td>13288</td>\n",
       "      <td>2</td>\n",
       "      <td>A</td>\n",
       "      <td>1</td>\n",
       "      <td>508020208020</td>\n",
       "      <td>20201107</td>\n",
       "      <td>6</td>\n",
       "      <td>175</td>\n",
       "    </tr>\n",
       "    <tr>\n",
       "      <th>13289</th>\n",
       "      <td>13289</td>\n",
       "      <td>1</td>\n",
       "      <td>A</td>\n",
       "      <td>0</td>\n",
       "      <td>508020208020</td>\n",
       "      <td>20201107</td>\n",
       "      <td>6</td>\n",
       "      <td>176</td>\n",
       "    </tr>\n",
       "    <tr>\n",
       "      <th>13290</th>\n",
       "      <td>13290</td>\n",
       "      <td>2</td>\n",
       "      <td>A</td>\n",
       "      <td>0</td>\n",
       "      <td>508020208020</td>\n",
       "      <td>20201107</td>\n",
       "      <td>6</td>\n",
       "      <td>177</td>\n",
       "    </tr>\n",
       "    <tr>\n",
       "      <th>13291</th>\n",
       "      <td>13291</td>\n",
       "      <td>1</td>\n",
       "      <td>A</td>\n",
       "      <td>1</td>\n",
       "      <td>508020208020</td>\n",
       "      <td>20201107</td>\n",
       "      <td>6</td>\n",
       "      <td>178</td>\n",
       "    </tr>\n",
       "    <tr>\n",
       "      <th>13292</th>\n",
       "      <td>13292</td>\n",
       "      <td>2</td>\n",
       "      <td>A</td>\n",
       "      <td>1</td>\n",
       "      <td>508020208020</td>\n",
       "      <td>20201107</td>\n",
       "      <td>6</td>\n",
       "      <td>179</td>\n",
       "    </tr>\n",
       "  </tbody>\n",
       "</table>\n",
       "<p>13293 rows × 8 columns</p>\n",
       "</div>"
      ],
      "text/plain": [
       "       Unnamed: 0  leaf stem  reward   contingency      date  session  trial\n",
       "0               0     4    B       1  805020202050  20201028        1      0\n",
       "1               1     1    A       0  805020202050  20201028        1      1\n",
       "2               2     2    A       0  805020202050  20201028        1      2\n",
       "3               3     3    B       1  805020202050  20201028        1      3\n",
       "4               4     4    B       0  805020202050  20201028        1      4\n",
       "...           ...   ...  ...     ...           ...       ...      ...    ...\n",
       "13288       13288     2    A       1  508020208020  20201107        6    175\n",
       "13289       13289     1    A       0  508020208020  20201107        6    176\n",
       "13290       13290     2    A       0  508020208020  20201107        6    177\n",
       "13291       13291     1    A       1  508020208020  20201107        6    178\n",
       "13292       13292     2    A       1  508020208020  20201107        6    179\n",
       "\n",
       "[13293 rows x 8 columns]"
      ]
     },
     "execution_count": 170,
     "metadata": {},
     "output_type": "execute_result"
    }
   ],
   "source": [
    "import pandas as pd\n",
    "import numpy as np\n",
    "from matplotlib import pyplot as plt\n",
    "from matplotlib.pyplot import figure\n",
    "import statistics\n",
    "df = pd.read_csv (r'/home/emonroe/Downloads/20210531_toEM/behavior_csv/senor_clean_contingencies_only_parsed_data.csv')\n",
    "df #df is the dataframe containing the entire csv"
   ]
  },
  {
   "cell_type": "code",
   "execution_count": 328,
   "id": "dd1b6884-cfab-4cb9-8013-938eaae79b1b",
   "metadata": {},
   "outputs": [
    {
     "data": {
      "text/html": [
       "<div>\n",
       "<style scoped>\n",
       "    .dataframe tbody tr th:only-of-type {\n",
       "        vertical-align: middle;\n",
       "    }\n",
       "\n",
       "    .dataframe tbody tr th {\n",
       "        vertical-align: top;\n",
       "    }\n",
       "\n",
       "    .dataframe thead th {\n",
       "        text-align: right;\n",
       "    }\n",
       "</style>\n",
       "<table border=\"1\" class=\"dataframe\">\n",
       "  <thead>\n",
       "    <tr style=\"text-align: right;\">\n",
       "      <th></th>\n",
       "      <th>Unnamed: 0</th>\n",
       "      <th>leaf</th>\n",
       "      <th>stem</th>\n",
       "      <th>reward</th>\n",
       "      <th>contingency</th>\n",
       "      <th>date</th>\n",
       "      <th>session</th>\n",
       "      <th>trial</th>\n",
       "      <th>day</th>\n",
       "      <th>cont_num</th>\n",
       "      <th>...</th>\n",
       "      <th>rew_rate</th>\n",
       "      <th>rolling_avg_A</th>\n",
       "      <th>rolling_avg_B</th>\n",
       "      <th>rolling_avg_C</th>\n",
       "      <th>best_stem</th>\n",
       "      <th>at_best</th>\n",
       "      <th>best_stem2</th>\n",
       "      <th>at_best2</th>\n",
       "      <th>best_all</th>\n",
       "      <th>session_chng</th>\n",
       "    </tr>\n",
       "  </thead>\n",
       "  <tbody>\n",
       "    <tr>\n",
       "      <th>0</th>\n",
       "      <td>0</td>\n",
       "      <td>4</td>\n",
       "      <td>B</td>\n",
       "      <td>1</td>\n",
       "      <td>805020202050</td>\n",
       "      <td>20201028</td>\n",
       "      <td>1</td>\n",
       "      <td>0</td>\n",
       "      <td>1</td>\n",
       "      <td>1</td>\n",
       "      <td>...</td>\n",
       "      <td>1.000000</td>\n",
       "      <td>0.0</td>\n",
       "      <td>1.000000</td>\n",
       "      <td>0.0</td>\n",
       "      <td>NaN</td>\n",
       "      <td>0</td>\n",
       "      <td>B</td>\n",
       "      <td>1</td>\n",
       "      <td>01</td>\n",
       "      <td>True</td>\n",
       "    </tr>\n",
       "    <tr>\n",
       "      <th>1</th>\n",
       "      <td>1</td>\n",
       "      <td>1</td>\n",
       "      <td>A</td>\n",
       "      <td>0</td>\n",
       "      <td>805020202050</td>\n",
       "      <td>20201028</td>\n",
       "      <td>1</td>\n",
       "      <td>1</td>\n",
       "      <td>1</td>\n",
       "      <td>1</td>\n",
       "      <td>...</td>\n",
       "      <td>0.000000</td>\n",
       "      <td>0.0</td>\n",
       "      <td>1.000000</td>\n",
       "      <td>0.0</td>\n",
       "      <td>NaN</td>\n",
       "      <td>0</td>\n",
       "      <td>B</td>\n",
       "      <td>0</td>\n",
       "      <td>00</td>\n",
       "      <td>False</td>\n",
       "    </tr>\n",
       "    <tr>\n",
       "      <th>2</th>\n",
       "      <td>2</td>\n",
       "      <td>2</td>\n",
       "      <td>A</td>\n",
       "      <td>0</td>\n",
       "      <td>805020202050</td>\n",
       "      <td>20201028</td>\n",
       "      <td>1</td>\n",
       "      <td>2</td>\n",
       "      <td>1</td>\n",
       "      <td>1</td>\n",
       "      <td>...</td>\n",
       "      <td>0.000000</td>\n",
       "      <td>0.0</td>\n",
       "      <td>1.000000</td>\n",
       "      <td>0.0</td>\n",
       "      <td>NaN</td>\n",
       "      <td>0</td>\n",
       "      <td>B</td>\n",
       "      <td>0</td>\n",
       "      <td>00</td>\n",
       "      <td>False</td>\n",
       "    </tr>\n",
       "    <tr>\n",
       "      <th>3</th>\n",
       "      <td>3</td>\n",
       "      <td>3</td>\n",
       "      <td>B</td>\n",
       "      <td>1</td>\n",
       "      <td>805020202050</td>\n",
       "      <td>20201028</td>\n",
       "      <td>1</td>\n",
       "      <td>3</td>\n",
       "      <td>1</td>\n",
       "      <td>1</td>\n",
       "      <td>...</td>\n",
       "      <td>1.000000</td>\n",
       "      <td>0.0</td>\n",
       "      <td>1.000000</td>\n",
       "      <td>0.0</td>\n",
       "      <td>NaN</td>\n",
       "      <td>0</td>\n",
       "      <td>B</td>\n",
       "      <td>1</td>\n",
       "      <td>01</td>\n",
       "      <td>False</td>\n",
       "    </tr>\n",
       "    <tr>\n",
       "      <th>4</th>\n",
       "      <td>4</td>\n",
       "      <td>4</td>\n",
       "      <td>B</td>\n",
       "      <td>0</td>\n",
       "      <td>805020202050</td>\n",
       "      <td>20201028</td>\n",
       "      <td>1</td>\n",
       "      <td>4</td>\n",
       "      <td>1</td>\n",
       "      <td>1</td>\n",
       "      <td>...</td>\n",
       "      <td>0.666667</td>\n",
       "      <td>0.0</td>\n",
       "      <td>0.666667</td>\n",
       "      <td>0.0</td>\n",
       "      <td>NaN</td>\n",
       "      <td>0</td>\n",
       "      <td>B</td>\n",
       "      <td>1</td>\n",
       "      <td>01</td>\n",
       "      <td>False</td>\n",
       "    </tr>\n",
       "    <tr>\n",
       "      <th>...</th>\n",
       "      <td>...</td>\n",
       "      <td>...</td>\n",
       "      <td>...</td>\n",
       "      <td>...</td>\n",
       "      <td>...</td>\n",
       "      <td>...</td>\n",
       "      <td>...</td>\n",
       "      <td>...</td>\n",
       "      <td>...</td>\n",
       "      <td>...</td>\n",
       "      <td>...</td>\n",
       "      <td>...</td>\n",
       "      <td>...</td>\n",
       "      <td>...</td>\n",
       "      <td>...</td>\n",
       "      <td>...</td>\n",
       "      <td>...</td>\n",
       "      <td>...</td>\n",
       "      <td>...</td>\n",
       "      <td>...</td>\n",
       "      <td>...</td>\n",
       "    </tr>\n",
       "    <tr>\n",
       "      <th>13288</th>\n",
       "      <td>13288</td>\n",
       "      <td>2</td>\n",
       "      <td>A</td>\n",
       "      <td>1</td>\n",
       "      <td>508020208020</td>\n",
       "      <td>20201107</td>\n",
       "      <td>6</td>\n",
       "      <td>175</td>\n",
       "      <td>11</td>\n",
       "      <td>3</td>\n",
       "      <td>...</td>\n",
       "      <td>0.700000</td>\n",
       "      <td>0.7</td>\n",
       "      <td>0.200000</td>\n",
       "      <td>0.3</td>\n",
       "      <td>A</td>\n",
       "      <td>1</td>\n",
       "      <td>NaN</td>\n",
       "      <td>0</td>\n",
       "      <td>10</td>\n",
       "      <td>False</td>\n",
       "    </tr>\n",
       "    <tr>\n",
       "      <th>13289</th>\n",
       "      <td>13289</td>\n",
       "      <td>1</td>\n",
       "      <td>A</td>\n",
       "      <td>0</td>\n",
       "      <td>508020208020</td>\n",
       "      <td>20201107</td>\n",
       "      <td>6</td>\n",
       "      <td>176</td>\n",
       "      <td>11</td>\n",
       "      <td>3</td>\n",
       "      <td>...</td>\n",
       "      <td>0.600000</td>\n",
       "      <td>0.6</td>\n",
       "      <td>0.200000</td>\n",
       "      <td>0.3</td>\n",
       "      <td>A</td>\n",
       "      <td>1</td>\n",
       "      <td>NaN</td>\n",
       "      <td>0</td>\n",
       "      <td>10</td>\n",
       "      <td>False</td>\n",
       "    </tr>\n",
       "    <tr>\n",
       "      <th>13290</th>\n",
       "      <td>13290</td>\n",
       "      <td>2</td>\n",
       "      <td>A</td>\n",
       "      <td>0</td>\n",
       "      <td>508020208020</td>\n",
       "      <td>20201107</td>\n",
       "      <td>6</td>\n",
       "      <td>177</td>\n",
       "      <td>11</td>\n",
       "      <td>3</td>\n",
       "      <td>...</td>\n",
       "      <td>0.500000</td>\n",
       "      <td>0.5</td>\n",
       "      <td>0.200000</td>\n",
       "      <td>0.3</td>\n",
       "      <td>A</td>\n",
       "      <td>1</td>\n",
       "      <td>NaN</td>\n",
       "      <td>0</td>\n",
       "      <td>10</td>\n",
       "      <td>False</td>\n",
       "    </tr>\n",
       "    <tr>\n",
       "      <th>13291</th>\n",
       "      <td>13291</td>\n",
       "      <td>1</td>\n",
       "      <td>A</td>\n",
       "      <td>1</td>\n",
       "      <td>508020208020</td>\n",
       "      <td>20201107</td>\n",
       "      <td>6</td>\n",
       "      <td>178</td>\n",
       "      <td>11</td>\n",
       "      <td>3</td>\n",
       "      <td>...</td>\n",
       "      <td>0.600000</td>\n",
       "      <td>0.6</td>\n",
       "      <td>0.200000</td>\n",
       "      <td>0.3</td>\n",
       "      <td>A</td>\n",
       "      <td>1</td>\n",
       "      <td>NaN</td>\n",
       "      <td>0</td>\n",
       "      <td>10</td>\n",
       "      <td>False</td>\n",
       "    </tr>\n",
       "    <tr>\n",
       "      <th>13292</th>\n",
       "      <td>13292</td>\n",
       "      <td>2</td>\n",
       "      <td>A</td>\n",
       "      <td>1</td>\n",
       "      <td>508020208020</td>\n",
       "      <td>20201107</td>\n",
       "      <td>6</td>\n",
       "      <td>179</td>\n",
       "      <td>11</td>\n",
       "      <td>3</td>\n",
       "      <td>...</td>\n",
       "      <td>0.600000</td>\n",
       "      <td>0.6</td>\n",
       "      <td>0.200000</td>\n",
       "      <td>0.3</td>\n",
       "      <td>A</td>\n",
       "      <td>1</td>\n",
       "      <td>NaN</td>\n",
       "      <td>0</td>\n",
       "      <td>10</td>\n",
       "      <td>False</td>\n",
       "    </tr>\n",
       "  </tbody>\n",
       "</table>\n",
       "<p>13293 rows × 24 columns</p>\n",
       "</div>"
      ],
      "text/plain": [
       "       Unnamed: 0  leaf stem  reward   contingency      date  session  trial  \\\n",
       "0               0     4    B       1  805020202050  20201028        1      0   \n",
       "1               1     1    A       0  805020202050  20201028        1      1   \n",
       "2               2     2    A       0  805020202050  20201028        1      2   \n",
       "3               3     3    B       1  805020202050  20201028        1      3   \n",
       "4               4     4    B       0  805020202050  20201028        1      4   \n",
       "...           ...   ...  ...     ...           ...       ...      ...    ...   \n",
       "13288       13288     2    A       1  508020208020  20201107        6    175   \n",
       "13289       13289     1    A       0  508020208020  20201107        6    176   \n",
       "13290       13290     2    A       0  508020208020  20201107        6    177   \n",
       "13291       13291     1    A       1  508020208020  20201107        6    178   \n",
       "13292       13292     2    A       1  508020208020  20201107        6    179   \n",
       "\n",
       "       day  cont_num  ...  rew_rate  rolling_avg_A  rolling_avg_B  \\\n",
       "0        1         1  ...  1.000000            0.0       1.000000   \n",
       "1        1         1  ...  0.000000            0.0       1.000000   \n",
       "2        1         1  ...  0.000000            0.0       1.000000   \n",
       "3        1         1  ...  1.000000            0.0       1.000000   \n",
       "4        1         1  ...  0.666667            0.0       0.666667   \n",
       "...    ...       ...  ...       ...            ...            ...   \n",
       "13288   11         3  ...  0.700000            0.7       0.200000   \n",
       "13289   11         3  ...  0.600000            0.6       0.200000   \n",
       "13290   11         3  ...  0.500000            0.5       0.200000   \n",
       "13291   11         3  ...  0.600000            0.6       0.200000   \n",
       "13292   11         3  ...  0.600000            0.6       0.200000   \n",
       "\n",
       "       rolling_avg_C  best_stem  at_best  best_stem2  at_best2 best_all  \\\n",
       "0                0.0        NaN        0           B         1       01   \n",
       "1                0.0        NaN        0           B         0       00   \n",
       "2                0.0        NaN        0           B         0       00   \n",
       "3                0.0        NaN        0           B         1       01   \n",
       "4                0.0        NaN        0           B         1       01   \n",
       "...              ...        ...      ...         ...       ...      ...   \n",
       "13288            0.3          A        1         NaN         0       10   \n",
       "13289            0.3          A        1         NaN         0       10   \n",
       "13290            0.3          A        1         NaN         0       10   \n",
       "13291            0.3          A        1         NaN         0       10   \n",
       "13292            0.3          A        1         NaN         0       10   \n",
       "\n",
       "      session_chng  \n",
       "0             True  \n",
       "1            False  \n",
       "2            False  \n",
       "3            False  \n",
       "4            False  \n",
       "...            ...  \n",
       "13288        False  \n",
       "13289        False  \n",
       "13290        False  \n",
       "13291        False  \n",
       "13292        False  \n",
       "\n",
       "[13293 rows x 24 columns]"
      ]
     },
     "execution_count": 328,
     "metadata": {},
     "output_type": "execute_result"
    }
   ],
   "source": [
    "df['day']= df['date'].ne(df['date'].shift()).cumsum()\n",
    "df['diff_cont'] = df['contingency'].ne(df['contingency'].shift())\n",
    "df['cont_num'] = df.groupby(['day','session'])['diff_cont'].cumsum()\n",
    "del df['diff_cont']\n",
    "df['new_cont'] = df['cont_num'].ne(df['cont_num'].shift())\n",
    "df['day_chng'] = df['day'].ne(df['day'].shift())\n",
    "df['stem_switch'] = df['stem'].ne(df['stem'].shift())\n",
    "df['session_chng'] =  df['session'].ne(df['session'].shift())\n",
    "# df[\"stemChange\"] = (df[\"stem\"].shift(1, fill_value=df[\"stem\"].head(1)) != df[\"stem\"]).astype(int) #better way to calc?\n",
    "for ix in range(len(df)):\n",
    "    cont= str(df.loc[ix, 'contingency'])\n",
    "    cont = [cont[i:i+2] for i in range(0, len(cont), 2)]\n",
    "    cont = [int(i) for i in cont]\n",
    "    df.loc[ix, 'glob_nom_avg'] = statistics.mean(cont)\n",
    "df"
   ]
  },
  {
   "cell_type": "code",
   "execution_count": 172,
   "id": "bd765111-4b40-4b3b-bceb-cd7b0efc36ae",
   "metadata": {},
   "outputs": [],
   "source": [
    "# #this calcs moving avg on daily basis\n",
    "# for day_ix in range(1,max(df['day']+1)):\n",
    "#     split_days = df[df['day'] == day_ix]\n",
    "#     split_days\n",
    "#     visits_A = split_days[(split_days['stem']=='A')]\n",
    "#     visits_B = split_days[(split_days['stem']=='B')]\n",
    "#     visits_C = split_days[(split_days['stem']=='C')]\n",
    "#     ix = visits_A.index\n",
    "#     ix1= visits_B.index\n",
    "#     ix2 = visits_C.index\n",
    "#     df.loc[ix,'rolling_avg_A'] = visits_A['reward'].ewm(span= 10).mean()\n",
    "#     df.loc[ix1,'rolling_avg_B'] = visits_B['reward'].ewm(span= 10).mean()\n",
    "#     df.loc[ix2,'rolling_avg_C'] = visits_C['reward'].ewm(span= 10).mean()\n"
   ]
  },
  {
   "cell_type": "code",
   "execution_count": 173,
   "id": "ea5e478c-6ff6-4da3-8622-665cf638a5df",
   "metadata": {},
   "outputs": [],
   "source": [
    "# cols = ['rolling_avg_A', 'rolling_avg_B', 'rolling_avg_C']\n",
    "# df.loc[:,cols] = df.loc[:,cols].ffill()\n",
    "# df.loc[:,cols] = df.loc[:,cols].fillna(.5)\n"
   ]
  },
  {
   "cell_type": "code",
   "execution_count": 174,
   "id": "021e89c3-5123-4369-965c-144163f0fcd3",
   "metadata": {},
   "outputs": [],
   "source": [
    "# plt.plot(df.loc[715:725,'rolling_avg_A'])"
   ]
  },
  {
   "cell_type": "code",
   "execution_count": 175,
   "id": "a0196542-d135-456f-9d27-58d2f09385dc",
   "metadata": {},
   "outputs": [],
   "source": [
    "#this should add new col to df. \n",
    "#col has rolling avg for each stem, resetting on each day. \n",
    "#would love to do exponentially weighted but have to learn about applying functions in groupby. \n",
    "obj = ['day', 'stem']\n",
    "df['rew_rate'] = df.groupby(obj)[['reward']].transform(lambda x: x.rolling(10, 1).mean())"
   ]
  },
  {
   "cell_type": "code",
   "execution_count": null,
   "id": "13969233-332b-4523-83d9-dee129231b6a",
   "metadata": {},
   "outputs": [],
   "source": []
  },
  {
   "cell_type": "code",
   "execution_count": 176,
   "id": "46d959c2-b683-4224-bffa-d107f6fec0ac",
   "metadata": {},
   "outputs": [],
   "source": [
    "#This cell takes the one col of rew rate, and splits it into three rolling avgs for each stem\n",
    "#they reset at the beginning of each day. \n",
    "\n",
    "df['rolling_avg_A'] =df[df['stem']=='A']['rew_rate']\n",
    "df['rolling_avg_B'] =df[df['stem']=='B']['rew_rate']\n",
    "df['rolling_avg_C'] =df[df['stem']=='C']['rew_rate']\n",
    "\n",
    "\n",
    "cols = ['rolling_avg_A', 'rolling_avg_B', 'rolling_avg_C']\n",
    "df.loc[(df['session'] ==1) & (df['trial']==0),'rolling_avg_A'] = 0\n",
    "df.loc[(df['session'] ==1) & (df['trial']==0),'rolling_avg_C'] = 0\n",
    "\n",
    "df.loc[:,cols] = df.loc[:,cols].ffill()\n",
    "\n",
    "\n"
   ]
  },
  {
   "cell_type": "code",
   "execution_count": 267,
   "id": "ad58ee94-4297-4908-8b84-7c4c4813b41e",
   "metadata": {},
   "outputs": [],
   "source": [
    "equal = (df['rolling_avg_A'] == df['rolling_avg_B']) | (df['rolling_avg_B'] == df['rolling_avg_C']) | (df['rolling_avg_A'] == df['rolling_avg_C'])\n",
    "df['best_stem'] = df.loc[~equal, ['rolling_avg_A', 'rolling_avg_B', 'rolling_avg_C']].idxmax(axis=1)"
   ]
  },
  {
   "cell_type": "code",
   "execution_count": 282,
   "id": "1a582afe-e818-4eaa-b3e3-73e7b004cb48",
   "metadata": {},
   "outputs": [],
   "source": [
    "#if df.loc[equal,['rolling_avg_A', 'rolling_avg_B', 'rolling_avg_C']]:\n",
    "    \n",
    "df['best_stem2'] = df.loc[equal, ['rolling_avg_A', 'rolling_avg_B', 'rolling_avg_C']].idxmax(axis=1)\n",
    "df\n",
    "replace_index = df.loc[(df['best_stem2'] =='rolling_avg_A')].index\n",
    "df.loc[replace_index,'best_stem2'] = 'A'\n",
    "replace_index = df.loc[(df['best_stem2'] =='rolling_avg_B')].index\n",
    "df.loc[replace_index,'best_stem2'] = 'B'\n",
    "replace_index = df.loc[(df['best_stem2'] =='rolling_avg_C')].index\n",
    "df.loc[replace_index,'best_stem2'] = 'C'"
   ]
  },
  {
   "cell_type": "code",
   "execution_count": 283,
   "id": "b552f5d6-f900-4180-be35-627c0f80432c",
   "metadata": {},
   "outputs": [],
   "source": [
    "#replace best stem of col name with b\n",
    "replace_index = df.loc[(df['best_stem'] =='rolling_avg_A')].index\n",
    "df.loc[replace_index,'best_stem'] = 'A'\n",
    "replace_index = df.loc[(df['best_stem'] =='rolling_avg_B')].index\n",
    "df.loc[replace_index,'best_stem'] = 'B'\n",
    "replace_index = df.loc[(df['best_stem'] =='rolling_avg_C')].index\n",
    "df.loc[replace_index,'best_stem'] = 'C'\n"
   ]
  },
  {
   "cell_type": "code",
   "execution_count": 284,
   "id": "afd9ddac-9234-49b6-8b2d-cfc322108f2d",
   "metadata": {},
   "outputs": [],
   "source": [
    "df['at_best'] = np.where( df['stem'] == df['best_stem'] , '1', '0')\n",
    "df['at_best2'] = np.where( df['stem'] == df['best_stem2'] , '1', '0')"
   ]
  },
  {
   "cell_type": "code",
   "execution_count": 294,
   "id": "0ea096bf-3900-47d8-818d-a5f52d7927e5",
   "metadata": {},
   "outputs": [
    {
     "name": "stdout",
     "output_type": "stream",
     "text": [
      "5314 2908 5071\n"
     ]
    }
   ],
   "source": [
    "df['best_all'] = df['at_best'] +df['at_best2']\n",
    "Not_at_Best = df[df['best_all']=='00']\n",
    "at_best = df[df['best_all']=='01'] \n",
    "at_best2 = df[df['best_all']=='10']\n",
    "print(len(Not_at_Best), len(at_best), len(at_best2))"
   ]
  },
  {
   "cell_type": "code",
   "execution_count": 258,
   "id": "44f080a1-3e78-4f11-85e4-3960263fd9a6",
   "metadata": {},
   "outputs": [],
   "source": [
    "first = df.loc[(df['session'] ==1) & (df['day']==1) & df['cont_num']==1]"
   ]
  },
  {
   "cell_type": "code",
   "execution_count": 236,
   "id": "ed173936-be6f-48d3-b0c9-0ec56b7bf8ae",
   "metadata": {},
   "outputs": [
    {
     "data": {
      "text/plain": [
       "<matplotlib.collections.LineCollection at 0x7f4aa12c8b80>"
      ]
     },
     "execution_count": 236,
     "metadata": {},
     "output_type": "execute_result"
    },
    {
     "data": {
      "image/png": "[encoded data removed]",
      "text/plain": [
       "<Figure size 432x288 with 1 Axes>"
      ]
     },
     "metadata": {
      "needs_background": "light"
     },
     "output_type": "display_data"
    }
   ],
   "source": [
    "plt.plot(first['at_best'])\n",
    "plt.vlines((60,120),0,1,colors='red')"
   ]
  },
  {
   "cell_type": "code",
   "execution_count": 239,
   "id": "fb43333e-1cce-4dd6-835c-745c80aeefc8",
   "metadata": {},
   "outputs": [
    {
     "data": {
      "text/plain": [
       "[<matplotlib.lines.Line2D at 0x7f4aa0cc5a00>]"
      ]
     },
     "execution_count": 239,
     "metadata": {},
     "output_type": "execute_result"
    },
    {
     "data": {
      "image/png": "[encoded data removed]",
      "text/plain": [
       "<Figure size 432x288 with 1 Axes>"
      ]
     },
     "metadata": {
      "needs_background": "light"
     },
     "output_type": "display_data"
    }
   ],
   "source": [
    "first_last = df.loc[(df['session'] ==1) & (df['day']==11) & df['cont_num']==1]\n",
    "plt.plot(first_last['at_best'])\n",
    "#plt.vlines((60,120),0,1,colors='red')"
   ]
  },
  {
   "cell_type": "code",
   "execution_count": 244,
   "id": "b9c5bb65-b7e4-4df9-9c1a-e78b3b143773",
   "metadata": {},
   "outputs": [
    {
     "data": {
      "text/plain": [
       "(array([8222.,    0.,    0.,    0.,    0.,    0.,    0.,    0.,    0.,\n",
       "        5071.]),\n",
       " array([0. , 0.1, 0.2, 0.3, 0.4, 0.5, 0.6, 0.7, 0.8, 0.9, 1. ]),\n",
       " <BarContainer object of 10 artists>)"
      ]
     },
     "execution_count": 244,
     "metadata": {},
     "output_type": "execute_result"
    },
    {
     "data": {
      "image/png": "[encoded data removed]",
      "text/plain": [
       "<Figure size 432x288 with 1 Axes>"
      ]
     },
     "metadata": {
      "needs_background": "light"
     },
     "output_type": "display_data"
    }
   ],
   "source": [
    "plt.hist(df['at_best'])"
   ]
  },
  {
   "cell_type": "code",
   "execution_count": 247,
   "id": "9ecccf2f-e340-4cdd-ac70-a461ca76bb21",
   "metadata": {},
   "outputs": [],
   "source": [
    "q1= df.loc[1:len(df)/4,'at_best']\n",
    "q2= df.loc[len(df)/4:2*(len(df)/4),'at_best']\n",
    "q3 = df.loc[2*len(df)/4:3*(len(df)/4),'at_best']\n",
    "q4 = df.loc[len(df)/4:2*(len(df)/4),'at_best']"
   ]
  },
  {
   "cell_type": "code",
   "execution_count": 298,
   "id": "7e16fd1a-e60d-492e-bb06-62c80932e780",
   "metadata": {},
   "outputs": [
    {
     "data": {
      "text/plain": [
       "(array([2290.,    0.,    0.,    0.,    0.,    0.,    0.,    0.,    0.,\n",
       "        1033.]),\n",
       " array([0. , 0.1, 0.2, 0.3, 0.4, 0.5, 0.6, 0.7, 0.8, 0.9, 1. ]),\n",
       " <BarContainer object of 10 artists>)"
      ]
     },
     "execution_count": 298,
     "metadata": {},
     "output_type": "execute_result"
    },
    {
     "data": {
      "image/png": "[encoded data removed]",
      "text/plain": [
       "<Figure size 432x288 with 4 Axes>"
      ]
     },
     "metadata": {
      "needs_background": "light"
     },
     "output_type": "display_data"
    }
   ],
   "source": [
    "\n",
    "fig, axs = plt.subplots(4)\n",
    "fig.suptitle('num trials at best stem per quarter of experiment' )\n",
    "axs[0].hist(q1)\n",
    "axs[1].hist(q2)# plt.hist(q2)\n",
    "axs[2].hist(q3)\n",
    "axs[3].hist(q4)\n",
    "# plt.hist(q3)\n",
    "# plt.hist(q4)"
   ]
  },
  {
   "cell_type": "code",
   "execution_count": 251,
   "id": "e648efad-aea9-4925-9f01-c973e8c4d792",
   "metadata": {},
   "outputs": [
    {
     "data": {
      "text/plain": [
       "(array([2290.,    0.,    0.,    0.,    0.,    0.,    0.,    0.,    0.,\n",
       "        1033.]),\n",
       " array([0. , 0.1, 0.2, 0.3, 0.4, 0.5, 0.6, 0.7, 0.8, 0.9, 1. ]),\n",
       " <BarContainer object of 10 artists>)"
      ]
     },
     "execution_count": 251,
     "metadata": {},
     "output_type": "execute_result"
    },
    {
     "data": {
      "image/png": "[encoded data removed]",
      "text/plain": [
       "<Figure size 432x288 with 1 Axes>"
      ]
     },
     "metadata": {
      "needs_background": "light"
     },
     "output_type": "display_data"
    }
   ],
   "source": [
    " plt.hist(q2)\n",
    "\n"
   ]
  },
  {
   "cell_type": "code",
   "execution_count": 252,
   "id": "ecb9dc15-7601-4d39-b0ba-572acb39833c",
   "metadata": {},
   "outputs": [
    {
     "data": {
      "text/plain": [
       "(array([2109.,    0.,    0.,    0.,    0.,    0.,    0.,    0.,    0.,\n",
       "        1214.]),\n",
       " array([0. , 0.1, 0.2, 0.3, 0.4, 0.5, 0.6, 0.7, 0.8, 0.9, 1. ]),\n",
       " <BarContainer object of 10 artists>)"
      ]
     },
     "execution_count": 252,
     "metadata": {},
     "output_type": "execute_result"
    },
    {
     "data": {
      "image/png": "[encoded data removed]",
      "text/plain": [
       "<Figure size 432x288 with 1 Axes>"
      ]
     },
     "metadata": {
      "needs_background": "light"
     },
     "output_type": "display_data"
    }
   ],
   "source": [
    "plt.hist(q3)\n",
    "\n"
   ]
  },
  {
   "cell_type": "code",
   "execution_count": 300,
   "id": "fbcfb782-a670-40c3-80b8-c15780750179",
   "metadata": {},
   "outputs": [
    {
     "data": {
      "text/plain": [
       "(array([2290.,    0.,    0.,    0.,    0.,    0.,    0.,    0.,    0.,\n",
       "        1033.]),\n",
       " array([0. , 0.1, 0.2, 0.3, 0.4, 0.5, 0.6, 0.7, 0.8, 0.9, 1. ]),\n",
       " <BarContainer object of 10 artists>)"
      ]
     },
     "execution_count": 300,
     "metadata": {},
     "output_type": "execute_result"
    },
    {
     "data": {
      "image/png": "[encoded data removed]",
      "text/plain": [
       "<Figure size 432x288 with 1 Axes>"
      ]
     },
     "metadata": {
      "needs_background": "light"
     },
     "output_type": "display_data"
    }
   ],
   "source": [
    "plt.hist(q4)\n",
    "\n"
   ]
  },
  {
   "cell_type": "code",
   "execution_count": 301,
   "id": "7f8b0cc9-63ba-40ed-86a3-fb8debd2c95b",
   "metadata": {},
   "outputs": [
    {
     "data": {
      "text/html": [
       "<div>\n",
       "<style scoped>\n",
       "    .dataframe tbody tr th:only-of-type {\n",
       "        vertical-align: middle;\n",
       "    }\n",
       "\n",
       "    .dataframe tbody tr th {\n",
       "        vertical-align: top;\n",
       "    }\n",
       "\n",
       "    .dataframe thead th {\n",
       "        text-align: right;\n",
       "    }\n",
       "</style>\n",
       "<table border=\"1\" class=\"dataframe\">\n",
       "  <thead>\n",
       "    <tr style=\"text-align: right;\">\n",
       "      <th></th>\n",
       "      <th>Unnamed: 0</th>\n",
       "      <th>leaf</th>\n",
       "      <th>stem</th>\n",
       "      <th>reward</th>\n",
       "      <th>contingency</th>\n",
       "      <th>date</th>\n",
       "      <th>session</th>\n",
       "      <th>trial</th>\n",
       "      <th>day</th>\n",
       "      <th>cont_num</th>\n",
       "      <th>...</th>\n",
       "      <th>glob_nom_avg</th>\n",
       "      <th>rew_rate</th>\n",
       "      <th>rolling_avg_A</th>\n",
       "      <th>rolling_avg_B</th>\n",
       "      <th>rolling_avg_C</th>\n",
       "      <th>best_stem</th>\n",
       "      <th>at_best</th>\n",
       "      <th>best_stem2</th>\n",
       "      <th>at_best2</th>\n",
       "      <th>best_all</th>\n",
       "    </tr>\n",
       "  </thead>\n",
       "  <tbody>\n",
       "    <tr>\n",
       "      <th>0</th>\n",
       "      <td>0</td>\n",
       "      <td>4</td>\n",
       "      <td>B</td>\n",
       "      <td>1</td>\n",
       "      <td>805020202050</td>\n",
       "      <td>20201028</td>\n",
       "      <td>1</td>\n",
       "      <td>0</td>\n",
       "      <td>1</td>\n",
       "      <td>1</td>\n",
       "      <td>...</td>\n",
       "      <td>40.0</td>\n",
       "      <td>1.000000</td>\n",
       "      <td>0.0</td>\n",
       "      <td>1.000000</td>\n",
       "      <td>0.0</td>\n",
       "      <td>NaN</td>\n",
       "      <td>0</td>\n",
       "      <td>B</td>\n",
       "      <td>1</td>\n",
       "      <td>01</td>\n",
       "    </tr>\n",
       "    <tr>\n",
       "      <th>1</th>\n",
       "      <td>1</td>\n",
       "      <td>1</td>\n",
       "      <td>A</td>\n",
       "      <td>0</td>\n",
       "      <td>805020202050</td>\n",
       "      <td>20201028</td>\n",
       "      <td>1</td>\n",
       "      <td>1</td>\n",
       "      <td>1</td>\n",
       "      <td>1</td>\n",
       "      <td>...</td>\n",
       "      <td>40.0</td>\n",
       "      <td>0.000000</td>\n",
       "      <td>0.0</td>\n",
       "      <td>1.000000</td>\n",
       "      <td>0.0</td>\n",
       "      <td>NaN</td>\n",
       "      <td>0</td>\n",
       "      <td>B</td>\n",
       "      <td>0</td>\n",
       "      <td>00</td>\n",
       "    </tr>\n",
       "    <tr>\n",
       "      <th>2</th>\n",
       "      <td>2</td>\n",
       "      <td>2</td>\n",
       "      <td>A</td>\n",
       "      <td>0</td>\n",
       "      <td>805020202050</td>\n",
       "      <td>20201028</td>\n",
       "      <td>1</td>\n",
       "      <td>2</td>\n",
       "      <td>1</td>\n",
       "      <td>1</td>\n",
       "      <td>...</td>\n",
       "      <td>40.0</td>\n",
       "      <td>0.000000</td>\n",
       "      <td>0.0</td>\n",
       "      <td>1.000000</td>\n",
       "      <td>0.0</td>\n",
       "      <td>NaN</td>\n",
       "      <td>0</td>\n",
       "      <td>B</td>\n",
       "      <td>0</td>\n",
       "      <td>00</td>\n",
       "    </tr>\n",
       "    <tr>\n",
       "      <th>3</th>\n",
       "      <td>3</td>\n",
       "      <td>3</td>\n",
       "      <td>B</td>\n",
       "      <td>1</td>\n",
       "      <td>805020202050</td>\n",
       "      <td>20201028</td>\n",
       "      <td>1</td>\n",
       "      <td>3</td>\n",
       "      <td>1</td>\n",
       "      <td>1</td>\n",
       "      <td>...</td>\n",
       "      <td>40.0</td>\n",
       "      <td>1.000000</td>\n",
       "      <td>0.0</td>\n",
       "      <td>1.000000</td>\n",
       "      <td>0.0</td>\n",
       "      <td>NaN</td>\n",
       "      <td>0</td>\n",
       "      <td>B</td>\n",
       "      <td>1</td>\n",
       "      <td>01</td>\n",
       "    </tr>\n",
       "    <tr>\n",
       "      <th>4</th>\n",
       "      <td>4</td>\n",
       "      <td>4</td>\n",
       "      <td>B</td>\n",
       "      <td>0</td>\n",
       "      <td>805020202050</td>\n",
       "      <td>20201028</td>\n",
       "      <td>1</td>\n",
       "      <td>4</td>\n",
       "      <td>1</td>\n",
       "      <td>1</td>\n",
       "      <td>...</td>\n",
       "      <td>40.0</td>\n",
       "      <td>0.666667</td>\n",
       "      <td>0.0</td>\n",
       "      <td>0.666667</td>\n",
       "      <td>0.0</td>\n",
       "      <td>NaN</td>\n",
       "      <td>0</td>\n",
       "      <td>B</td>\n",
       "      <td>1</td>\n",
       "      <td>01</td>\n",
       "    </tr>\n",
       "    <tr>\n",
       "      <th>...</th>\n",
       "      <td>...</td>\n",
       "      <td>...</td>\n",
       "      <td>...</td>\n",
       "      <td>...</td>\n",
       "      <td>...</td>\n",
       "      <td>...</td>\n",
       "      <td>...</td>\n",
       "      <td>...</td>\n",
       "      <td>...</td>\n",
       "      <td>...</td>\n",
       "      <td>...</td>\n",
       "      <td>...</td>\n",
       "      <td>...</td>\n",
       "      <td>...</td>\n",
       "      <td>...</td>\n",
       "      <td>...</td>\n",
       "      <td>...</td>\n",
       "      <td>...</td>\n",
       "      <td>...</td>\n",
       "      <td>...</td>\n",
       "      <td>...</td>\n",
       "    </tr>\n",
       "    <tr>\n",
       "      <th>13288</th>\n",
       "      <td>13288</td>\n",
       "      <td>2</td>\n",
       "      <td>A</td>\n",
       "      <td>1</td>\n",
       "      <td>508020208020</td>\n",
       "      <td>20201107</td>\n",
       "      <td>6</td>\n",
       "      <td>175</td>\n",
       "      <td>11</td>\n",
       "      <td>3</td>\n",
       "      <td>...</td>\n",
       "      <td>45.0</td>\n",
       "      <td>0.700000</td>\n",
       "      <td>0.7</td>\n",
       "      <td>0.200000</td>\n",
       "      <td>0.3</td>\n",
       "      <td>A</td>\n",
       "      <td>1</td>\n",
       "      <td>NaN</td>\n",
       "      <td>0</td>\n",
       "      <td>10</td>\n",
       "    </tr>\n",
       "    <tr>\n",
       "      <th>13289</th>\n",
       "      <td>13289</td>\n",
       "      <td>1</td>\n",
       "      <td>A</td>\n",
       "      <td>0</td>\n",
       "      <td>508020208020</td>\n",
       "      <td>20201107</td>\n",
       "      <td>6</td>\n",
       "      <td>176</td>\n",
       "      <td>11</td>\n",
       "      <td>3</td>\n",
       "      <td>...</td>\n",
       "      <td>45.0</td>\n",
       "      <td>0.600000</td>\n",
       "      <td>0.6</td>\n",
       "      <td>0.200000</td>\n",
       "      <td>0.3</td>\n",
       "      <td>A</td>\n",
       "      <td>1</td>\n",
       "      <td>NaN</td>\n",
       "      <td>0</td>\n",
       "      <td>10</td>\n",
       "    </tr>\n",
       "    <tr>\n",
       "      <th>13290</th>\n",
       "      <td>13290</td>\n",
       "      <td>2</td>\n",
       "      <td>A</td>\n",
       "      <td>0</td>\n",
       "      <td>508020208020</td>\n",
       "      <td>20201107</td>\n",
       "      <td>6</td>\n",
       "      <td>177</td>\n",
       "      <td>11</td>\n",
       "      <td>3</td>\n",
       "      <td>...</td>\n",
       "      <td>45.0</td>\n",
       "      <td>0.500000</td>\n",
       "      <td>0.5</td>\n",
       "      <td>0.200000</td>\n",
       "      <td>0.3</td>\n",
       "      <td>A</td>\n",
       "      <td>1</td>\n",
       "      <td>NaN</td>\n",
       "      <td>0</td>\n",
       "      <td>10</td>\n",
       "    </tr>\n",
       "    <tr>\n",
       "      <th>13291</th>\n",
       "      <td>13291</td>\n",
       "      <td>1</td>\n",
       "      <td>A</td>\n",
       "      <td>1</td>\n",
       "      <td>508020208020</td>\n",
       "      <td>20201107</td>\n",
       "      <td>6</td>\n",
       "      <td>178</td>\n",
       "      <td>11</td>\n",
       "      <td>3</td>\n",
       "      <td>...</td>\n",
       "      <td>45.0</td>\n",
       "      <td>0.600000</td>\n",
       "      <td>0.6</td>\n",
       "      <td>0.200000</td>\n",
       "      <td>0.3</td>\n",
       "      <td>A</td>\n",
       "      <td>1</td>\n",
       "      <td>NaN</td>\n",
       "      <td>0</td>\n",
       "      <td>10</td>\n",
       "    </tr>\n",
       "    <tr>\n",
       "      <th>13292</th>\n",
       "      <td>13292</td>\n",
       "      <td>2</td>\n",
       "      <td>A</td>\n",
       "      <td>1</td>\n",
       "      <td>508020208020</td>\n",
       "      <td>20201107</td>\n",
       "      <td>6</td>\n",
       "      <td>179</td>\n",
       "      <td>11</td>\n",
       "      <td>3</td>\n",
       "      <td>...</td>\n",
       "      <td>45.0</td>\n",
       "      <td>0.600000</td>\n",
       "      <td>0.6</td>\n",
       "      <td>0.200000</td>\n",
       "      <td>0.3</td>\n",
       "      <td>A</td>\n",
       "      <td>1</td>\n",
       "      <td>NaN</td>\n",
       "      <td>0</td>\n",
       "      <td>10</td>\n",
       "    </tr>\n",
       "  </tbody>\n",
       "</table>\n",
       "<p>13293 rows × 23 columns</p>\n",
       "</div>"
      ],
      "text/plain": [
       "       Unnamed: 0  leaf stem  reward   contingency      date  session  trial  \\\n",
       "0               0     4    B       1  805020202050  20201028        1      0   \n",
       "1               1     1    A       0  805020202050  20201028        1      1   \n",
       "2               2     2    A       0  805020202050  20201028        1      2   \n",
       "3               3     3    B       1  805020202050  20201028        1      3   \n",
       "4               4     4    B       0  805020202050  20201028        1      4   \n",
       "...           ...   ...  ...     ...           ...       ...      ...    ...   \n",
       "13288       13288     2    A       1  508020208020  20201107        6    175   \n",
       "13289       13289     1    A       0  508020208020  20201107        6    176   \n",
       "13290       13290     2    A       0  508020208020  20201107        6    177   \n",
       "13291       13291     1    A       1  508020208020  20201107        6    178   \n",
       "13292       13292     2    A       1  508020208020  20201107        6    179   \n",
       "\n",
       "       day  cont_num  ...  glob_nom_avg  rew_rate  rolling_avg_A  \\\n",
       "0        1         1  ...          40.0  1.000000            0.0   \n",
       "1        1         1  ...          40.0  0.000000            0.0   \n",
       "2        1         1  ...          40.0  0.000000            0.0   \n",
       "3        1         1  ...          40.0  1.000000            0.0   \n",
       "4        1         1  ...          40.0  0.666667            0.0   \n",
       "...    ...       ...  ...           ...       ...            ...   \n",
       "13288   11         3  ...          45.0  0.700000            0.7   \n",
       "13289   11         3  ...          45.0  0.600000            0.6   \n",
       "13290   11         3  ...          45.0  0.500000            0.5   \n",
       "13291   11         3  ...          45.0  0.600000            0.6   \n",
       "13292   11         3  ...          45.0  0.600000            0.6   \n",
       "\n",
       "       rolling_avg_B  rolling_avg_C  best_stem  at_best  best_stem2 at_best2  \\\n",
       "0           1.000000            0.0        NaN        0           B        1   \n",
       "1           1.000000            0.0        NaN        0           B        0   \n",
       "2           1.000000            0.0        NaN        0           B        0   \n",
       "3           1.000000            0.0        NaN        0           B        1   \n",
       "4           0.666667            0.0        NaN        0           B        1   \n",
       "...              ...            ...        ...      ...         ...      ...   \n",
       "13288       0.200000            0.3          A        1         NaN        0   \n",
       "13289       0.200000            0.3          A        1         NaN        0   \n",
       "13290       0.200000            0.3          A        1         NaN        0   \n",
       "13291       0.200000            0.3          A        1         NaN        0   \n",
       "13292       0.200000            0.3          A        1         NaN        0   \n",
       "\n",
       "      best_all  \n",
       "0           01  \n",
       "1           00  \n",
       "2           00  \n",
       "3           01  \n",
       "4           01  \n",
       "...        ...  \n",
       "13288       10  \n",
       "13289       10  \n",
       "13290       10  \n",
       "13291       10  \n",
       "13292       10  \n",
       "\n",
       "[13293 rows x 23 columns]"
      ]
     },
     "execution_count": 301,
     "metadata": {},
     "output_type": "execute_result"
    }
   ],
   "source": [
    "#Need to go back to observations. Would like to plot what AC plots- reward rate, visits \n"
   ]
  },
  {
   "cell_type": "markdown",
   "id": "1164a971-9e23-4ff6-814c-5cc34a4bb634",
   "metadata": {},
   "source": [
    "#now would like to see what the exp rew rate is right before the rat leaves a stem. "
   ]
  },
  {
   "cell_type": "code",
   "execution_count": 323,
   "id": "10297571-bd1b-4c14-bc49-45e10af6ad35",
   "metadata": {},
   "outputs": [],
   "source": [
    "ix_stem_switch = df[df['stem_switch']==1].index\n",
    "right_before_switch_ix = ix_stem_switch-1\n",
    "list_of_avg_right_before_switch = []\n",
    "for ix in range(1,len(right_before_switch_ix)):\n",
    "    curr_stem = df.loc[right_before_switch_ix[ix],'stem']\n",
    "    avg_at_stem = f'rolling_avg_{curr_stem}'\n",
    "    curr_avg = df.loc[right_before_switch_ix[ix],avg_at_stem]\n",
    "    list_of_avg_right_before_switch.append(curr_avg)\n",
    "#print(curr_stem, curr_avg)\n"
   ]
  },
  {
   "cell_type": "code",
   "execution_count": 327,
   "id": "1b34d94c-7edf-4e48-b3af-0c999141c4b1",
   "metadata": {},
   "outputs": [
    {
     "data": {
      "text/plain": [
       "Text(0, 0.5, 'experienced probability')"
      ]
     },
     "execution_count": 327,
     "metadata": {},
     "output_type": "execute_result"
    },
    {
     "data": {
      "image/png": "[encoded data removed]",
      "text/plain": [
       "<Figure size 432x288 with 1 Axes>"
      ]
     },
     "metadata": {
      "needs_background": "light"
     },
     "output_type": "display_data"
    }
   ],
   "source": [
    "plt.plot(list_of_avg_right_before_switch)\n",
    "plt.title('experienced prob at current stem in trial before leaving')\n",
    "plt.xlabel('stem bout number')\n",
    "plt.ylabel('experienced probability')"
   ]
  },
  {
   "cell_type": "code",
   "execution_count": 334,
   "id": "55339905-25b4-4ee3-a0e1-feb64375eb0b",
   "metadata": {},
   "outputs": [
    {
     "data": {
      "text/plain": [
       "Int64Index([   60,   120,   240,   300,   420,   480,   600,   660,   780,\n",
       "              840,\n",
       "            ...\n",
       "            12453, 12513, 12633, 12693, 12813, 12873, 12993, 13053, 13173,\n",
       "            13233],\n",
       "           dtype='int64', length=148)"
      ]
     },
     "execution_count": 334,
     "metadata": {},
     "output_type": "execute_result"
    }
   ],
   "source": [
    "#now, how many trials after cont_change does rat switch stem \n",
    "\n",
    "cont_change_2_3_ix = df[(df['session_chng']!=1) & (df['new_cont']==1)].index\n",
    "cont_change_2_3_ix"
   ]
  },
  {
   "cell_type": "code",
   "execution_count": 411,
   "id": "6d8bac45-c3b4-4153-adef-832cc1b44114",
   "metadata": {},
   "outputs": [
    {
     "name": "stdout",
     "output_type": "stream",
     "text": [
      "148 74 74\n"
     ]
    }
   ],
   "source": [
    "lst_of_num_trials_at_stem_post_cont_change = []\n",
    "for ix in range(len(cont_change_2_3_ix)):\n",
    "    df1 = df[cont_change_2_3_ix[ix]:]\n",
    "    trial_of_first_stem_switch = df1.loc[df1.stem_switch.ne(0).idxmax()]['trial']\n",
    "    trial_of_first_stem_switch\n",
    "    if (trial_of_first_stem_switch <120):\n",
    "        trial_of_first_stem_switch = trial_of_first_stem_switch-60\n",
    "    elif (trial_of_first_stem_switch >120):\n",
    "        trial_of_first_stem_switch = trial_of_first_stem_switch-120\n",
    "#trial_of_first_stem_switch\n",
    "    lst_of_num_trials_at_stem_post_cont_change.append(trial_of_first_stem_switch) \n",
    "lst_of_num_trials_at_stem_post_cont_change1=lst_of_num_trials_at_stem_post_cont_change[0::2]\n",
    "lst_of_num_trials_at_stem_post_cont_change2=lst_of_num_trials_at_stem_post_cont_change[1::2]\n"
   ]
  },
  {
   "cell_type": "code",
   "execution_count": 381,
   "id": "4c089e47-c2f5-4088-af99-d24c31880b0c",
   "metadata": {},
   "outputs": [
    {
     "data": {
      "text/plain": [
       "-60"
      ]
     },
     "execution_count": 381,
     "metadata": {},
     "output_type": "execute_result"
    }
   ],
   "source": [
    "# ix = 79\n",
    "# df1 = df[cont_change_2_3_ix[ix]:]\n",
    "# df1\n",
    "# trial_of_first_stem_switch = df1.loc[df1.stem_switch.ne(0).idxmax()]['trial']\n",
    "# trial_of_first_stem_switch\n",
    "# if (trial_of_first_stem_switch <120):\n",
    "#         trial_of_first_stem_switch = trial_of_first_stem_switch-60\n",
    "# elif (trial_of_first_stem_switch >120):\n",
    "#         trial_of_first_stem_switch = trial_of_first_stem_switch-120\n",
    "# trial_of_first_stem_switch\n"
   ]
  },
  {
   "cell_type": "code",
   "execution_count": 380,
   "id": "322b3e6c-fa34-4c41-b173-cbdc608cae68",
   "metadata": {},
   "outputs": [
    {
     "data": {
      "text/plain": [
       "-60"
      ]
     },
     "execution_count": 380,
     "metadata": {},
     "output_type": "execute_result"
    }
   ],
   "source": [
    "#lst_of_num_trials_at_stem_post_cont_change[79]"
   ]
  },
  {
   "cell_type": "code",
   "execution_count": 414,
   "id": "edc6d0f0-1549-4f69-9e42-56404c5decd7",
   "metadata": {},
   "outputs": [
    {
     "data": {
      "text/plain": [
       "(0.0, 60.0)"
      ]
     },
     "execution_count": 414,
     "metadata": {},
     "output_type": "execute_result"
    },
    {
     "data": {
      "image/png": "[encoded data removed]",
      "text/plain": [
       "<Figure size 432x288 with 1 Axes>"
      ]
     },
     "metadata": {
      "needs_background": "light"
     },
     "output_type": "display_data"
    }
   ],
   "source": [
    "plt.scatter(range(len(lst_of_num_trials_at_stem_post_cont_change1)),lst_of_num_trials_at_stem_post_cont_change1, c='r')\n",
    "plt.scatter(range(len(lst_of_num_trials_at_stem_post_cont_change2)),lst_of_num_trials_at_stem_post_cont_change2, c='b')\n",
    "plt.title('number of trial before switching stems after cont change, r=2nd cont, b= 3rd')\n",
    "plt.xlabel('cont-switch number')\n",
    "plt.ylabel('number of trial before switching stems')\n",
    "plt.ylim(0,60)"
   ]
  },
  {
   "cell_type": "code",
   "execution_count": null,
   "id": "02265259-19d2-4fd5-b388-d6e9996c6480",
   "metadata": {},
   "outputs": [],
   "source": []
  },
  {
   "cell_type": "code",
   "execution_count": 391,
   "id": "7f842c9a-a1ff-40a9-b3f0-8a9b5bdc26c6",
   "metadata": {},
   "outputs": [
    {
     "data": {
      "text/plain": [
       "9"
      ]
     },
     "execution_count": 391,
     "metadata": {},
     "output_type": "execute_result"
    }
   ],
   "source": [
    "lst_of_num_trials_at_stem_post_cont_change[lst_of_num_trials_at_stem_post_cont_change==120]"
   ]
  },
  {
   "cell_type": "code",
   "execution_count": 401,
   "id": "0bceadfb-ae69-4822-9e6b-eb31e026b18f",
   "metadata": {},
   "outputs": [
    {
     "data": {
      "text/plain": [
       "[9,\n",
       " 5,\n",
       " 3,\n",
       " 11,\n",
       " 6,\n",
       " 10,\n",
       " 12,\n",
       " 8,\n",
       " 2,\n",
       " 7,\n",
       " 15,\n",
       " 28,\n",
       " 16,\n",
       " 12,\n",
       " 21,\n",
       " 36,\n",
       " 36,\n",
       " 74,\n",
       " 5,\n",
       " 7,\n",
       " 10,\n",
       " 3,\n",
       " 29,\n",
       " 16,\n",
       " 9,\n",
       " 5,\n",
       " 11,\n",
       " 10,\n",
       " 15,\n",
       " 8,\n",
       " 20,\n",
       " 10,\n",
       " 12,\n",
       " 6,\n",
       " 2,\n",
       " 9,\n",
       " 0,\n",
       " 11,\n",
       " 13,\n",
       " 16,\n",
       " 4,\n",
       " 3,\n",
       " 7,\n",
       " 6,\n",
       " 2,\n",
       " 2,\n",
       " 2,\n",
       " 2,\n",
       " 2,\n",
       " 44,\n",
       " 8,\n",
       " 21,\n",
       " 0,\n",
       " 6,\n",
       " 7,\n",
       " 6,\n",
       " 6,\n",
       " 8,\n",
       " 12,\n",
       " 16,\n",
       " 2,\n",
       " 3,\n",
       " 15,\n",
       " 8,\n",
       " 23,\n",
       " 24,\n",
       " 4,\n",
       " 4,\n",
       " 6,\n",
       " 11,\n",
       " 28,\n",
       " 24,\n",
       " 12,\n",
       " 9,\n",
       " 12,\n",
       " 27,\n",
       " 17,\n",
       " 12,\n",
       " -60,\n",
       " -60,\n",
       " 10,\n",
       " 10,\n",
       " 27,\n",
       " 1,\n",
       " -60,\n",
       " -60,\n",
       " 19,\n",
       " 12,\n",
       " 4,\n",
       " -60,\n",
       " 4,\n",
       " 51,\n",
       " 24,\n",
       " 9,\n",
       " 3,\n",
       " 7,\n",
       " 22,\n",
       " 39,\n",
       " 28,\n",
       " 28,\n",
       " 8,\n",
       " 25,\n",
       " 21,\n",
       " 34,\n",
       " 12,\n",
       " 5,\n",
       " 11,\n",
       " 18,\n",
       " 19,\n",
       " 40,\n",
       " 10,\n",
       " 40,\n",
       " 8,\n",
       " 7,\n",
       " -60,\n",
       " -60,\n",
       " 9,\n",
       " 19,\n",
       " 10,\n",
       " -60,\n",
       " 3,\n",
       " 16,\n",
       " 48,\n",
       " 120,\n",
       " 3,\n",
       " 27,\n",
       " 10,\n",
       " 8,\n",
       " 19,\n",
       " -57,\n",
       " 2,\n",
       " 6,\n",
       " 7,\n",
       " 8,\n",
       " 4,\n",
       " 11,\n",
       " 11,\n",
       " 28,\n",
       " 17,\n",
       " 19,\n",
       " 8,\n",
       " 12,\n",
       " 12,\n",
       " 3,\n",
       " 7,\n",
       " 28,\n",
       " 12,\n",
       " 17]"
      ]
     },
     "execution_count": 401,
     "metadata": {},
     "output_type": "execute_result"
    }
   ],
   "source": [
    "lst_of_num_trials_at_stem_post_cont_change"
   ]
  },
  {
   "cell_type": "code",
   "execution_count": null,
   "id": "de10d0f4-03f3-4d17-80fd-9f16c0c95ea6",
   "metadata": {},
   "outputs": [],
   "source": []
  }
 ],
 "metadata": {
  "kernelspec": {
   "display_name": "Python 3 (ipykernel)",
   "language": "python",
   "name": "python3"
  },
  "language_info": {
   "codemirror_mode": {
    "name": "ipython",
    "version": 3
   },
   "file_extension": ".py",
   "mimetype": "text/x-python",
   "name": "python",
   "nbconvert_exporter": "python",
   "pygments_lexer": "ipython3",
   "version": "3.9.13"
  }
 },
 "nbformat": 4,
 "nbformat_minor": 5
}
